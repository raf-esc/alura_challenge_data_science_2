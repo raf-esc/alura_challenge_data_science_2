{
  "nbformat": 4,
  "nbformat_minor": 0,
  "metadata": {
    "colab": {
      "provenance": [],
      "mount_file_id": "1gKBazbXE4IQHD5KnYH2G76Rl6YeIaad5",
      "authorship_tag": "ABX9TyNOd7tRAZQD6plYQJVDjgzY",
      "include_colab_link": true
    },
    "kernelspec": {
      "name": "python3",
      "display_name": "Python 3"
    },
    "language_info": {
      "name": "python"
    }
  },
  "cells": [
    {
      "cell_type": "markdown",
      "metadata": {
        "id": "view-in-github",
        "colab_type": "text"
      },
      "source": [
        "<a href=\"https://colab.research.google.com/github/raf-esc/alura_challenge_data_science_2/blob/main/semana_1/alura_challenge_data_science_2_semana_1.ipynb\" target=\"_parent\"><img src=\"https://colab.research.google.com/assets/colab-badge.svg\" alt=\"Open In Colab\"/></a>"
      ]
    },
    {
      "cell_type": "markdown",
      "source": [
        "# Alura - Challenge Data Science 2 - Semana 1"
      ],
      "metadata": {
        "id": "jOyQIsAeiqBH"
      }
    },
    {
      "cell_type": "markdown",
      "source": [
        "## 1ª Tarefa - Preparar o Ambiente e Carregar a Base de Dados"
      ],
      "metadata": {
        "id": "SRBhcF2Mj32-"
      }
    },
    {
      "cell_type": "code",
      "execution_count": 1,
      "metadata": {
        "colab": {
          "base_uri": "https://localhost:8080/"
        },
        "id": "Lba3oTz6ilXo",
        "outputId": "2f181cbc-ec2d-4006-c35a-1a915099ffe7"
      },
      "outputs": [
        {
          "output_type": "stream",
          "name": "stdout",
          "text": [
            "Collecting pyspark\n",
            "  Downloading pyspark-3.5.0.tar.gz (316.9 MB)\n",
            "\u001b[2K     \u001b[90m━━━━━━━━━━━━━━━━━━━━━━━━━━━━━━━━━━━━━━━━\u001b[0m \u001b[32m316.9/316.9 MB\u001b[0m \u001b[31m3.6 MB/s\u001b[0m eta \u001b[36m0:00:00\u001b[0m\n",
            "\u001b[?25h  Preparing metadata (setup.py) ... \u001b[?25l\u001b[?25hdone\n",
            "Requirement already satisfied: py4j==0.10.9.7 in /usr/local/lib/python3.10/dist-packages (from pyspark) (0.10.9.7)\n",
            "Building wheels for collected packages: pyspark\n",
            "  Building wheel for pyspark (setup.py) ... \u001b[?25l\u001b[?25hdone\n",
            "  Created wheel for pyspark: filename=pyspark-3.5.0-py2.py3-none-any.whl size=317425345 sha256=b54b6375199e3094e7006bcc02373732b79b71c486a7356f46d7b50313ed33f8\n",
            "  Stored in directory: /root/.cache/pip/wheels/41/4e/10/c2cf2467f71c678cfc8a6b9ac9241e5e44a01940da8fbb17fc\n",
            "Successfully built pyspark\n",
            "Installing collected packages: pyspark\n",
            "Successfully installed pyspark-3.5.0\n"
          ]
        }
      ],
      "source": [
        "!pip install pyspark"
      ]
    },
    {
      "cell_type": "code",
      "source": [
        "from pyspark.sql import SparkSession\n",
        "from pyspark.sql import functions as f\n",
        "from pyspark.sql.types import IntegerType, DoubleType, StringType"
      ],
      "metadata": {
        "id": "suzPAmTklUav"
      },
      "execution_count": 2,
      "outputs": []
    },
    {
      "cell_type": "code",
      "source": [
        "spark = SparkSession.builder.master('local[*]').getOrCreate()"
      ],
      "metadata": {
        "id": "PxsXDPK5l0OW"
      },
      "execution_count": 3,
      "outputs": []
    },
    {
      "cell_type": "code",
      "source": [
        "df = spark.read.json('/content/drive/MyDrive/Alura/Challenge - Data Science 2')"
      ],
      "metadata": {
        "id": "H4WcNnMXmdhf"
      },
      "execution_count": 4,
      "outputs": []
    },
    {
      "cell_type": "markdown",
      "source": [
        "## 2ª Tarefa - Explorar a base de dados utilizando recursos do PySpark"
      ],
      "metadata": {
        "id": "8KJLcfuloB3C"
      }
    },
    {
      "cell_type": "code",
      "source": [
        "df.show(10)"
      ],
      "metadata": {
        "colab": {
          "base_uri": "https://localhost:8080/"
        },
        "id": "mr7ixCvGJ63x",
        "outputId": "92b84822-bb35-4c90-95d3-dd293b9bbc69"
      },
      "execution_count": 5,
      "outputs": [
        {
          "output_type": "stream",
          "name": "stdout",
          "text": [
            "+--------------------+--------------------+--------------------+\n",
            "|             anuncio|             imagens|             usuario|\n",
            "+--------------------+--------------------+--------------------+\n",
            "|{0, [], [16], [0]...|[{39d6282a-71f3-4...|{9d44563d-3405-4e...|\n",
            "|{0, [], [14], [0]...|[{23d2b3ab-45b0-4...|{36245be7-70fe-40...|\n",
            "|{0, [1026], [1026...|[{1da65baa-368b-4...|{9dc415d8-1397-4d...|\n",
            "|{0, [120], [120],...|[{79b542c6-49b4-4...|{9911a2df-f299-4a...|\n",
            "|{0, [3], [3], [0]...|[{e2bc497b-6510-4...|{240a7aab-12e5-40...|\n",
            "|{0, [20], [15], [...|[{2de09d46-dc0d-4...|{3c7057f5-0923-42...|\n",
            "|{3, [43], [43], [...|[{147a80d9-cd40-4...|{5a9736b5-aaa0-4a...|\n",
            "|{2, [42], [42], [...|[{35740004-063d-4...|{ec48d96a-137c-49...|\n",
            "|{0, [], [12], [0]...|[{6d3d2aec-c96f-4...|{dad7db63-e19c-44...|\n",
            "|{1, [41], [41], [...|[{3d404069-418e-4...|{a845f35f-3ab3-46...|\n",
            "+--------------------+--------------------+--------------------+\n",
            "only showing top 10 rows\n",
            "\n"
          ]
        }
      ]
    },
    {
      "cell_type": "code",
      "source": [
        "df.printSchema()"
      ],
      "metadata": {
        "colab": {
          "base_uri": "https://localhost:8080/"
        },
        "id": "m4cRxLPRqBhQ",
        "outputId": "a1c428fb-1aba-4c99-fda1-159bb926a083"
      },
      "execution_count": 6,
      "outputs": [
        {
          "output_type": "stream",
          "name": "stdout",
          "text": [
            "root\n",
            " |-- anuncio: struct (nullable = true)\n",
            " |    |-- andar: long (nullable = true)\n",
            " |    |-- area_total: array (nullable = true)\n",
            " |    |    |-- element: string (containsNull = true)\n",
            " |    |-- area_util: array (nullable = true)\n",
            " |    |    |-- element: string (containsNull = true)\n",
            " |    |-- banheiros: array (nullable = true)\n",
            " |    |    |-- element: long (containsNull = true)\n",
            " |    |-- caracteristicas: array (nullable = true)\n",
            " |    |    |-- element: string (containsNull = true)\n",
            " |    |-- endereco: struct (nullable = true)\n",
            " |    |    |-- bairro: string (nullable = true)\n",
            " |    |    |-- cep: string (nullable = true)\n",
            " |    |    |-- cidade: string (nullable = true)\n",
            " |    |    |-- estado: string (nullable = true)\n",
            " |    |    |-- latitude: double (nullable = true)\n",
            " |    |    |-- longitude: double (nullable = true)\n",
            " |    |    |-- pais: string (nullable = true)\n",
            " |    |    |-- rua: string (nullable = true)\n",
            " |    |    |-- zona: string (nullable = true)\n",
            " |    |-- id: string (nullable = true)\n",
            " |    |-- quartos: array (nullable = true)\n",
            " |    |    |-- element: long (containsNull = true)\n",
            " |    |-- suites: array (nullable = true)\n",
            " |    |    |-- element: long (containsNull = true)\n",
            " |    |-- tipo_anuncio: string (nullable = true)\n",
            " |    |-- tipo_unidade: string (nullable = true)\n",
            " |    |-- tipo_uso: string (nullable = true)\n",
            " |    |-- vaga: array (nullable = true)\n",
            " |    |    |-- element: long (containsNull = true)\n",
            " |    |-- valores: array (nullable = true)\n",
            " |    |    |-- element: struct (containsNull = true)\n",
            " |    |    |    |-- condominio: string (nullable = true)\n",
            " |    |    |    |-- iptu: string (nullable = true)\n",
            " |    |    |    |-- tipo: string (nullable = true)\n",
            " |    |    |    |-- valor: string (nullable = true)\n",
            " |-- imagens: array (nullable = true)\n",
            " |    |-- element: struct (containsNull = true)\n",
            " |    |    |-- id: string (nullable = true)\n",
            " |    |    |-- url: string (nullable = true)\n",
            " |-- usuario: struct (nullable = true)\n",
            " |    |-- id: string (nullable = true)\n",
            " |    |-- nome: string (nullable = true)\n",
            "\n"
          ]
        }
      ]
    },
    {
      "cell_type": "code",
      "source": [
        "print(f'Número de registros no dataframe inicial: {df.count()}.')"
      ],
      "metadata": {
        "colab": {
          "base_uri": "https://localhost:8080/"
        },
        "id": "aBF7ny_hqFAI",
        "outputId": "9cc82800-c05f-498e-9d74-97ecdc9b782b"
      },
      "execution_count": 7,
      "outputs": [
        {
          "output_type": "stream",
          "name": "stdout",
          "text": [
            "Número de registros no dataframe inicial: 89083.\n"
          ]
        }
      ]
    },
    {
      "cell_type": "markdown",
      "source": [
        "## 3ª Tarefa - Transformar cada campo da coluna \"anuncio\" em uma coluna separada"
      ],
      "metadata": {
        "id": "_hPkcEZVtaOY"
      }
    },
    {
      "cell_type": "markdown",
      "source": [
        "Nossa base de dados possui 3 campos principais:\n",
        "\n",
        "- anuncio\n",
        "\n",
        "- imagens\n",
        "\n",
        "- usuario\n",
        "\n",
        "Para nossa análise, apenas as informações do campo \"anuncio\" serão relevantes. Por isso, vamos focar em analisar as colunas desse campo."
      ],
      "metadata": {
        "id": "bBl74EWcthCt"
      }
    },
    {
      "cell_type": "markdown",
      "source": [
        "Dicionário de dados:\n",
        "\n",
        "![Dicionário - semana 1.PNG](data:image/png;base64,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)\n",
        "\n",
        "[fonte](https://github.com/millenagena/Challenge-Data-Science-Alura-2ed/blob/main/1-Transformando-os-dados/dados/README.md#dicion%C3%A1rio-de-dados---anuncio)"
      ],
      "metadata": {
        "id": "kpsD7nCCqZuH"
      }
    },
    {
      "cell_type": "code",
      "source": [
        "df_anuncios = df.select('anuncio.*')"
      ],
      "metadata": {
        "id": "57fl65jMwq0z"
      },
      "execution_count": 8,
      "outputs": []
    },
    {
      "cell_type": "code",
      "source": [
        "df_anuncios.show(10)"
      ],
      "metadata": {
        "colab": {
          "base_uri": "https://localhost:8080/"
        },
        "id": "195mOy4xsGRh",
        "outputId": "71e16cd4-525b-48cb-fa8c-a51321841289"
      },
      "execution_count": 9,
      "outputs": [
        {
          "output_type": "stream",
          "name": "stdout",
          "text": [
            "+-----+----------+---------+---------+--------------------+--------------------+--------------------+-------+------+------------+------------+-----------+----+--------------------+\n",
            "|andar|area_total|area_util|banheiros|     caracteristicas|            endereco|                  id|quartos|suites|tipo_anuncio|tipo_unidade|   tipo_uso|vaga|             valores|\n",
            "+-----+----------+---------+---------+--------------------+--------------------+--------------------+-------+------+------------+------------+-----------+----+--------------------+\n",
            "|    0|        []|     [16]|      [0]|                  []|{Centro, 20061003...|47d553e0-79f2-4a4...|    [0]|   [0]|       Usado|      Outros|  Comercial| [1]|[{260, 107, Venda...|\n",
            "|    0|        []|     [14]|      [0]|                  []|{Centro, 20051040...|b6ffbae1-17f6-487...|    [0]|    []|       Usado|      Outros|  Comercial| [0]|[{260, 107, Venda...|\n",
            "|    0|    [1026]|   [1026]|      [0]|                  []|{Maria da Graça, ...|1fb030a5-9e3e-4a1...|    [0]|    []|       Usado|      Outros|  Comercial| [0]|[{NULL, 1613, Ven...|\n",
            "|    0|     [120]|    [120]|      [0]|[Portão eletrônic...|{Campo Grande, 23...|ac6cb348-69d6-45a...|    [0]|    []|       Usado|      Outros|Residencial|  []|[{80, NULL, Venda...|\n",
            "|    0|       [3]|      [3]|      [0]|                  []|{São Cristóvão, 2...|e032b908-ef42-4d4...|    [0]|    []|       Usado|      Outros|Residencial|  []|[{0, 0, Venda, 50...|\n",
            "|    0|      [20]|     [15]|      [1]|                  []|{Centro, 20231047...|df9cf0b8-b972-433...|    [0]|    []|       Usado|      Outros|  Comercial| [1]|[{223, 87, Venda,...|\n",
            "|    3|      [43]|     [43]|      [1]|[Academia, Churra...|{Paciência, 23585...|d2e3a3aa-09b5-45a...|    [2]|    []|       Usado| Apartamento|Residencial| [1]|[{245, NULL, Vend...|\n",
            "|    2|      [42]|     [42]|      [1]|[Churrasqueira, P...|{Paciência, 23585...|085bab2c-87ad-452...|    [2]|    []|       Usado| Apartamento|Residencial| [1]|[{0, 0, Venda, 15...|\n",
            "|    0|        []|     [12]|      [0]|[Portaria 24h, El...|{Centro, 20231047...|096ad966-dc36-47b...|    [0]|    []|       Usado|      Outros|  Comercial| [1]|[{250, NULL, Vend...|\n",
            "|    1|      [41]|     [41]|      [1]|[Portaria 24h, Co...|{Guaratiba, 23036...|18d22cbe-1b86-476...|    [2]|    []|       Usado| Apartamento|Residencial| [1]|[{0, 0, Venda, 20...|\n",
            "+-----+----------+---------+---------+--------------------+--------------------+--------------------+-------+------+------------+------------+-----------+----+--------------------+\n",
            "only showing top 10 rows\n",
            "\n"
          ]
        }
      ]
    },
    {
      "cell_type": "markdown",
      "source": [
        "## 4ª Tarefa - Filtrar a base de dados"
      ],
      "metadata": {
        "id": "0F2TWdvA1Oaf"
      }
    },
    {
      "cell_type": "markdown",
      "source": [
        "O time de Data Science solicitou que fizéssemos alguns filtros nas colunas tipo_uso, tipo_unidade e tipo_anuncio da nossa base de dados:\n",
        "\n",
        "- tipo_uso: Residencial;\n",
        "\n",
        "- tipo_unidade: Apartamento;\n",
        "\n",
        "- tipo_anuncio: Usado."
      ],
      "metadata": {
        "id": "_G8aR4q-1XQ2"
      }
    },
    {
      "cell_type": "code",
      "source": [
        "df_anuncios.select('tipo_uso').groupBy('tipo_uso')\\\n",
        ".agg(f.count('tipo_uso').alias('contagem')).orderBy('contagem').show()\n",
        "\n",
        "df_anuncios.select('tipo_unidade').groupBy('tipo_unidade')\\\n",
        ".agg(f.count('tipo_unidade').alias('contagem')).orderBy('contagem').show()\n",
        "\n",
        "df_anuncios.select('tipo_anuncio').groupBy('tipo_anuncio')\\\n",
        ".agg(f.count('tipo_anuncio').alias('contagem')).orderBy('contagem').show()"
      ],
      "metadata": {
        "colab": {
          "base_uri": "https://localhost:8080/"
        },
        "id": "_nhgi7t6uQvh",
        "outputId": "6f800f40-d505-4373-c58b-902413b2105c"
      },
      "execution_count": 10,
      "outputs": [
        {
          "output_type": "stream",
          "name": "stdout",
          "text": [
            "+-----------+--------+\n",
            "|   tipo_uso|contagem|\n",
            "+-----------+--------+\n",
            "|  Comercial|    4542|\n",
            "|Residencial|   84541|\n",
            "+-----------+--------+\n",
            "\n",
            "+------------+--------+\n",
            "|tipo_unidade|contagem|\n",
            "+------------+--------+\n",
            "|        Casa|   10319|\n",
            "|      Outros|   11963|\n",
            "| Apartamento|   66801|\n",
            "+------------+--------+\n",
            "\n",
            "+------------+--------+\n",
            "|tipo_anuncio|contagem|\n",
            "+------------+--------+\n",
            "|  Lançamento|     256|\n",
            "|       Usado|   88827|\n",
            "+------------+--------+\n",
            "\n"
          ]
        }
      ]
    },
    {
      "cell_type": "code",
      "source": [
        "df_filtrado = df_anuncios.filter('tipo_uso == \"Residencial\"')\\\n",
        ".filter('tipo_unidade == \"Apartamento\"').filter('tipo_anuncio == \"Usado\"')\n",
        "\n",
        "df_filtrado.show(10)\n",
        "\n",
        "print(f'Número de registros no dataframe após filtragem: {df_filtrado.count()}.')"
      ],
      "metadata": {
        "colab": {
          "base_uri": "https://localhost:8080/"
        },
        "id": "LMy7FtkMbS8n",
        "outputId": "7c0bc9ec-f47d-4025-8774-b4860e97d6eb"
      },
      "execution_count": 11,
      "outputs": [
        {
          "output_type": "stream",
          "name": "stdout",
          "text": [
            "+-----+----------+---------+---------+--------------------+--------------------+--------------------+-------+------+------------+------------+-----------+----+--------------------+\n",
            "|andar|area_total|area_util|banheiros|     caracteristicas|            endereco|                  id|quartos|suites|tipo_anuncio|tipo_unidade|   tipo_uso|vaga|             valores|\n",
            "+-----+----------+---------+---------+--------------------+--------------------+--------------------+-------+------+------------+------------+-----------+----+--------------------+\n",
            "|    3|      [43]|     [43]|      [1]|[Academia, Churra...|{Paciência, 23585...|d2e3a3aa-09b5-45a...|    [2]|    []|       Usado| Apartamento|Residencial| [1]|[{245, NULL, Vend...|\n",
            "|    2|      [42]|     [42]|      [1]|[Churrasqueira, P...|{Paciência, 23585...|085bab2c-87ad-452...|    [2]|    []|       Usado| Apartamento|Residencial| [1]|[{0, 0, Venda, 15...|\n",
            "|    1|      [41]|     [41]|      [1]|[Portaria 24h, Co...|{Guaratiba, 23036...|18d22cbe-1b86-476...|    [2]|    []|       Usado| Apartamento|Residencial| [1]|[{0, 0, Venda, 20...|\n",
            "|    3|      [43]|     [43]|      [1]|[Churrasqueira, P...|{Cosmos, 23066271...|bed8a354-9317-442...|    [2]|    []|       Usado| Apartamento|Residencial| [0]|[{285, NULL, Vend...|\n",
            "|    2|      [43]|     [43]|      [1]|[Academia, Churra...|{Guaratiba, 23036...|12a13315-d67f-48f...|    [2]|    []|       Usado| Apartamento|Residencial| [1]|[{245, NULL, Vend...|\n",
            "|    3|      [43]|     [43]|      [1]|[Churrasqueira, P...|{Cosmos, 23066271...|a2e6d7a5-0ff0-484...|    [2]|   [0]|       Usado| Apartamento|Residencial| [0]|[{285, NULL, Vend...|\n",
            "|    3|      [43]|     [43]|      [1]|[Churrasqueira, P...|{Paciência, 23585...|a6e3173b-c950-4db...|    [2]|    []|       Usado| Apartamento|Residencial| [1]|[{250, NULL, Vend...|\n",
            "|    3|      [43]|     [43]|      [1]|[Churrasqueira, P...|{Guaratiba, 23036...|2e6e5dfb-206c-496...|    [2]|   [0]|       Usado| Apartamento|Residencial| [1]|[{245, NULL, Vend...|\n",
            "|    3|      [43]|     [43]|      [1]|[Churrasqueira, P...|{Paciência, 23585...|99f8d0f9-95a4-461...|    [2]|   [0]|       Usado| Apartamento|Residencial| [1]|[{245, NULL, Vend...|\n",
            "|    4|      [43]|     [43]|      [1]|[Churrasqueira, P...|{Guaratiba, 23036...|b3f44c1a-2d50-4d5...|    [2]|    []|       Usado| Apartamento|Residencial| [1]|[{240, NULL, Vend...|\n",
            "+-----+----------+---------+---------+--------------------+--------------------+--------------------+-------+------+------------+------------+-----------+----+--------------------+\n",
            "only showing top 10 rows\n",
            "\n",
            "Número de registros no dataframe após filtragem: 66562.\n"
          ]
        }
      ]
    },
    {
      "cell_type": "code",
      "source": [
        "df_filtrado.printSchema()"
      ],
      "metadata": {
        "id": "Kl49-qesB4mG",
        "colab": {
          "base_uri": "https://localhost:8080/"
        },
        "outputId": "cbe7a3f4-106b-4a68-e237-0a8e230288b2"
      },
      "execution_count": 12,
      "outputs": [
        {
          "output_type": "stream",
          "name": "stdout",
          "text": [
            "root\n",
            " |-- andar: long (nullable = true)\n",
            " |-- area_total: array (nullable = true)\n",
            " |    |-- element: string (containsNull = true)\n",
            " |-- area_util: array (nullable = true)\n",
            " |    |-- element: string (containsNull = true)\n",
            " |-- banheiros: array (nullable = true)\n",
            " |    |-- element: long (containsNull = true)\n",
            " |-- caracteristicas: array (nullable = true)\n",
            " |    |-- element: string (containsNull = true)\n",
            " |-- endereco: struct (nullable = true)\n",
            " |    |-- bairro: string (nullable = true)\n",
            " |    |-- cep: string (nullable = true)\n",
            " |    |-- cidade: string (nullable = true)\n",
            " |    |-- estado: string (nullable = true)\n",
            " |    |-- latitude: double (nullable = true)\n",
            " |    |-- longitude: double (nullable = true)\n",
            " |    |-- pais: string (nullable = true)\n",
            " |    |-- rua: string (nullable = true)\n",
            " |    |-- zona: string (nullable = true)\n",
            " |-- id: string (nullable = true)\n",
            " |-- quartos: array (nullable = true)\n",
            " |    |-- element: long (containsNull = true)\n",
            " |-- suites: array (nullable = true)\n",
            " |    |-- element: long (containsNull = true)\n",
            " |-- tipo_anuncio: string (nullable = true)\n",
            " |-- tipo_unidade: string (nullable = true)\n",
            " |-- tipo_uso: string (nullable = true)\n",
            " |-- vaga: array (nullable = true)\n",
            " |    |-- element: long (containsNull = true)\n",
            " |-- valores: array (nullable = true)\n",
            " |    |-- element: struct (containsNull = true)\n",
            " |    |    |-- condominio: string (nullable = true)\n",
            " |    |    |-- iptu: string (nullable = true)\n",
            " |    |    |-- tipo: string (nullable = true)\n",
            " |    |    |-- valor: string (nullable = true)\n",
            "\n"
          ]
        }
      ]
    },
    {
      "cell_type": "markdown",
      "source": [
        "## 5ª Tarefa - Transformar as colunas dos cômodos dos imóveis de listas para inteiros"
      ],
      "metadata": {
        "id": "UPVpCmh1BZ0I"
      }
    },
    {
      "cell_type": "markdown",
      "source": [
        "Como pessoas engenheiras de dados, nós queremos entregar a base de dados de forma mais estruturada para que o time de ciência de dados possa realizar os tratamentos e criação do modelo de machine learning.\n",
        "\n",
        "Nesse contexto, transforme os dados das colunas \"quartos\", \"suites\", \"banheiros\", \"vaga\", \"area_total\" e \"area_util\" de listas para inteiros."
      ],
      "metadata": {
        "id": "9CEGyLSvBerr"
      }
    },
    {
      "cell_type": "code",
      "source": [
        "lista_colunas_comodos = ['area_total', 'area_util', 'banheiros', 'quartos',\n",
        "                         'suites', 'vaga']\n",
        "\n",
        "for coluna in lista_colunas_comodos:\n",
        "  df_filtrado.select(coluna)\\\n",
        "  .withColumn('tamanho_array_' + coluna, f.size(df_filtrado[coluna]))\\\n",
        "  .groupBy('tamanho_array_' + coluna)\\\n",
        "  .agg(f.count('tamanho_array_' + coluna).alias('contagem')).show()"
      ],
      "metadata": {
        "colab": {
          "base_uri": "https://localhost:8080/"
        },
        "id": "gZNp0TeZCcF6",
        "outputId": "34299410-e409-467f-8274-3d17b911bf93"
      },
      "execution_count": 13,
      "outputs": [
        {
          "output_type": "stream",
          "name": "stdout",
          "text": [
            "+------------------------+--------+\n",
            "|tamanho_array_area_total|contagem|\n",
            "+------------------------+--------+\n",
            "|                       1|   57368|\n",
            "|                       0|    9194|\n",
            "+------------------------+--------+\n",
            "\n",
            "+-----------------------+--------+\n",
            "|tamanho_array_area_util|contagem|\n",
            "+-----------------------+--------+\n",
            "|                      1|   66562|\n",
            "+-----------------------+--------+\n",
            "\n",
            "+-----------------------+--------+\n",
            "|tamanho_array_banheiros|contagem|\n",
            "+-----------------------+--------+\n",
            "|                      1|   66562|\n",
            "+-----------------------+--------+\n",
            "\n",
            "+---------------------+--------+\n",
            "|tamanho_array_quartos|contagem|\n",
            "+---------------------+--------+\n",
            "|                    1|   66562|\n",
            "+---------------------+--------+\n",
            "\n",
            "+--------------------+--------+\n",
            "|tamanho_array_suites|contagem|\n",
            "+--------------------+--------+\n",
            "|                   1|   61008|\n",
            "|                   0|    5554|\n",
            "+--------------------+--------+\n",
            "\n",
            "+------------------+--------+\n",
            "|tamanho_array_vaga|contagem|\n",
            "+------------------+--------+\n",
            "|                 1|   63545|\n",
            "|                 0|    3017|\n",
            "+------------------+--------+\n",
            "\n"
          ]
        }
      ]
    },
    {
      "cell_type": "code",
      "source": [
        "df_convertido = df_filtrado\\\n",
        ".withColumn('area_total', df_filtrado['area_total'][0].cast(IntegerType()))\\\n",
        ".withColumn('area_util', df_filtrado['area_util'][0].cast(IntegerType()))\\\n",
        ".withColumn('banheiros', df_filtrado['banheiros'][0].cast(IntegerType()))\\\n",
        ".withColumn('quartos', df_filtrado['quartos'][0].cast(IntegerType()))\\\n",
        ".withColumn('suites', df_filtrado['suites'][0].cast(IntegerType()))\\\n",
        ".withColumn('vaga', df_filtrado['vaga'][0].cast(IntegerType()))\n",
        "\n",
        "df_convertido.show(10)\n",
        "df_convertido.printSchema()"
      ],
      "metadata": {
        "id": "C2CQ4k9sCB0j",
        "colab": {
          "base_uri": "https://localhost:8080/"
        },
        "outputId": "f44d3004-fff0-4bd4-fe67-84ce93ac978d"
      },
      "execution_count": 14,
      "outputs": [
        {
          "output_type": "stream",
          "name": "stdout",
          "text": [
            "+-----+----------+---------+---------+--------------------+--------------------+--------------------+-------+------+------------+------------+-----------+----+--------------------+\n",
            "|andar|area_total|area_util|banheiros|     caracteristicas|            endereco|                  id|quartos|suites|tipo_anuncio|tipo_unidade|   tipo_uso|vaga|             valores|\n",
            "+-----+----------+---------+---------+--------------------+--------------------+--------------------+-------+------+------------+------------+-----------+----+--------------------+\n",
            "|    3|        43|       43|        1|[Academia, Churra...|{Paciência, 23585...|d2e3a3aa-09b5-45a...|      2|  NULL|       Usado| Apartamento|Residencial|   1|[{245, NULL, Vend...|\n",
            "|    2|        42|       42|        1|[Churrasqueira, P...|{Paciência, 23585...|085bab2c-87ad-452...|      2|  NULL|       Usado| Apartamento|Residencial|   1|[{0, 0, Venda, 15...|\n",
            "|    1|        41|       41|        1|[Portaria 24h, Co...|{Guaratiba, 23036...|18d22cbe-1b86-476...|      2|  NULL|       Usado| Apartamento|Residencial|   1|[{0, 0, Venda, 20...|\n",
            "|    3|        43|       43|        1|[Churrasqueira, P...|{Cosmos, 23066271...|bed8a354-9317-442...|      2|  NULL|       Usado| Apartamento|Residencial|   0|[{285, NULL, Vend...|\n",
            "|    2|        43|       43|        1|[Academia, Churra...|{Guaratiba, 23036...|12a13315-d67f-48f...|      2|  NULL|       Usado| Apartamento|Residencial|   1|[{245, NULL, Vend...|\n",
            "|    3|        43|       43|        1|[Churrasqueira, P...|{Cosmos, 23066271...|a2e6d7a5-0ff0-484...|      2|     0|       Usado| Apartamento|Residencial|   0|[{285, NULL, Vend...|\n",
            "|    3|        43|       43|        1|[Churrasqueira, P...|{Paciência, 23585...|a6e3173b-c950-4db...|      2|  NULL|       Usado| Apartamento|Residencial|   1|[{250, NULL, Vend...|\n",
            "|    3|        43|       43|        1|[Churrasqueira, P...|{Guaratiba, 23036...|2e6e5dfb-206c-496...|      2|     0|       Usado| Apartamento|Residencial|   1|[{245, NULL, Vend...|\n",
            "|    3|        43|       43|        1|[Churrasqueira, P...|{Paciência, 23585...|99f8d0f9-95a4-461...|      2|     0|       Usado| Apartamento|Residencial|   1|[{245, NULL, Vend...|\n",
            "|    4|        43|       43|        1|[Churrasqueira, P...|{Guaratiba, 23036...|b3f44c1a-2d50-4d5...|      2|  NULL|       Usado| Apartamento|Residencial|   1|[{240, NULL, Vend...|\n",
            "+-----+----------+---------+---------+--------------------+--------------------+--------------------+-------+------+------------+------------+-----------+----+--------------------+\n",
            "only showing top 10 rows\n",
            "\n",
            "root\n",
            " |-- andar: long (nullable = true)\n",
            " |-- area_total: integer (nullable = true)\n",
            " |-- area_util: integer (nullable = true)\n",
            " |-- banheiros: integer (nullable = true)\n",
            " |-- caracteristicas: array (nullable = true)\n",
            " |    |-- element: string (containsNull = true)\n",
            " |-- endereco: struct (nullable = true)\n",
            " |    |-- bairro: string (nullable = true)\n",
            " |    |-- cep: string (nullable = true)\n",
            " |    |-- cidade: string (nullable = true)\n",
            " |    |-- estado: string (nullable = true)\n",
            " |    |-- latitude: double (nullable = true)\n",
            " |    |-- longitude: double (nullable = true)\n",
            " |    |-- pais: string (nullable = true)\n",
            " |    |-- rua: string (nullable = true)\n",
            " |    |-- zona: string (nullable = true)\n",
            " |-- id: string (nullable = true)\n",
            " |-- quartos: integer (nullable = true)\n",
            " |-- suites: integer (nullable = true)\n",
            " |-- tipo_anuncio: string (nullable = true)\n",
            " |-- tipo_unidade: string (nullable = true)\n",
            " |-- tipo_uso: string (nullable = true)\n",
            " |-- vaga: integer (nullable = true)\n",
            " |-- valores: array (nullable = true)\n",
            " |    |-- element: struct (containsNull = true)\n",
            " |    |    |-- condominio: string (nullable = true)\n",
            " |    |    |-- iptu: string (nullable = true)\n",
            " |    |    |-- tipo: string (nullable = true)\n",
            " |    |    |-- valor: string (nullable = true)\n",
            "\n"
          ]
        }
      ]
    },
    {
      "cell_type": "markdown",
      "source": [
        "## 6ª Tarefa - Tratamento de informações sobre localização"
      ],
      "metadata": {
        "id": "HnYWOcYsQy8a"
      }
    },
    {
      "cell_type": "markdown",
      "source": [
        "A equipe de ciência de dados nos solicitou que apenas as informações sobre bairro e zona da cidade fossem extraídas.\n",
        "\n",
        "Então, vamos analisar a coluna endereco e transformar apenas as informações sobre bairro e zona em colunas de nosso DataFrame."
      ],
      "metadata": {
        "id": "WREPdYx7Q8VF"
      }
    },
    {
      "cell_type": "code",
      "source": [
        "df_com_localizacao = df_convertido\\\n",
        ".withColumn('bairro', df_convertido['endereco']['bairro'])\\\n",
        ".withColumn('zona', df_convertido['endereco']['zona'])\n",
        "\n",
        "df_com_localizacao.show(10)\n",
        "df_com_localizacao.printSchema()"
      ],
      "metadata": {
        "colab": {
          "base_uri": "https://localhost:8080/"
        },
        "id": "gm2OcRLkOFqF",
        "outputId": "d58f6d34-c8e4-4bce-f928-34a1eebe3b6a"
      },
      "execution_count": 15,
      "outputs": [
        {
          "output_type": "stream",
          "name": "stdout",
          "text": [
            "+-----+----------+---------+---------+--------------------+--------------------+--------------------+-------+------+------------+------------+-----------+----+--------------------+---------+----------+\n",
            "|andar|area_total|area_util|banheiros|     caracteristicas|            endereco|                  id|quartos|suites|tipo_anuncio|tipo_unidade|   tipo_uso|vaga|             valores|   bairro|      zona|\n",
            "+-----+----------+---------+---------+--------------------+--------------------+--------------------+-------+------+------------+------------+-----------+----+--------------------+---------+----------+\n",
            "|    3|        43|       43|        1|[Academia, Churra...|{Paciência, 23585...|d2e3a3aa-09b5-45a...|      2|  NULL|       Usado| Apartamento|Residencial|   1|[{245, NULL, Vend...|Paciência|Zona Oeste|\n",
            "|    2|        42|       42|        1|[Churrasqueira, P...|{Paciência, 23585...|085bab2c-87ad-452...|      2|  NULL|       Usado| Apartamento|Residencial|   1|[{0, 0, Venda, 15...|Paciência|Zona Oeste|\n",
            "|    1|        41|       41|        1|[Portaria 24h, Co...|{Guaratiba, 23036...|18d22cbe-1b86-476...|      2|  NULL|       Usado| Apartamento|Residencial|   1|[{0, 0, Venda, 20...|Guaratiba|Zona Oeste|\n",
            "|    3|        43|       43|        1|[Churrasqueira, P...|{Cosmos, 23066271...|bed8a354-9317-442...|      2|  NULL|       Usado| Apartamento|Residencial|   0|[{285, NULL, Vend...|   Cosmos|Zona Oeste|\n",
            "|    2|        43|       43|        1|[Academia, Churra...|{Guaratiba, 23036...|12a13315-d67f-48f...|      2|  NULL|       Usado| Apartamento|Residencial|   1|[{245, NULL, Vend...|Guaratiba|Zona Oeste|\n",
            "|    3|        43|       43|        1|[Churrasqueira, P...|{Cosmos, 23066271...|a2e6d7a5-0ff0-484...|      2|     0|       Usado| Apartamento|Residencial|   0|[{285, NULL, Vend...|   Cosmos|Zona Oeste|\n",
            "|    3|        43|       43|        1|[Churrasqueira, P...|{Paciência, 23585...|a6e3173b-c950-4db...|      2|  NULL|       Usado| Apartamento|Residencial|   1|[{250, NULL, Vend...|Paciência|Zona Oeste|\n",
            "|    3|        43|       43|        1|[Churrasqueira, P...|{Guaratiba, 23036...|2e6e5dfb-206c-496...|      2|     0|       Usado| Apartamento|Residencial|   1|[{245, NULL, Vend...|Guaratiba|Zona Oeste|\n",
            "|    3|        43|       43|        1|[Churrasqueira, P...|{Paciência, 23585...|99f8d0f9-95a4-461...|      2|     0|       Usado| Apartamento|Residencial|   1|[{245, NULL, Vend...|Paciência|Zona Oeste|\n",
            "|    4|        43|       43|        1|[Churrasqueira, P...|{Guaratiba, 23036...|b3f44c1a-2d50-4d5...|      2|  NULL|       Usado| Apartamento|Residencial|   1|[{240, NULL, Vend...|Guaratiba|Zona Oeste|\n",
            "+-----+----------+---------+---------+--------------------+--------------------+--------------------+-------+------+------------+------------+-----------+----+--------------------+---------+----------+\n",
            "only showing top 10 rows\n",
            "\n",
            "root\n",
            " |-- andar: long (nullable = true)\n",
            " |-- area_total: integer (nullable = true)\n",
            " |-- area_util: integer (nullable = true)\n",
            " |-- banheiros: integer (nullable = true)\n",
            " |-- caracteristicas: array (nullable = true)\n",
            " |    |-- element: string (containsNull = true)\n",
            " |-- endereco: struct (nullable = true)\n",
            " |    |-- bairro: string (nullable = true)\n",
            " |    |-- cep: string (nullable = true)\n",
            " |    |-- cidade: string (nullable = true)\n",
            " |    |-- estado: string (nullable = true)\n",
            " |    |-- latitude: double (nullable = true)\n",
            " |    |-- longitude: double (nullable = true)\n",
            " |    |-- pais: string (nullable = true)\n",
            " |    |-- rua: string (nullable = true)\n",
            " |    |-- zona: string (nullable = true)\n",
            " |-- id: string (nullable = true)\n",
            " |-- quartos: integer (nullable = true)\n",
            " |-- suites: integer (nullable = true)\n",
            " |-- tipo_anuncio: string (nullable = true)\n",
            " |-- tipo_unidade: string (nullable = true)\n",
            " |-- tipo_uso: string (nullable = true)\n",
            " |-- vaga: integer (nullable = true)\n",
            " |-- valores: array (nullable = true)\n",
            " |    |-- element: struct (containsNull = true)\n",
            " |    |    |-- condominio: string (nullable = true)\n",
            " |    |    |-- iptu: string (nullable = true)\n",
            " |    |    |-- tipo: string (nullable = true)\n",
            " |    |    |-- valor: string (nullable = true)\n",
            " |-- bairro: string (nullable = true)\n",
            " |-- zona: string (nullable = true)\n",
            "\n"
          ]
        }
      ]
    },
    {
      "cell_type": "code",
      "source": [
        "df_com_localizacao_sem_endereco = df_com_localizacao.drop('endereco')\n",
        "\n",
        "df_com_localizacao_sem_endereco.show(10)\n",
        "df_com_localizacao_sem_endereco.printSchema()"
      ],
      "metadata": {
        "colab": {
          "base_uri": "https://localhost:8080/"
        },
        "id": "kB_XSf5IFxOK",
        "outputId": "c80274ac-a19a-409a-aa7f-74bac5f20252"
      },
      "execution_count": 16,
      "outputs": [
        {
          "output_type": "stream",
          "name": "stdout",
          "text": [
            "+-----+----------+---------+---------+--------------------+--------------------+-------+------+------------+------------+-----------+----+--------------------+---------+----------+\n",
            "|andar|area_total|area_util|banheiros|     caracteristicas|                  id|quartos|suites|tipo_anuncio|tipo_unidade|   tipo_uso|vaga|             valores|   bairro|      zona|\n",
            "+-----+----------+---------+---------+--------------------+--------------------+-------+------+------------+------------+-----------+----+--------------------+---------+----------+\n",
            "|    3|        43|       43|        1|[Academia, Churra...|d2e3a3aa-09b5-45a...|      2|  NULL|       Usado| Apartamento|Residencial|   1|[{245, NULL, Vend...|Paciência|Zona Oeste|\n",
            "|    2|        42|       42|        1|[Churrasqueira, P...|085bab2c-87ad-452...|      2|  NULL|       Usado| Apartamento|Residencial|   1|[{0, 0, Venda, 15...|Paciência|Zona Oeste|\n",
            "|    1|        41|       41|        1|[Portaria 24h, Co...|18d22cbe-1b86-476...|      2|  NULL|       Usado| Apartamento|Residencial|   1|[{0, 0, Venda, 20...|Guaratiba|Zona Oeste|\n",
            "|    3|        43|       43|        1|[Churrasqueira, P...|bed8a354-9317-442...|      2|  NULL|       Usado| Apartamento|Residencial|   0|[{285, NULL, Vend...|   Cosmos|Zona Oeste|\n",
            "|    2|        43|       43|        1|[Academia, Churra...|12a13315-d67f-48f...|      2|  NULL|       Usado| Apartamento|Residencial|   1|[{245, NULL, Vend...|Guaratiba|Zona Oeste|\n",
            "|    3|        43|       43|        1|[Churrasqueira, P...|a2e6d7a5-0ff0-484...|      2|     0|       Usado| Apartamento|Residencial|   0|[{285, NULL, Vend...|   Cosmos|Zona Oeste|\n",
            "|    3|        43|       43|        1|[Churrasqueira, P...|a6e3173b-c950-4db...|      2|  NULL|       Usado| Apartamento|Residencial|   1|[{250, NULL, Vend...|Paciência|Zona Oeste|\n",
            "|    3|        43|       43|        1|[Churrasqueira, P...|2e6e5dfb-206c-496...|      2|     0|       Usado| Apartamento|Residencial|   1|[{245, NULL, Vend...|Guaratiba|Zona Oeste|\n",
            "|    3|        43|       43|        1|[Churrasqueira, P...|99f8d0f9-95a4-461...|      2|     0|       Usado| Apartamento|Residencial|   1|[{245, NULL, Vend...|Paciência|Zona Oeste|\n",
            "|    4|        43|       43|        1|[Churrasqueira, P...|b3f44c1a-2d50-4d5...|      2|  NULL|       Usado| Apartamento|Residencial|   1|[{240, NULL, Vend...|Guaratiba|Zona Oeste|\n",
            "+-----+----------+---------+---------+--------------------+--------------------+-------+------+------------+------------+-----------+----+--------------------+---------+----------+\n",
            "only showing top 10 rows\n",
            "\n",
            "root\n",
            " |-- andar: long (nullable = true)\n",
            " |-- area_total: integer (nullable = true)\n",
            " |-- area_util: integer (nullable = true)\n",
            " |-- banheiros: integer (nullable = true)\n",
            " |-- caracteristicas: array (nullable = true)\n",
            " |    |-- element: string (containsNull = true)\n",
            " |-- id: string (nullable = true)\n",
            " |-- quartos: integer (nullable = true)\n",
            " |-- suites: integer (nullable = true)\n",
            " |-- tipo_anuncio: string (nullable = true)\n",
            " |-- tipo_unidade: string (nullable = true)\n",
            " |-- tipo_uso: string (nullable = true)\n",
            " |-- vaga: integer (nullable = true)\n",
            " |-- valores: array (nullable = true)\n",
            " |    |-- element: struct (containsNull = true)\n",
            " |    |    |-- condominio: string (nullable = true)\n",
            " |    |    |-- iptu: string (nullable = true)\n",
            " |    |    |-- tipo: string (nullable = true)\n",
            " |    |    |-- valor: string (nullable = true)\n",
            " |-- bairro: string (nullable = true)\n",
            " |-- zona: string (nullable = true)\n",
            "\n"
          ]
        }
      ]
    },
    {
      "cell_type": "markdown",
      "source": [
        "## 7ª Tarefa - Transformar cada campo da coluna \"valores\" em uma coluna separada"
      ],
      "metadata": {
        "id": "Wo-IbHueS8eW"
      }
    },
    {
      "cell_type": "markdown",
      "source": [
        "Pensando em simplificar a compreensão dos dados para as pessoas cientistas de dados, vamos entender a estrutura da coluna valores que é a mais importante da base de dados.\n",
        "\n",
        "root\n",
        "\n",
        " |-- valores: array (nullable = true)\n",
        "\n",
        " |    |-- element: struct (containsNull = true)\n",
        "\n",
        " |    |    |-- condominio: string (nullable = true)\n",
        "\n",
        " |    |    |-- iptu: string (nullable = true)\n",
        "\n",
        " |    |    |-- tipo: string (nullable = true)\n",
        "\n",
        " |    |    |-- valor: string (nullable = true)\n",
        "\n",
        "Podemos observar que os valores são do tipo array, ou seja, uma lista que contém elementos. Estes elementos são dicionários com as informações de condominio, iptu, tipo, e valor\n",
        "\n",
        "Nesse contexto, transforme os dados da coluna valores em colunas separadas."
      ],
      "metadata": {
        "id": "Urb9rP0VTC5V"
      }
    },
    {
      "cell_type": "code",
      "source": [
        "df_com_localizacao_sem_endereco\\\n",
        ".select('valores')\\\n",
        ".withColumn('tamanho_array_valores',\n",
        "            f.size(df_com_localizacao_sem_endereco['valores']))\\\n",
        ".groupBy('tamanho_array_valores')\\\n",
        ".agg(f.count('tamanho_array_valores').alias('contagem')).show()"
      ],
      "metadata": {
        "colab": {
          "base_uri": "https://localhost:8080/"
        },
        "id": "iH_zEk6ZSe2r",
        "outputId": "37776406-57d4-440d-da43-67be4cfc33e1"
      },
      "execution_count": 17,
      "outputs": [
        {
          "output_type": "stream",
          "name": "stdout",
          "text": [
            "+---------------------+--------+\n",
            "|tamanho_array_valores|contagem|\n",
            "+---------------------+--------+\n",
            "|                    1|   65941|\n",
            "|                    2|     621|\n",
            "+---------------------+--------+\n",
            "\n"
          ]
        }
      ]
    },
    {
      "cell_type": "code",
      "source": [
        "df_com_localizacao_sem_endereco.count()"
      ],
      "metadata": {
        "colab": {
          "base_uri": "https://localhost:8080/"
        },
        "id": "rw8Z9-m_S-Vn",
        "outputId": "04da0dc6-af02-4de0-8cfb-ac8d8712772e"
      },
      "execution_count": 18,
      "outputs": [
        {
          "output_type": "execute_result",
          "data": {
            "text/plain": [
              "66562"
            ]
          },
          "metadata": {},
          "execution_count": 18
        }
      ]
    },
    {
      "cell_type": "code",
      "source": [
        "df_valores = df_com_localizacao_sem_endereco\\\n",
        ".select(['id', f.explode('valores').alias('valores')])\n",
        "\n",
        "df_valores.show(10)\n",
        "print(f'Número de registros no dataframe de valores: {df_valores.count()}.')"
      ],
      "metadata": {
        "colab": {
          "base_uri": "https://localhost:8080/"
        },
        "id": "JQnkKC1fTLAs",
        "outputId": "ce7dc7fc-a0c3-4bc2-dabd-cb07c7bafc1c"
      },
      "execution_count": 19,
      "outputs": [
        {
          "output_type": "stream",
          "name": "stdout",
          "text": [
            "+--------------------+--------------------+\n",
            "|                  id|             valores|\n",
            "+--------------------+--------------------+\n",
            "|d2e3a3aa-09b5-45a...|{245, NULL, Venda...|\n",
            "|085bab2c-87ad-452...|{0, 0, Venda, 15000}|\n",
            "|18d22cbe-1b86-476...|{0, 0, Venda, 20000}|\n",
            "|bed8a354-9317-442...|{285, NULL, Venda...|\n",
            "|12a13315-d67f-48f...|{245, NULL, Venda...|\n",
            "|a2e6d7a5-0ff0-484...|{285, NULL, Venda...|\n",
            "|a6e3173b-c950-4db...|{250, NULL, Venda...|\n",
            "|2e6e5dfb-206c-496...|{245, NULL, Venda...|\n",
            "|99f8d0f9-95a4-461...|{245, NULL, Venda...|\n",
            "|b3f44c1a-2d50-4d5...|{240, NULL, Venda...|\n",
            "+--------------------+--------------------+\n",
            "only showing top 10 rows\n",
            "\n",
            "Número de registros no dataframe de valores: 67183.\n"
          ]
        }
      ]
    },
    {
      "cell_type": "code",
      "source": [
        "df_valores = df_valores\\\n",
        ".withColumn('condominio', df_valores['valores']['condominio'].cast(DoubleType()))\\\n",
        ".withColumn('iptu', df_valores['valores']['iptu'].cast(DoubleType()))\\\n",
        ".withColumn('tipo_valor', df_valores['valores']['tipo'])\\\n",
        ".withColumn('valor', df_valores['valores']['valor'].cast(DoubleType()))\\\n",
        ".drop('valores')\n",
        "\n",
        "df_valores.show(10)\n",
        "print(f'Número de registros no dataframe de valores: {df_valores.count()}.')"
      ],
      "metadata": {
        "colab": {
          "base_uri": "https://localhost:8080/"
        },
        "id": "1tJgWW0sTK97",
        "outputId": "64ffedf7-7534-4d39-8b93-ede67745306d"
      },
      "execution_count": 20,
      "outputs": [
        {
          "output_type": "stream",
          "name": "stdout",
          "text": [
            "+--------------------+----------+----+----------+-------+\n",
            "|                  id|condominio|iptu|tipo_valor|  valor|\n",
            "+--------------------+----------+----+----------+-------+\n",
            "|d2e3a3aa-09b5-45a...|     245.0|NULL|     Venda|15000.0|\n",
            "|085bab2c-87ad-452...|       0.0| 0.0|     Venda|15000.0|\n",
            "|18d22cbe-1b86-476...|       0.0| 0.0|     Venda|20000.0|\n",
            "|bed8a354-9317-442...|     285.0|NULL|     Venda|20000.0|\n",
            "|12a13315-d67f-48f...|     245.0|NULL|     Venda|15000.0|\n",
            "|a2e6d7a5-0ff0-484...|     285.0|NULL|     Venda|20000.0|\n",
            "|a6e3173b-c950-4db...|     250.0|NULL|     Venda|15000.0|\n",
            "|2e6e5dfb-206c-496...|     245.0|NULL|     Venda|15000.0|\n",
            "|99f8d0f9-95a4-461...|     245.0|NULL|     Venda|15000.0|\n",
            "|b3f44c1a-2d50-4d5...|     240.0|NULL|     Venda|17999.0|\n",
            "+--------------------+----------+----+----------+-------+\n",
            "only showing top 10 rows\n",
            "\n",
            "Número de registros no dataframe de valores: 67183.\n"
          ]
        }
      ]
    },
    {
      "cell_type": "code",
      "source": [
        "df_completo = df_com_localizacao_sem_endereco\\\n",
        ".join(df_valores, 'id', how = 'inner').drop('valores')\n",
        "\n",
        "df_completo.show(10)\n",
        "print(f'Número de registros no dataframe com valores separados: {df_completo.count()}.')\n",
        "\n",
        "df_completo.printSchema()"
      ],
      "metadata": {
        "colab": {
          "base_uri": "https://localhost:8080/"
        },
        "id": "7MJctYI5TK7R",
        "outputId": "8f564140-542e-45dc-b7e1-3c25f60ad933"
      },
      "execution_count": 21,
      "outputs": [
        {
          "output_type": "stream",
          "name": "stdout",
          "text": [
            "+--------------------+-----+----------+---------+---------+--------------------+-------+------+------------+------------+-----------+----+--------------------+------------+----------+------+----------+--------+\n",
            "|                  id|andar|area_total|area_util|banheiros|     caracteristicas|quartos|suites|tipo_anuncio|tipo_unidade|   tipo_uso|vaga|              bairro|        zona|condominio|  iptu|tipo_valor|   valor|\n",
            "+--------------------+-----+----------+---------+---------+--------------------+-------+------+------------+------------+-----------+----+--------------------+------------+----------+------+----------+--------+\n",
            "|03a386b6-7ab8-4ef...|    0|        43|       43|        1|[Churrasqueira, A...|      2|  NULL|       Usado| Apartamento|Residencial|   1|            Realengo|  Zona Oeste|     285.0|  NULL|     Venda| 22999.0|\n",
            "|1fe78d41-b8e0-4d2...|    0|        44|       44|        1|                  []|      2|     0|       Usado| Apartamento|Residencial|   0|               Irajá|  Zona Norte|     170.0|   0.0|     Venda|110000.0|\n",
            "|1fa1c1e5-e98c-433...|    4|      NULL|       55|        1|                  []|      2|     0|       Usado| Apartamento|Residencial|   1|              Cosmos|  Zona Oeste|      NULL|  NULL|     Venda|115000.0|\n",
            "|a6ab01ae-3d40-40e...|    2|      NULL|       55|        1|                  []|      2|     0|       Usado| Apartamento|Residencial|   0|        Tomás Coelho|  Zona Norte|      NULL|  NULL|     Venda|115000.0|\n",
            "|1d8ff7a2-16bd-4e3...|    0|      NULL|       50|        1|                  []|      1|  NULL|       Usado| Apartamento|Residencial|   0|              Centro|Zona Central|    1300.0|2679.0|     Venda|125000.0|\n",
            "|40a2cbde-946b-42d...|    2|        47|       47|        1|[Condomínio fecha...|      2|     0|       Usado| Apartamento|Residencial|   1|        Campo Grande|  Zona Oeste|     380.0|  NULL|     Venda|138000.0|\n",
            "|be269ddf-a4a3-4a7...|    0|     17089|       45|        1|[Churrasqueira, C...|      2|     0|       Usado| Apartamento|Residencial|   1|        Campo Grande|  Zona Oeste|     356.0|   0.0|     Venda|140000.0|\n",
            "|4b7e3d59-34fd-4ba...|    3|        48|       48|        1|[Churrasqueira, P...|      2|  NULL|       Usado| Apartamento|Residencial|   1|        Campo Grande|  Zona Oeste|       0.0|   0.0|     Venda|150000.0|\n",
            "|a1a0c2ac-4fa8-4b0...|    9|      NULL|       55|        1|[Churrasqueira, E...|      2|  NULL|       Usado| Apartamento|Residencial|   1|Freguesia (Jacare...|  Zona Oeste|     780.0| 660.0|     Venda|160000.0|\n",
            "|390d2b88-e06d-47e...|    0|        70|       70|        2|   [Salão de festas]|      2|     0|       Usado| Apartamento|Residencial|   1|          Praça Seca|  Zona Oeste|  420000.0|  NULL|     Venda|159000.0|\n",
            "+--------------------+-----+----------+---------+---------+--------------------+-------+------+------------+------------+-----------+----+--------------------+------------+----------+------+----------+--------+\n",
            "only showing top 10 rows\n",
            "\n",
            "Número de registros no dataframe com valores separados: 67183.\n",
            "root\n",
            " |-- id: string (nullable = true)\n",
            " |-- andar: long (nullable = true)\n",
            " |-- area_total: integer (nullable = true)\n",
            " |-- area_util: integer (nullable = true)\n",
            " |-- banheiros: integer (nullable = true)\n",
            " |-- caracteristicas: array (nullable = true)\n",
            " |    |-- element: string (containsNull = true)\n",
            " |-- quartos: integer (nullable = true)\n",
            " |-- suites: integer (nullable = true)\n",
            " |-- tipo_anuncio: string (nullable = true)\n",
            " |-- tipo_unidade: string (nullable = true)\n",
            " |-- tipo_uso: string (nullable = true)\n",
            " |-- vaga: integer (nullable = true)\n",
            " |-- bairro: string (nullable = true)\n",
            " |-- zona: string (nullable = true)\n",
            " |-- condominio: double (nullable = true)\n",
            " |-- iptu: double (nullable = true)\n",
            " |-- tipo_valor: string (nullable = true)\n",
            " |-- valor: double (nullable = true)\n",
            "\n"
          ]
        }
      ]
    },
    {
      "cell_type": "markdown",
      "source": [
        "## 8ª Tarefa - Tratamento para a coluna de valores"
      ],
      "metadata": {
        "id": "AMlBnqZidO8P"
      }
    },
    {
      "cell_type": "markdown",
      "source": [
        "A InsightPlaces permite que o(a) anunciante crie um anúncio com duas opções de valor. Assim, o(a) cliente pode criar um anúncio que mostre tanto o valor de venda do imóvel quanto o seu valor de locação, juntamente com os valores de taxa de condomínio (quando houver) e taxa de IPTU. Estes valores são diferenciados pelo campo tipo que pode assumir os valores Venda e Aluguel.\n",
        "\n",
        "Como se trata de um estudo sobre o preço de venda dos imóveis, o time de cientistas de dados solicitou apenas as informações do tipo VENDA.\n",
        "\n",
        "Selecione apenas os valores de Venda."
      ],
      "metadata": {
        "id": "qySEosXGdaYP"
      }
    },
    {
      "cell_type": "code",
      "source": [
        "df_final = df_completo.filter('tipo_valor == \"Venda\"')\n",
        "\n",
        "df_final.show(10)\n",
        "print(f'Número de registros no dataframe após última filtragem: {df_final.count()}.')"
      ],
      "metadata": {
        "id": "cvTwFMU_OFWY",
        "colab": {
          "base_uri": "https://localhost:8080/"
        },
        "outputId": "28e577f6-055a-482c-dbd2-8b95850298fa"
      },
      "execution_count": 22,
      "outputs": [
        {
          "output_type": "stream",
          "name": "stdout",
          "text": [
            "+--------------------+-----+----------+---------+---------+--------------------+-------+------+------------+------------+-----------+----+--------------------+------------+----------+------+----------+--------+\n",
            "|                  id|andar|area_total|area_util|banheiros|     caracteristicas|quartos|suites|tipo_anuncio|tipo_unidade|   tipo_uso|vaga|              bairro|        zona|condominio|  iptu|tipo_valor|   valor|\n",
            "+--------------------+-----+----------+---------+---------+--------------------+-------+------+------------+------------+-----------+----+--------------------+------------+----------+------+----------+--------+\n",
            "|03a386b6-7ab8-4ef...|    0|        43|       43|        1|[Churrasqueira, A...|      2|  NULL|       Usado| Apartamento|Residencial|   1|            Realengo|  Zona Oeste|     285.0|  NULL|     Venda| 22999.0|\n",
            "|1fe78d41-b8e0-4d2...|    0|        44|       44|        1|                  []|      2|     0|       Usado| Apartamento|Residencial|   0|               Irajá|  Zona Norte|     170.0|   0.0|     Venda|110000.0|\n",
            "|1fa1c1e5-e98c-433...|    4|      NULL|       55|        1|                  []|      2|     0|       Usado| Apartamento|Residencial|   1|              Cosmos|  Zona Oeste|      NULL|  NULL|     Venda|115000.0|\n",
            "|a6ab01ae-3d40-40e...|    2|      NULL|       55|        1|                  []|      2|     0|       Usado| Apartamento|Residencial|   0|        Tomás Coelho|  Zona Norte|      NULL|  NULL|     Venda|115000.0|\n",
            "|1d8ff7a2-16bd-4e3...|    0|      NULL|       50|        1|                  []|      1|  NULL|       Usado| Apartamento|Residencial|   0|              Centro|Zona Central|    1300.0|2679.0|     Venda|125000.0|\n",
            "|40a2cbde-946b-42d...|    2|        47|       47|        1|[Condomínio fecha...|      2|     0|       Usado| Apartamento|Residencial|   1|        Campo Grande|  Zona Oeste|     380.0|  NULL|     Venda|138000.0|\n",
            "|be269ddf-a4a3-4a7...|    0|     17089|       45|        1|[Churrasqueira, C...|      2|     0|       Usado| Apartamento|Residencial|   1|        Campo Grande|  Zona Oeste|     356.0|   0.0|     Venda|140000.0|\n",
            "|4b7e3d59-34fd-4ba...|    3|        48|       48|        1|[Churrasqueira, P...|      2|  NULL|       Usado| Apartamento|Residencial|   1|        Campo Grande|  Zona Oeste|       0.0|   0.0|     Venda|150000.0|\n",
            "|a1a0c2ac-4fa8-4b0...|    9|      NULL|       55|        1|[Churrasqueira, E...|      2|  NULL|       Usado| Apartamento|Residencial|   1|Freguesia (Jacare...|  Zona Oeste|     780.0| 660.0|     Venda|160000.0|\n",
            "|390d2b88-e06d-47e...|    0|        70|       70|        2|   [Salão de festas]|      2|     0|       Usado| Apartamento|Residencial|   1|          Praça Seca|  Zona Oeste|  420000.0|  NULL|     Venda|159000.0|\n",
            "+--------------------+-----+----------+---------+---------+--------------------+-------+------+------------+------------+-----------+----+--------------------+------------+----------+------+----------+--------+\n",
            "only showing top 10 rows\n",
            "\n",
            "Número de registros no dataframe após última filtragem: 66562.\n"
          ]
        }
      ]
    },
    {
      "cell_type": "code",
      "source": [
        "df_final.printSchema()"
      ],
      "metadata": {
        "id": "6YINZFYKOFPm",
        "colab": {
          "base_uri": "https://localhost:8080/"
        },
        "outputId": "5968c371-644d-404c-9b69-0df79956ed50"
      },
      "execution_count": 23,
      "outputs": [
        {
          "output_type": "stream",
          "name": "stdout",
          "text": [
            "root\n",
            " |-- id: string (nullable = true)\n",
            " |-- andar: long (nullable = true)\n",
            " |-- area_total: integer (nullable = true)\n",
            " |-- area_util: integer (nullable = true)\n",
            " |-- banheiros: integer (nullable = true)\n",
            " |-- caracteristicas: array (nullable = true)\n",
            " |    |-- element: string (containsNull = true)\n",
            " |-- quartos: integer (nullable = true)\n",
            " |-- suites: integer (nullable = true)\n",
            " |-- tipo_anuncio: string (nullable = true)\n",
            " |-- tipo_unidade: string (nullable = true)\n",
            " |-- tipo_uso: string (nullable = true)\n",
            " |-- vaga: integer (nullable = true)\n",
            " |-- bairro: string (nullable = true)\n",
            " |-- zona: string (nullable = true)\n",
            " |-- condominio: double (nullable = true)\n",
            " |-- iptu: double (nullable = true)\n",
            " |-- tipo_valor: string (nullable = true)\n",
            " |-- valor: double (nullable = true)\n",
            "\n"
          ]
        }
      ]
    },
    {
      "cell_type": "markdown",
      "source": [
        "## 9ª Tarefa - Salvar os dados no formato parquet"
      ],
      "metadata": {
        "id": "eu6mPYHtdg_O"
      }
    },
    {
      "cell_type": "code",
      "source": [
        "df_final.write\\\n",
        ".parquet('/content/drive/MyDrive/Alura/Challenge - Data Science 2/parquet', mode = 'overwrite')"
      ],
      "metadata": {
        "id": "YMkJUGFUIExX"
      },
      "execution_count": 24,
      "outputs": []
    },
    {
      "cell_type": "markdown",
      "source": [
        "## 10ª Tarefa - Salvar o arquivo no formato csv"
      ],
      "metadata": {
        "id": "pdtG1EvuffSq"
      }
    },
    {
      "cell_type": "code",
      "source": [
        "df_para_conversao_em_csv = df_final.withColumn('caracteristicas', df_final['caracteristicas'].cast(StringType()))\n",
        "df_para_conversao_em_csv.show(10)"
      ],
      "metadata": {
        "colab": {
          "base_uri": "https://localhost:8080/"
        },
        "id": "kEJv2DtFw84D",
        "outputId": "1fddec1e-1639-4238-ee1e-dc29f3448e19"
      },
      "execution_count": 25,
      "outputs": [
        {
          "output_type": "stream",
          "name": "stdout",
          "text": [
            "+--------------------+-----+----------+---------+---------+--------------------+-------+------+------------+------------+-----------+----+--------------------+------------+----------+------+----------+--------+\n",
            "|                  id|andar|area_total|area_util|banheiros|     caracteristicas|quartos|suites|tipo_anuncio|tipo_unidade|   tipo_uso|vaga|              bairro|        zona|condominio|  iptu|tipo_valor|   valor|\n",
            "+--------------------+-----+----------+---------+---------+--------------------+-------+------+------------+------------+-----------+----+--------------------+------------+----------+------+----------+--------+\n",
            "|03a386b6-7ab8-4ef...|    0|        43|       43|        1|[Churrasqueira, A...|      2|  NULL|       Usado| Apartamento|Residencial|   1|            Realengo|  Zona Oeste|     285.0|  NULL|     Venda| 22999.0|\n",
            "|1fe78d41-b8e0-4d2...|    0|        44|       44|        1|                  []|      2|     0|       Usado| Apartamento|Residencial|   0|               Irajá|  Zona Norte|     170.0|   0.0|     Venda|110000.0|\n",
            "|1fa1c1e5-e98c-433...|    4|      NULL|       55|        1|                  []|      2|     0|       Usado| Apartamento|Residencial|   1|              Cosmos|  Zona Oeste|      NULL|  NULL|     Venda|115000.0|\n",
            "|a6ab01ae-3d40-40e...|    2|      NULL|       55|        1|                  []|      2|     0|       Usado| Apartamento|Residencial|   0|        Tomás Coelho|  Zona Norte|      NULL|  NULL|     Venda|115000.0|\n",
            "|1d8ff7a2-16bd-4e3...|    0|      NULL|       50|        1|                  []|      1|  NULL|       Usado| Apartamento|Residencial|   0|              Centro|Zona Central|    1300.0|2679.0|     Venda|125000.0|\n",
            "|40a2cbde-946b-42d...|    2|        47|       47|        1|[Condomínio fecha...|      2|     0|       Usado| Apartamento|Residencial|   1|        Campo Grande|  Zona Oeste|     380.0|  NULL|     Venda|138000.0|\n",
            "|be269ddf-a4a3-4a7...|    0|     17089|       45|        1|[Churrasqueira, C...|      2|     0|       Usado| Apartamento|Residencial|   1|        Campo Grande|  Zona Oeste|     356.0|   0.0|     Venda|140000.0|\n",
            "|4b7e3d59-34fd-4ba...|    3|        48|       48|        1|[Churrasqueira, P...|      2|  NULL|       Usado| Apartamento|Residencial|   1|        Campo Grande|  Zona Oeste|       0.0|   0.0|     Venda|150000.0|\n",
            "|a1a0c2ac-4fa8-4b0...|    9|      NULL|       55|        1|[Churrasqueira, E...|      2|  NULL|       Usado| Apartamento|Residencial|   1|Freguesia (Jacare...|  Zona Oeste|     780.0| 660.0|     Venda|160000.0|\n",
            "|390d2b88-e06d-47e...|    0|        70|       70|        2|   [Salão de festas]|      2|     0|       Usado| Apartamento|Residencial|   1|          Praça Seca|  Zona Oeste|  420000.0|  NULL|     Venda|159000.0|\n",
            "+--------------------+-----+----------+---------+---------+--------------------+-------+------+------------+------------+-----------+----+--------------------+------------+----------+------+----------+--------+\n",
            "only showing top 10 rows\n",
            "\n"
          ]
        }
      ]
    },
    {
      "cell_type": "code",
      "source": [
        "df_para_conversao_em_csv.printSchema()"
      ],
      "metadata": {
        "colab": {
          "base_uri": "https://localhost:8080/"
        },
        "id": "Z0jcZb3U0I2i",
        "outputId": "4761f636-6652-4f6b-92a0-0b98354eb1b8"
      },
      "execution_count": 26,
      "outputs": [
        {
          "output_type": "stream",
          "name": "stdout",
          "text": [
            "root\n",
            " |-- id: string (nullable = true)\n",
            " |-- andar: long (nullable = true)\n",
            " |-- area_total: integer (nullable = true)\n",
            " |-- area_util: integer (nullable = true)\n",
            " |-- banheiros: integer (nullable = true)\n",
            " |-- caracteristicas: string (nullable = true)\n",
            " |-- quartos: integer (nullable = true)\n",
            " |-- suites: integer (nullable = true)\n",
            " |-- tipo_anuncio: string (nullable = true)\n",
            " |-- tipo_unidade: string (nullable = true)\n",
            " |-- tipo_uso: string (nullable = true)\n",
            " |-- vaga: integer (nullable = true)\n",
            " |-- bairro: string (nullable = true)\n",
            " |-- zona: string (nullable = true)\n",
            " |-- condominio: double (nullable = true)\n",
            " |-- iptu: double (nullable = true)\n",
            " |-- tipo_valor: string (nullable = true)\n",
            " |-- valor: double (nullable = true)\n",
            "\n"
          ]
        }
      ]
    },
    {
      "cell_type": "code",
      "source": [
        "df_para_conversao_em_csv.write\\\n",
        ".csv('/content/drive/MyDrive/Alura/Challenge - Data Science 2/csv', mode = 'overwrite', header = True)"
      ],
      "metadata": {
        "id": "pFC99eNhfe81"
      },
      "execution_count": 27,
      "outputs": []
    },
    {
      "cell_type": "markdown",
      "source": [
        "## 11ª Tarefa - Comparar o desempenho da leitura"
      ],
      "metadata": {
        "id": "EgzwTwVypK8Y"
      }
    },
    {
      "cell_type": "code",
      "source": [
        "%%time\n",
        "df_parquet = spark.read.parquet('/content/drive/MyDrive/Alura/Challenge - Data Science 2/parquet')"
      ],
      "metadata": {
        "id": "pZSqQlVYpKpF",
        "colab": {
          "base_uri": "https://localhost:8080/"
        },
        "outputId": "e8ce0e51-343e-4c09-c4ca-7eb12ec2030e"
      },
      "execution_count": 28,
      "outputs": [
        {
          "output_type": "stream",
          "name": "stdout",
          "text": [
            "CPU times: user 6.16 ms, sys: 1.03 ms, total: 7.18 ms\n",
            "Wall time: 246 ms\n"
          ]
        }
      ]
    },
    {
      "cell_type": "code",
      "source": [
        "%%time\n",
        "df_csv = spark.read.csv('/content/drive/MyDrive/Alura/Challenge - Data Science 2/csv', header = True)"
      ],
      "metadata": {
        "colab": {
          "base_uri": "https://localhost:8080/"
        },
        "id": "l_dXJ0h1pLXY",
        "outputId": "f2e5ac4b-d2de-4fc9-a021-ad7b77f0c54e"
      },
      "execution_count": 29,
      "outputs": [
        {
          "output_type": "stream",
          "name": "stdout",
          "text": [
            "CPU times: user 5.23 ms, sys: 0 ns, total: 5.23 ms\n",
            "Wall time: 413 ms\n"
          ]
        }
      ]
    },
    {
      "cell_type": "code",
      "source": [
        "%%time\n",
        "df_parquet.show(10, truncate = False)"
      ],
      "metadata": {
        "colab": {
          "base_uri": "https://localhost:8080/"
        },
        "id": "oOSSKIJopLoF",
        "outputId": "47a09e4d-b00b-46e4-a202-fdbe52993787"
      },
      "execution_count": 30,
      "outputs": [
        {
          "output_type": "stream",
          "name": "stdout",
          "text": [
            "+------------------------------------+-----+----------+---------+---------+-------------------------------------------------------------------------------------------------------------------------------+-------+------+------------+------------+-----------+----+-----------------------+------------+----------+------+----------+--------+\n",
            "|id                                  |andar|area_total|area_util|banheiros|caracteristicas                                                                                                                |quartos|suites|tipo_anuncio|tipo_unidade|tipo_uso   |vaga|bairro                 |zona        |condominio|iptu  |tipo_valor|valor   |\n",
            "+------------------------------------+-----+----------+---------+---------+-------------------------------------------------------------------------------------------------------------------------------+-------+------+------------+------------+-----------+----+-----------------------+------------+----------+------+----------+--------+\n",
            "|03a386b6-7ab8-4eff-891d-f8a16efc1989|0    |43        |43       |1        |[Churrasqueira, Academia, Playground, Salão de festas, Condomínio fechado, Portão eletrônico, Portaria 24h, Animais permitidos]|2      |NULL  |Usado       |Apartamento |Residencial|1   |Realengo               |Zona Oeste  |285.0     |NULL  |Venda     |22999.0 |\n",
            "|1fe78d41-b8e0-4d21-a1a8-72cb7863f441|0    |44        |44       |1        |[]                                                                                                                             |2      |0     |Usado       |Apartamento |Residencial|0   |Irajá                  |Zona Norte  |170.0     |0.0   |Venda     |110000.0|\n",
            "|1fa1c1e5-e98c-433f-9675-1b43d7d6da01|4    |NULL      |55       |1        |[]                                                                                                                             |2      |0     |Usado       |Apartamento |Residencial|1   |Cosmos                 |Zona Oeste  |NULL      |NULL  |Venda     |115000.0|\n",
            "|a6ab01ae-3d40-40e7-bb6a-f2334e0abbe0|2    |NULL      |55       |1        |[]                                                                                                                             |2      |0     |Usado       |Apartamento |Residencial|0   |Tomás Coelho           |Zona Norte  |NULL      |NULL  |Venda     |115000.0|\n",
            "|1d8ff7a2-16bd-4e3f-a92e-1b85f923ebb0|0    |NULL      |50       |1        |[]                                                                                                                             |1      |NULL  |Usado       |Apartamento |Residencial|0   |Centro                 |Zona Central|1300.0    |2679.0|Venda     |125000.0|\n",
            "|40a2cbde-946b-42da-b7f2-b80057c7a47f|2    |47        |47       |1        |[Condomínio fechado, Portaria 24h, Salão de festas, Churrasqueira, Piscina, Animais permitidos]                                |2      |0     |Usado       |Apartamento |Residencial|1   |Campo Grande           |Zona Oeste  |380.0     |NULL  |Venda     |138000.0|\n",
            "|be269ddf-a4a3-4a72-bd54-93cdccf512dd|0    |17089     |45       |1        |[Churrasqueira, Condomínio fechado, Piscina]                                                                                   |2      |0     |Usado       |Apartamento |Residencial|1   |Campo Grande           |Zona Oeste  |356.0     |0.0   |Venda     |140000.0|\n",
            "|4b7e3d59-34fd-4bac-9232-1015cb3b3a24|3    |48        |48       |1        |[Churrasqueira, Piscina, Playground, Salão de festas, Condomínio fechado, Portão eletrônico, Portaria 24h, Animais permitidos] |2      |NULL  |Usado       |Apartamento |Residencial|1   |Campo Grande           |Zona Oeste  |0.0       |0.0   |Venda     |150000.0|\n",
            "|a1a0c2ac-4fa8-4b02-a087-f9d76b6bccb7|9    |NULL      |55       |1        |[Churrasqueira, Elevador, Salão de festas, Condomínio fechado, Portão eletrônico, Portaria 24h, Animais permitidos]            |2      |NULL  |Usado       |Apartamento |Residencial|1   |Freguesia (Jacarepaguá)|Zona Oeste  |780.0     |660.0 |Venda     |160000.0|\n",
            "|390d2b88-e06d-47e5-ba7f-a680130ac5f0|0    |70        |70       |2        |[Salão de festas]                                                                                                              |2      |0     |Usado       |Apartamento |Residencial|1   |Praça Seca             |Zona Oeste  |420000.0  |NULL  |Venda     |159000.0|\n",
            "+------------------------------------+-----+----------+---------+---------+-------------------------------------------------------------------------------------------------------------------------------+-------+------+------------+------------+-----------+----+-----------------------+------------+----------+------+----------+--------+\n",
            "only showing top 10 rows\n",
            "\n",
            "CPU times: user 8.53 ms, sys: 632 µs, total: 9.16 ms\n",
            "Wall time: 473 ms\n"
          ]
        }
      ]
    },
    {
      "cell_type": "code",
      "source": [
        "%%time\n",
        "df_csv.show(10, truncate = False)"
      ],
      "metadata": {
        "colab": {
          "base_uri": "https://localhost:8080/"
        },
        "id": "Nh7vZq79qws1",
        "outputId": "81fe1d1c-ea76-417e-da4e-bbbd797ed0a1"
      },
      "execution_count": 31,
      "outputs": [
        {
          "output_type": "stream",
          "name": "stdout",
          "text": [
            "+------------------------------------+-----+----------+---------+---------+-------------------------------------------------------------------------------------------------------------------------------+-------+------+------------+------------+-----------+----+-----------------------+------------+----------+------+----------+--------+\n",
            "|id                                  |andar|area_total|area_util|banheiros|caracteristicas                                                                                                                |quartos|suites|tipo_anuncio|tipo_unidade|tipo_uso   |vaga|bairro                 |zona        |condominio|iptu  |tipo_valor|valor   |\n",
            "+------------------------------------+-----+----------+---------+---------+-------------------------------------------------------------------------------------------------------------------------------+-------+------+------------+------------+-----------+----+-----------------------+------------+----------+------+----------+--------+\n",
            "|03a386b6-7ab8-4eff-891d-f8a16efc1989|0    |43        |43       |1        |[Churrasqueira, Academia, Playground, Salão de festas, Condomínio fechado, Portão eletrônico, Portaria 24h, Animais permitidos]|2      |NULL  |Usado       |Apartamento |Residencial|1   |Realengo               |Zona Oeste  |285.0     |NULL  |Venda     |22999.0 |\n",
            "|1fe78d41-b8e0-4d21-a1a8-72cb7863f441|0    |44        |44       |1        |[]                                                                                                                             |2      |0     |Usado       |Apartamento |Residencial|0   |Irajá                  |Zona Norte  |170.0     |0.0   |Venda     |110000.0|\n",
            "|1fa1c1e5-e98c-433f-9675-1b43d7d6da01|4    |NULL      |55       |1        |[]                                                                                                                             |2      |0     |Usado       |Apartamento |Residencial|1   |Cosmos                 |Zona Oeste  |NULL      |NULL  |Venda     |115000.0|\n",
            "|a6ab01ae-3d40-40e7-bb6a-f2334e0abbe0|2    |NULL      |55       |1        |[]                                                                                                                             |2      |0     |Usado       |Apartamento |Residencial|0   |Tomás Coelho           |Zona Norte  |NULL      |NULL  |Venda     |115000.0|\n",
            "|1d8ff7a2-16bd-4e3f-a92e-1b85f923ebb0|0    |NULL      |50       |1        |[]                                                                                                                             |1      |NULL  |Usado       |Apartamento |Residencial|0   |Centro                 |Zona Central|1300.0    |2679.0|Venda     |125000.0|\n",
            "|40a2cbde-946b-42da-b7f2-b80057c7a47f|2    |47        |47       |1        |[Condomínio fechado, Portaria 24h, Salão de festas, Churrasqueira, Piscina, Animais permitidos]                                |2      |0     |Usado       |Apartamento |Residencial|1   |Campo Grande           |Zona Oeste  |380.0     |NULL  |Venda     |138000.0|\n",
            "|be269ddf-a4a3-4a72-bd54-93cdccf512dd|0    |17089     |45       |1        |[Churrasqueira, Condomínio fechado, Piscina]                                                                                   |2      |0     |Usado       |Apartamento |Residencial|1   |Campo Grande           |Zona Oeste  |356.0     |0.0   |Venda     |140000.0|\n",
            "|4b7e3d59-34fd-4bac-9232-1015cb3b3a24|3    |48        |48       |1        |[Churrasqueira, Piscina, Playground, Salão de festas, Condomínio fechado, Portão eletrônico, Portaria 24h, Animais permitidos] |2      |NULL  |Usado       |Apartamento |Residencial|1   |Campo Grande           |Zona Oeste  |0.0       |0.0   |Venda     |150000.0|\n",
            "|a1a0c2ac-4fa8-4b02-a087-f9d76b6bccb7|9    |NULL      |55       |1        |[Churrasqueira, Elevador, Salão de festas, Condomínio fechado, Portão eletrônico, Portaria 24h, Animais permitidos]            |2      |NULL  |Usado       |Apartamento |Residencial|1   |Freguesia (Jacarepaguá)|Zona Oeste  |780.0     |660.0 |Venda     |160000.0|\n",
            "|390d2b88-e06d-47e5-ba7f-a680130ac5f0|0    |70        |70       |2        |[Salão de festas]                                                                                                              |2      |0     |Usado       |Apartamento |Residencial|1   |Praça Seca             |Zona Oeste  |420000.0  |NULL  |Venda     |159000.0|\n",
            "+------------------------------------+-----+----------+---------+---------+-------------------------------------------------------------------------------------------------------------------------------+-------+------+------------+------------+-----------+----+-----------------------+------------+----------+------+----------+--------+\n",
            "only showing top 10 rows\n",
            "\n",
            "CPU times: user 3.77 ms, sys: 1.02 ms, total: 4.78 ms\n",
            "Wall time: 251 ms\n"
          ]
        }
      ]
    },
    {
      "cell_type": "code",
      "source": [
        "%%time\n",
        "df_parquet.select(['id', 'area_util', 'caracteristicas', 'quartos', 'suites', 'condominio', 'iptu', 'valor']).show(10, truncate = False)"
      ],
      "metadata": {
        "colab": {
          "base_uri": "https://localhost:8080/"
        },
        "id": "pHCEIpBMqw87",
        "outputId": "86bc36cf-0d45-40ce-875b-de784ca4d5e0"
      },
      "execution_count": 32,
      "outputs": [
        {
          "output_type": "stream",
          "name": "stdout",
          "text": [
            "+------------------------------------+---------+-------------------------------------------------------------------------------------------------------------------------------+-------+------+----------+------+--------+\n",
            "|id                                  |area_util|caracteristicas                                                                                                                |quartos|suites|condominio|iptu  |valor   |\n",
            "+------------------------------------+---------+-------------------------------------------------------------------------------------------------------------------------------+-------+------+----------+------+--------+\n",
            "|03a386b6-7ab8-4eff-891d-f8a16efc1989|43       |[Churrasqueira, Academia, Playground, Salão de festas, Condomínio fechado, Portão eletrônico, Portaria 24h, Animais permitidos]|2      |NULL  |285.0     |NULL  |22999.0 |\n",
            "|1fe78d41-b8e0-4d21-a1a8-72cb7863f441|44       |[]                                                                                                                             |2      |0     |170.0     |0.0   |110000.0|\n",
            "|1fa1c1e5-e98c-433f-9675-1b43d7d6da01|55       |[]                                                                                                                             |2      |0     |NULL      |NULL  |115000.0|\n",
            "|a6ab01ae-3d40-40e7-bb6a-f2334e0abbe0|55       |[]                                                                                                                             |2      |0     |NULL      |NULL  |115000.0|\n",
            "|1d8ff7a2-16bd-4e3f-a92e-1b85f923ebb0|50       |[]                                                                                                                             |1      |NULL  |1300.0    |2679.0|125000.0|\n",
            "|40a2cbde-946b-42da-b7f2-b80057c7a47f|47       |[Condomínio fechado, Portaria 24h, Salão de festas, Churrasqueira, Piscina, Animais permitidos]                                |2      |0     |380.0     |NULL  |138000.0|\n",
            "|be269ddf-a4a3-4a72-bd54-93cdccf512dd|45       |[Churrasqueira, Condomínio fechado, Piscina]                                                                                   |2      |0     |356.0     |0.0   |140000.0|\n",
            "|4b7e3d59-34fd-4bac-9232-1015cb3b3a24|48       |[Churrasqueira, Piscina, Playground, Salão de festas, Condomínio fechado, Portão eletrônico, Portaria 24h, Animais permitidos] |2      |NULL  |0.0       |0.0   |150000.0|\n",
            "|a1a0c2ac-4fa8-4b02-a087-f9d76b6bccb7|55       |[Churrasqueira, Elevador, Salão de festas, Condomínio fechado, Portão eletrônico, Portaria 24h, Animais permitidos]            |2      |NULL  |780.0     |660.0 |160000.0|\n",
            "|390d2b88-e06d-47e5-ba7f-a680130ac5f0|70       |[Salão de festas]                                                                                                              |2      |0     |420000.0  |NULL  |159000.0|\n",
            "+------------------------------------+---------+-------------------------------------------------------------------------------------------------------------------------------+-------+------+----------+------+--------+\n",
            "only showing top 10 rows\n",
            "\n",
            "CPU times: user 9.02 ms, sys: 77 µs, total: 9.1 ms\n",
            "Wall time: 293 ms\n"
          ]
        }
      ]
    },
    {
      "cell_type": "code",
      "source": [
        "%%time\n",
        "df_csv.select(['id', 'area_util', 'caracteristicas', 'quartos', 'suites', 'condominio', 'iptu', 'valor']).show(10, truncate = False)"
      ],
      "metadata": {
        "colab": {
          "base_uri": "https://localhost:8080/"
        },
        "id": "Uu5UWWQ5qxOu",
        "outputId": "c2cefb53-7f4f-4384-e055-0ce40b03ff7a"
      },
      "execution_count": 33,
      "outputs": [
        {
          "output_type": "stream",
          "name": "stdout",
          "text": [
            "+------------------------------------+---------+-------------------------------------------------------------------------------------------------------------------------------+-------+------+----------+------+--------+\n",
            "|id                                  |area_util|caracteristicas                                                                                                                |quartos|suites|condominio|iptu  |valor   |\n",
            "+------------------------------------+---------+-------------------------------------------------------------------------------------------------------------------------------+-------+------+----------+------+--------+\n",
            "|03a386b6-7ab8-4eff-891d-f8a16efc1989|43       |[Churrasqueira, Academia, Playground, Salão de festas, Condomínio fechado, Portão eletrônico, Portaria 24h, Animais permitidos]|2      |NULL  |285.0     |NULL  |22999.0 |\n",
            "|1fe78d41-b8e0-4d21-a1a8-72cb7863f441|44       |[]                                                                                                                             |2      |0     |170.0     |0.0   |110000.0|\n",
            "|1fa1c1e5-e98c-433f-9675-1b43d7d6da01|55       |[]                                                                                                                             |2      |0     |NULL      |NULL  |115000.0|\n",
            "|a6ab01ae-3d40-40e7-bb6a-f2334e0abbe0|55       |[]                                                                                                                             |2      |0     |NULL      |NULL  |115000.0|\n",
            "|1d8ff7a2-16bd-4e3f-a92e-1b85f923ebb0|50       |[]                                                                                                                             |1      |NULL  |1300.0    |2679.0|125000.0|\n",
            "|40a2cbde-946b-42da-b7f2-b80057c7a47f|47       |[Condomínio fechado, Portaria 24h, Salão de festas, Churrasqueira, Piscina, Animais permitidos]                                |2      |0     |380.0     |NULL  |138000.0|\n",
            "|be269ddf-a4a3-4a72-bd54-93cdccf512dd|45       |[Churrasqueira, Condomínio fechado, Piscina]                                                                                   |2      |0     |356.0     |0.0   |140000.0|\n",
            "|4b7e3d59-34fd-4bac-9232-1015cb3b3a24|48       |[Churrasqueira, Piscina, Playground, Salão de festas, Condomínio fechado, Portão eletrônico, Portaria 24h, Animais permitidos] |2      |NULL  |0.0       |0.0   |150000.0|\n",
            "|a1a0c2ac-4fa8-4b02-a087-f9d76b6bccb7|55       |[Churrasqueira, Elevador, Salão de festas, Condomínio fechado, Portão eletrônico, Portaria 24h, Animais permitidos]            |2      |NULL  |780.0     |660.0 |160000.0|\n",
            "|390d2b88-e06d-47e5-ba7f-a680130ac5f0|70       |[Salão de festas]                                                                                                              |2      |0     |420000.0  |NULL  |159000.0|\n",
            "+------------------------------------+---------+-------------------------------------------------------------------------------------------------------------------------------+-------+------+----------+------+--------+\n",
            "only showing top 10 rows\n",
            "\n",
            "CPU times: user 6.57 ms, sys: 984 µs, total: 7.55 ms\n",
            "Wall time: 189 ms\n"
          ]
        }
      ]
    },
    {
      "cell_type": "code",
      "source": [
        "%%time\n",
        "df_parquet.select(['id', 'area_util', 'caracteristicas', 'quartos', 'suites', 'condominio', 'iptu', 'valor'])\\\n",
        ".filter('area_util >= 100 and quartos >= 2 and suites > 0').show(10, truncate = False)"
      ],
      "metadata": {
        "colab": {
          "base_uri": "https://localhost:8080/"
        },
        "id": "taEj2LyZt5gX",
        "outputId": "1fb65ee8-9fa3-4493-b983-8284f011999f"
      },
      "execution_count": 34,
      "outputs": [
        {
          "output_type": "stream",
          "name": "stdout",
          "text": [
            "+------------------------------------+---------+--------------------------------------------------------------------------------------------------------------------------------------------------+-------+------+----------+------+--------+\n",
            "|id                                  |area_util|caracteristicas                                                                                                                                   |quartos|suites|condominio|iptu  |valor   |\n",
            "+------------------------------------+---------+--------------------------------------------------------------------------------------------------------------------------------------------------+-------+------+----------+------+--------+\n",
            "|80f8257e-42f8-47a1-8249-5272848bb16c|105      |[Academia, Elevador, Churrasqueira, Salão de festas, Playground]                                                                                  |3      |1     |800.0     |250.0 |335000.0|\n",
            "|84f74669-d89a-4eb9-bb38-744fcc006a60|110      |[]                                                                                                                                                |3      |1     |1100.0    |130.0 |440000.0|\n",
            "|af253648-bd4c-416c-85f1-84e88e4e70b9|103      |[]                                                                                                                                                |3      |2     |NULL      |NULL  |580000.0|\n",
            "|6b32b3b6-90eb-4a7d-bf51-8c6a8353dd3e|105      |[Elevador, Academia, Churrasqueira, Playground, Piscina, Salão de festas, Condomínio fechado, Portão eletrônico, Portaria 24h, Animais permitidos]|2      |1     |100.0     |100.0 |587750.0|\n",
            "|8c4a3290-ce22-4744-8acb-bf4004f01bf6|105      |[Elevador, Academia, Piscina, Playground, Salão de festas, Condomínio fechado, Portão eletrônico, Portaria 24h, Animais permitidos]               |3      |1     |1000.0    |2588.0|600000.0|\n",
            "|7e43514c-3b40-4fbd-9ad4-1fcac078134d|113      |[Academia, Elevador, Churrasqueira, Piscina, Playground, Salão de festas, Condomínio fechado, Portão eletrônico, Portaria 24h, Animais permitidos]|3      |2     |700.0     |150.0 |620000.0|\n",
            "|29efed1b-a074-4e0c-9290-b97f2bda47f4|118      |[Churrasqueira, Elevador, Academia, Salão de festas, Playground, Piscina, Condomínio fechado]                                                     |4      |4     |890.0     |1800.0|629000.0|\n",
            "|14a81662-b242-49ff-b756-9ce917d57e6b|100      |[]                                                                                                                                                |2      |1     |829.0     |2360.0|629150.0|\n",
            "|3c230119-64dc-4c06-bb94-9ad891c21af8|110      |[]                                                                                                                                                |3      |1     |470.0     |2565.0|730000.0|\n",
            "|754fe9c7-5127-4415-b9b6-4fc3388b18fc|117      |[Elevador, Condomínio fechado, Portão eletrônico, Animais permitidos]                                                                             |3      |1     |847.0     |2491.0|734000.0|\n",
            "+------------------------------------+---------+--------------------------------------------------------------------------------------------------------------------------------------------------+-------+------+----------+------+--------+\n",
            "only showing top 10 rows\n",
            "\n",
            "CPU times: user 11 ms, sys: 0 ns, total: 11 ms\n",
            "Wall time: 381 ms\n"
          ]
        }
      ]
    },
    {
      "cell_type": "code",
      "source": [
        "%%time\n",
        "df_csv.select(['id', 'area_util', 'caracteristicas', 'quartos', 'suites', 'condominio', 'iptu', 'valor'])\\\n",
        ".filter('area_util >= 100 and quartos >= 2 and suites > 0').show(10, truncate = False)"
      ],
      "metadata": {
        "colab": {
          "base_uri": "https://localhost:8080/"
        },
        "id": "F2u6eFCJt5ab",
        "outputId": "b7293d56-b0d8-44ab-ba61-b6f55b3a90fe"
      },
      "execution_count": 35,
      "outputs": [
        {
          "output_type": "stream",
          "name": "stdout",
          "text": [
            "+------------------------------------+---------+--------------------------------------------------------------------------------------------------------------------------------------------------+-------+------+----------+------+--------+\n",
            "|id                                  |area_util|caracteristicas                                                                                                                                   |quartos|suites|condominio|iptu  |valor   |\n",
            "+------------------------------------+---------+--------------------------------------------------------------------------------------------------------------------------------------------------+-------+------+----------+------+--------+\n",
            "|80f8257e-42f8-47a1-8249-5272848bb16c|105      |[Academia, Elevador, Churrasqueira, Salão de festas, Playground]                                                                                  |3      |1     |800.0     |250.0 |335000.0|\n",
            "|84f74669-d89a-4eb9-bb38-744fcc006a60|110      |[]                                                                                                                                                |3      |1     |1100.0    |130.0 |440000.0|\n",
            "|af253648-bd4c-416c-85f1-84e88e4e70b9|103      |[]                                                                                                                                                |3      |2     |NULL      |NULL  |580000.0|\n",
            "|6b32b3b6-90eb-4a7d-bf51-8c6a8353dd3e|105      |[Elevador, Academia, Churrasqueira, Playground, Piscina, Salão de festas, Condomínio fechado, Portão eletrônico, Portaria 24h, Animais permitidos]|2      |1     |100.0     |100.0 |587750.0|\n",
            "|8c4a3290-ce22-4744-8acb-bf4004f01bf6|105      |[Elevador, Academia, Piscina, Playground, Salão de festas, Condomínio fechado, Portão eletrônico, Portaria 24h, Animais permitidos]               |3      |1     |1000.0    |2588.0|600000.0|\n",
            "|7e43514c-3b40-4fbd-9ad4-1fcac078134d|113      |[Academia, Elevador, Churrasqueira, Piscina, Playground, Salão de festas, Condomínio fechado, Portão eletrônico, Portaria 24h, Animais permitidos]|3      |2     |700.0     |150.0 |620000.0|\n",
            "|29efed1b-a074-4e0c-9290-b97f2bda47f4|118      |[Churrasqueira, Elevador, Academia, Salão de festas, Playground, Piscina, Condomínio fechado]                                                     |4      |4     |890.0     |1800.0|629000.0|\n",
            "|14a81662-b242-49ff-b756-9ce917d57e6b|100      |[]                                                                                                                                                |2      |1     |829.0     |2360.0|629150.0|\n",
            "|3c230119-64dc-4c06-bb94-9ad891c21af8|110      |[]                                                                                                                                                |3      |1     |470.0     |2565.0|730000.0|\n",
            "|754fe9c7-5127-4415-b9b6-4fc3388b18fc|117      |[Elevador, Condomínio fechado, Portão eletrônico, Animais permitidos]                                                                             |3      |1     |847.0     |2491.0|734000.0|\n",
            "+------------------------------------+---------+--------------------------------------------------------------------------------------------------------------------------------------------------+-------+------+----------+------+--------+\n",
            "only showing top 10 rows\n",
            "\n",
            "CPU times: user 7.43 ms, sys: 651 µs, total: 8.08 ms\n",
            "Wall time: 296 ms\n"
          ]
        }
      ]
    },
    {
      "cell_type": "code",
      "source": [
        "spark.stop()"
      ],
      "metadata": {
        "id": "rTRDRSkBBRmE"
      },
      "execution_count": 36,
      "outputs": []
    }
  ]
}