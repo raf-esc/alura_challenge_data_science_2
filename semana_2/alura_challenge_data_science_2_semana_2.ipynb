{
  "nbformat": 4,
  "nbformat_minor": 0,
  "metadata": {
    "colab": {
      "provenance": [],
      "mount_file_id": "1ze7W9A31xwMprAtgGucOLI0Oh-RagJpY",
      "authorship_tag": "ABX9TyPp/ZXsl/niKYlr80aClIxq",
      "include_colab_link": true
    },
    "kernelspec": {
      "name": "python3",
      "display_name": "Python 3"
    },
    "language_info": {
      "name": "python"
    }
  },
  "cells": [
    {
      "cell_type": "markdown",
      "metadata": {
        "id": "view-in-github",
        "colab_type": "text"
      },
      "source": [
        "<a href=\"https://colab.research.google.com/github/raf-esc/alura_challenge_data_science_2/blob/main/semana_2/alura_challenge_data_science_2_semana_2.ipynb\" target=\"_parent\"><img src=\"https://colab.research.google.com/assets/colab-badge.svg\" alt=\"Open In Colab\"/></a>"
      ]
    },
    {
      "cell_type": "markdown",
      "source": [
        "# Alura - Challenge Data Science 2 - Semana 2"
      ],
      "metadata": {
        "id": "wwWdRj_dvwsK"
      }
    },
    {
      "cell_type": "markdown",
      "source": [
        "## 1ª Tarefa - Preparar o Ambiente e Carregar a Base de Dados"
      ],
      "metadata": {
        "id": "zR7Rn_P_vyzL"
      }
    },
    {
      "cell_type": "code",
      "execution_count": 1,
      "metadata": {
        "colab": {
          "base_uri": "https://localhost:8080/"
        },
        "id": "kX6aUf2evnvV",
        "outputId": "bfac7929-60af-4751-e6f2-1e441ece3a70"
      },
      "outputs": [
        {
          "output_type": "stream",
          "name": "stdout",
          "text": [
            "Collecting pyspark\n",
            "  Downloading pyspark-3.5.0.tar.gz (316.9 MB)\n",
            "\u001b[2K     \u001b[90m━━━━━━━━━━━━━━━━━━━━━━━━━━━━━━━━━━━━━━━━\u001b[0m \u001b[32m316.9/316.9 MB\u001b[0m \u001b[31m4.8 MB/s\u001b[0m eta \u001b[36m0:00:00\u001b[0m\n",
            "\u001b[?25h  Preparing metadata (setup.py) ... \u001b[?25l\u001b[?25hdone\n",
            "Requirement already satisfied: py4j==0.10.9.7 in /usr/local/lib/python3.10/dist-packages (from pyspark) (0.10.9.7)\n",
            "Building wheels for collected packages: pyspark\n",
            "  Building wheel for pyspark (setup.py) ... \u001b[?25l\u001b[?25hdone\n",
            "  Created wheel for pyspark: filename=pyspark-3.5.0-py2.py3-none-any.whl size=317425344 sha256=8e268dfb1ff40b61730d1beed2886fd586ec027aaec2136107a9a09d55ea82d0\n",
            "  Stored in directory: /root/.cache/pip/wheels/41/4e/10/c2cf2467f71c678cfc8a6b9ac9241e5e44a01940da8fbb17fc\n",
            "Successfully built pyspark\n",
            "Installing collected packages: pyspark\n",
            "Successfully installed pyspark-3.5.0\n"
          ]
        }
      ],
      "source": [
        "!pip install pyspark"
      ]
    },
    {
      "cell_type": "code",
      "source": [
        "from pyspark.sql import SparkSession\n",
        "from pyspark.sql import functions as f\n",
        "from pyspark.sql.types import IntegerType, DoubleType\n",
        "from pyspark.ml.feature import VectorAssembler\n",
        "from pyspark.ml.regression import LinearRegression, DecisionTreeRegressor, RandomForestRegressor\n",
        "from pyspark.ml.evaluation import RegressionEvaluator"
      ],
      "metadata": {
        "id": "NQILhYwXv5MY"
      },
      "execution_count": 2,
      "outputs": []
    },
    {
      "cell_type": "code",
      "source": [
        "spark = SparkSession.builder.master('local[*]').getOrCreate()"
      ],
      "metadata": {
        "id": "7aBlfO10v5fo"
      },
      "execution_count": 3,
      "outputs": []
    },
    {
      "cell_type": "code",
      "source": [
        "spark"
      ],
      "metadata": {
        "colab": {
          "base_uri": "https://localhost:8080/",
          "height": 219
        },
        "id": "WP-64NU3v5vM",
        "outputId": "54122ef1-a9e8-46fa-d905-17c20fd72c7d"
      },
      "execution_count": 4,
      "outputs": [
        {
          "output_type": "execute_result",
          "data": {
            "text/plain": [
              "<pyspark.sql.session.SparkSession at 0x7b9d76724f70>"
            ],
            "text/html": [
              "\n",
              "            <div>\n",
              "                <p><b>SparkSession - in-memory</b></p>\n",
              "                \n",
              "        <div>\n",
              "            <p><b>SparkContext</b></p>\n",
              "\n",
              "            <p><a href=\"http://8a1daaa01fde:4040\">Spark UI</a></p>\n",
              "\n",
              "            <dl>\n",
              "              <dt>Version</dt>\n",
              "                <dd><code>v3.5.0</code></dd>\n",
              "              <dt>Master</dt>\n",
              "                <dd><code>local[*]</code></dd>\n",
              "              <dt>AppName</dt>\n",
              "                <dd><code>pyspark-shell</code></dd>\n",
              "            </dl>\n",
              "        </div>\n",
              "        \n",
              "            </div>\n",
              "        "
            ]
          },
          "metadata": {},
          "execution_count": 4
        }
      ]
    },
    {
      "cell_type": "code",
      "source": [
        "# from google.colab import drive\n",
        "# drive.mount('content/drive')"
      ],
      "metadata": {
        "id": "cDT0FbGvv56b"
      },
      "execution_count": 5,
      "outputs": []
    },
    {
      "cell_type": "code",
      "source": [
        "dados = spark.read.parquet('/content/drive/MyDrive/Alura/Challenge - Data Science 2/dataset_transformado_parquet')"
      ],
      "metadata": {
        "id": "ibpgI26Yv6FH"
      },
      "execution_count": 6,
      "outputs": []
    },
    {
      "cell_type": "code",
      "source": [
        "dados.show()"
      ],
      "metadata": {
        "colab": {
          "base_uri": "https://localhost:8080/"
        },
        "id": "DLOwws9fv6Qs",
        "outputId": "750b995d-31b8-46ab-ba60-16ed4a6cfc20"
      },
      "execution_count": 7,
      "outputs": [
        {
          "output_type": "stream",
          "name": "stdout",
          "text": [
            "+--------------------+-----+----------+---------+---------+--------------------+-------+------+------------+------------+-----------+----+--------------------+------------+----------+----+-----+------+\n",
            "|                  id|andar|area_total|area_util|banheiros|     caracteristicas|quartos|suites|tipo_anuncio|tipo_unidade|   tipo_uso|vaga|              bairro|        zona|condominio|iptu| tipo| valor|\n",
            "+--------------------+-----+----------+---------+---------+--------------------+-------+------+------------+------------+-----------+----+--------------------+------------+----------+----+-----+------+\n",
            "|03a386b6-7ab8-4ef...|    0|        43|       43|        1|[Churrasqueira, A...|      2|  NULL|       Usado| Apartamento|Residencial|   1|            Realengo|  Zona Oeste|       285|NULL|Venda| 22999|\n",
            "|1fe78d41-b8e0-4d2...|    0|        44|       44|        1|                  []|      2|     0|       Usado| Apartamento|Residencial|   0|               Irajá|  Zona Norte|       170|   0|Venda|110000|\n",
            "|1fa1c1e5-e98c-433...|    4|      NULL|       55|        1|                  []|      2|     0|       Usado| Apartamento|Residencial|   1|              Cosmos|  Zona Oeste|      NULL|NULL|Venda|115000|\n",
            "|a6ab01ae-3d40-40e...|    2|      NULL|       55|        1|                  []|      2|     0|       Usado| Apartamento|Residencial|   0|        Tomás Coelho|  Zona Norte|      NULL|NULL|Venda|115000|\n",
            "|1d8ff7a2-16bd-4e3...|    0|      NULL|       50|        1|                  []|      1|  NULL|       Usado| Apartamento|Residencial|   0|              Centro|Zona Central|      1300|2679|Venda|125000|\n",
            "|40a2cbde-946b-42d...|    2|        47|       47|        1|[Condomínio fecha...|      2|     0|       Usado| Apartamento|Residencial|   1|        Campo Grande|  Zona Oeste|       380|NULL|Venda|138000|\n",
            "|be269ddf-a4a3-4a7...|    0|     17089|       45|        1|[Churrasqueira, C...|      2|     0|       Usado| Apartamento|Residencial|   1|        Campo Grande|  Zona Oeste|       356|   0|Venda|140000|\n",
            "|4b7e3d59-34fd-4ba...|    3|        48|       48|        1|[Churrasqueira, P...|      2|  NULL|       Usado| Apartamento|Residencial|   1|        Campo Grande|  Zona Oeste|         0|   0|Venda|150000|\n",
            "|a1a0c2ac-4fa8-4b0...|    9|      NULL|       55|        1|[Churrasqueira, E...|      2|  NULL|       Usado| Apartamento|Residencial|   1|Freguesia (Jacare...|  Zona Oeste|       780| 660|Venda|160000|\n",
            "|390d2b88-e06d-47e...|    0|        70|       70|        2|   [Salão de festas]|      2|     0|       Usado| Apartamento|Residencial|   1|          Praça Seca|  Zona Oeste|    420000|NULL|Venda|159000|\n",
            "|07bb07c1-21cc-4da...|    2|        50|       48|        1|[Condomínio fecha...|      1|     0|       Usado| Apartamento|Residencial|   0|             Piedade|  Zona Norte|        10|  10|Venda|170000|\n",
            "|7d3a1bae-988c-44b...|    5|        40|       40|        1|[Playground, Chur...|      2|     0|       Usado| Apartamento|Residencial|   1|        Braz de Pina|  Zona Norte|       150| 120|Venda|189000|\n",
            "|47af17f0-1c81-474...|    0|        65|       65|        1|                  []|      2|     0|       Usado| Apartamento|Residencial|   1|            Campinho|  Zona Oeste|       432|NULL|Venda|185000|\n",
            "|a9bd1575-e9f2-43d...|    2|        50|       50|        1|[Condomínio fecha...|      1|     0|       Usado| Apartamento|Residencial|   1|           Madureira|  Zona Norte|       650|   1|Venda|185000|\n",
            "|cfca7253-3d02-4cd...|    5|        45|       45|        1|[Academia, Churra...|      2|     1|       Usado| Apartamento|Residencial|   0|             Taquara|  Zona Oeste|       150|  40|Venda|199000|\n",
            "|b571ae97-e3d8-4fb...|    0|        48|       48|        1|[Academia, Condom...|      2|  NULL|       Usado| Apartamento|Residencial|   0|          Bonsucesso|  Zona Norte|         0|   0|Venda|205933|\n",
            "|eb5fdc65-acae-45f...|    0|        44|       44|        1|[Academia, Condom...|      2|  NULL|       Usado| Apartamento|Residencial|   0|          Bonsucesso|  Zona Norte|         0|   0|Venda|206000|\n",
            "|77cd0388-e3ff-40c...|    2|        64|       64|        1|                  []|      2|     0|       Usado| Apartamento|Residencial|   0|      Jardim América|  Zona Norte|         0|   0|Venda|220000|\n",
            "|74a91f07-7387-4a8...|    0|        55|       55|        2|[Salão de festas,...|      1|     0|       Usado| Apartamento|Residencial|   1|        Engenho Novo|  Zona Norte|       600| 652|Venda|219130|\n",
            "|6aab1165-508d-455...|    3|        60|       60|        1|[Animais permitidos]|      3|     0|       Usado| Apartamento|Residencial|   1|           Cascadura|  Zona Norte|        98|   1|Venda|230000|\n",
            "+--------------------+-----+----------+---------+---------+--------------------+-------+------+------------+------------+-----------+----+--------------------+------------+----------+----+-----+------+\n",
            "only showing top 20 rows\n",
            "\n"
          ]
        }
      ]
    },
    {
      "cell_type": "code",
      "source": [
        "dados.printSchema()"
      ],
      "metadata": {
        "colab": {
          "base_uri": "https://localhost:8080/"
        },
        "id": "FIvhYXnF1Qut",
        "outputId": "b1efc21b-f28e-4a4d-8d47-63500a9b0edc"
      },
      "execution_count": 8,
      "outputs": [
        {
          "output_type": "stream",
          "name": "stdout",
          "text": [
            "root\n",
            " |-- id: string (nullable = true)\n",
            " |-- andar: long (nullable = true)\n",
            " |-- area_total: string (nullable = true)\n",
            " |-- area_util: string (nullable = true)\n",
            " |-- banheiros: long (nullable = true)\n",
            " |-- caracteristicas: array (nullable = true)\n",
            " |    |-- element: string (containsNull = true)\n",
            " |-- quartos: long (nullable = true)\n",
            " |-- suites: long (nullable = true)\n",
            " |-- tipo_anuncio: string (nullable = true)\n",
            " |-- tipo_unidade: string (nullable = true)\n",
            " |-- tipo_uso: string (nullable = true)\n",
            " |-- vaga: long (nullable = true)\n",
            " |-- bairro: string (nullable = true)\n",
            " |-- zona: string (nullable = true)\n",
            " |-- condominio: string (nullable = true)\n",
            " |-- iptu: string (nullable = true)\n",
            " |-- tipo: string (nullable = true)\n",
            " |-- valor: string (nullable = true)\n",
            "\n"
          ]
        }
      ]
    },
    {
      "cell_type": "markdown",
      "source": [
        "## 2ª Tarefa - Seleção de features"
      ],
      "metadata": {
        "id": "wc1CQdFf1OjO"
      }
    },
    {
      "cell_type": "markdown",
      "source": [
        "A seleção de features é uma etapa muito importante na construção de modelos de Machine Learning. Escolher quais colunas são importantes e descartar as irrelevantes para a análise reduz a complexidade dos dados inseridos e por consequência o modelo irá demorar menos tempo para ser ajustado."
      ],
      "metadata": {
        "id": "dF1_pSar1t0M"
      }
    },
    {
      "cell_type": "code",
      "source": [
        "dados.groupBy('tipo_anuncio').count().show()"
      ],
      "metadata": {
        "colab": {
          "base_uri": "https://localhost:8080/"
        },
        "id": "eR0sAVJx1O01",
        "outputId": "318c5fa0-769a-4ed8-edd3-91cf21d82915"
      },
      "execution_count": 9,
      "outputs": [
        {
          "output_type": "stream",
          "name": "stdout",
          "text": [
            "+------------+-----+\n",
            "|tipo_anuncio|count|\n",
            "+------------+-----+\n",
            "|       Usado|66562|\n",
            "+------------+-----+\n",
            "\n"
          ]
        }
      ]
    },
    {
      "cell_type": "code",
      "source": [
        "dados.groupBy('tipo_unidade').count().show()"
      ],
      "metadata": {
        "colab": {
          "base_uri": "https://localhost:8080/"
        },
        "id": "kepGOkZn2Nsp",
        "outputId": "9e23f010-35b9-4364-bf15-56f2ca0ba5c3"
      },
      "execution_count": 10,
      "outputs": [
        {
          "output_type": "stream",
          "name": "stdout",
          "text": [
            "+------------+-----+\n",
            "|tipo_unidade|count|\n",
            "+------------+-----+\n",
            "| Apartamento|66562|\n",
            "+------------+-----+\n",
            "\n"
          ]
        }
      ]
    },
    {
      "cell_type": "code",
      "source": [
        "dados.groupBy('tipo_uso').count().show()"
      ],
      "metadata": {
        "colab": {
          "base_uri": "https://localhost:8080/"
        },
        "id": "o9AVJCJI2u7c",
        "outputId": "1c5b6f6a-6f13-4542-e82d-37048a89c273"
      },
      "execution_count": 11,
      "outputs": [
        {
          "output_type": "stream",
          "name": "stdout",
          "text": [
            "+-----------+-----+\n",
            "|   tipo_uso|count|\n",
            "+-----------+-----+\n",
            "|Residencial|66562|\n",
            "+-----------+-----+\n",
            "\n"
          ]
        }
      ]
    },
    {
      "cell_type": "code",
      "source": [
        "dados.groupBy('tipo').count().show()"
      ],
      "metadata": {
        "colab": {
          "base_uri": "https://localhost:8080/"
        },
        "id": "Q7ebFOaz2xYd",
        "outputId": "7dc35711-c71c-49df-a7be-b2ed3be34df8"
      },
      "execution_count": 12,
      "outputs": [
        {
          "output_type": "stream",
          "name": "stdout",
          "text": [
            "+-----+-----+\n",
            "| tipo|count|\n",
            "+-----+-----+\n",
            "|Venda|66562|\n",
            "+-----+-----+\n",
            "\n"
          ]
        }
      ]
    },
    {
      "cell_type": "code",
      "source": [
        "df_sem_colunas_com_um_unico_valor = dados.drop('tipo_anuncio').drop('tipo_unidade').drop('tipo_uso').drop('tipo')\n",
        "df_sem_colunas_com_um_unico_valor.show()"
      ],
      "metadata": {
        "colab": {
          "base_uri": "https://localhost:8080/"
        },
        "id": "YnqTt6T720yc",
        "outputId": "9b789973-63d0-426e-9c05-59d361ce2aa9"
      },
      "execution_count": 13,
      "outputs": [
        {
          "output_type": "stream",
          "name": "stdout",
          "text": [
            "+--------------------+-----+----------+---------+---------+--------------------+-------+------+----+--------------------+------------+----------+----+------+\n",
            "|                  id|andar|area_total|area_util|banheiros|     caracteristicas|quartos|suites|vaga|              bairro|        zona|condominio|iptu| valor|\n",
            "+--------------------+-----+----------+---------+---------+--------------------+-------+------+----+--------------------+------------+----------+----+------+\n",
            "|03a386b6-7ab8-4ef...|    0|        43|       43|        1|[Churrasqueira, A...|      2|  NULL|   1|            Realengo|  Zona Oeste|       285|NULL| 22999|\n",
            "|1fe78d41-b8e0-4d2...|    0|        44|       44|        1|                  []|      2|     0|   0|               Irajá|  Zona Norte|       170|   0|110000|\n",
            "|1fa1c1e5-e98c-433...|    4|      NULL|       55|        1|                  []|      2|     0|   1|              Cosmos|  Zona Oeste|      NULL|NULL|115000|\n",
            "|a6ab01ae-3d40-40e...|    2|      NULL|       55|        1|                  []|      2|     0|   0|        Tomás Coelho|  Zona Norte|      NULL|NULL|115000|\n",
            "|1d8ff7a2-16bd-4e3...|    0|      NULL|       50|        1|                  []|      1|  NULL|   0|              Centro|Zona Central|      1300|2679|125000|\n",
            "|40a2cbde-946b-42d...|    2|        47|       47|        1|[Condomínio fecha...|      2|     0|   1|        Campo Grande|  Zona Oeste|       380|NULL|138000|\n",
            "|be269ddf-a4a3-4a7...|    0|     17089|       45|        1|[Churrasqueira, C...|      2|     0|   1|        Campo Grande|  Zona Oeste|       356|   0|140000|\n",
            "|4b7e3d59-34fd-4ba...|    3|        48|       48|        1|[Churrasqueira, P...|      2|  NULL|   1|        Campo Grande|  Zona Oeste|         0|   0|150000|\n",
            "|a1a0c2ac-4fa8-4b0...|    9|      NULL|       55|        1|[Churrasqueira, E...|      2|  NULL|   1|Freguesia (Jacare...|  Zona Oeste|       780| 660|160000|\n",
            "|390d2b88-e06d-47e...|    0|        70|       70|        2|   [Salão de festas]|      2|     0|   1|          Praça Seca|  Zona Oeste|    420000|NULL|159000|\n",
            "|07bb07c1-21cc-4da...|    2|        50|       48|        1|[Condomínio fecha...|      1|     0|   0|             Piedade|  Zona Norte|        10|  10|170000|\n",
            "|7d3a1bae-988c-44b...|    5|        40|       40|        1|[Playground, Chur...|      2|     0|   1|        Braz de Pina|  Zona Norte|       150| 120|189000|\n",
            "|47af17f0-1c81-474...|    0|        65|       65|        1|                  []|      2|     0|   1|            Campinho|  Zona Oeste|       432|NULL|185000|\n",
            "|a9bd1575-e9f2-43d...|    2|        50|       50|        1|[Condomínio fecha...|      1|     0|   1|           Madureira|  Zona Norte|       650|   1|185000|\n",
            "|cfca7253-3d02-4cd...|    5|        45|       45|        1|[Academia, Churra...|      2|     1|   0|             Taquara|  Zona Oeste|       150|  40|199000|\n",
            "|b571ae97-e3d8-4fb...|    0|        48|       48|        1|[Academia, Condom...|      2|  NULL|   0|          Bonsucesso|  Zona Norte|         0|   0|205933|\n",
            "|eb5fdc65-acae-45f...|    0|        44|       44|        1|[Academia, Condom...|      2|  NULL|   0|          Bonsucesso|  Zona Norte|         0|   0|206000|\n",
            "|77cd0388-e3ff-40c...|    2|        64|       64|        1|                  []|      2|     0|   0|      Jardim América|  Zona Norte|         0|   0|220000|\n",
            "|74a91f07-7387-4a8...|    0|        55|       55|        2|[Salão de festas,...|      1|     0|   1|        Engenho Novo|  Zona Norte|       600| 652|219130|\n",
            "|6aab1165-508d-455...|    3|        60|       60|        1|[Animais permitidos]|      3|     0|   1|           Cascadura|  Zona Norte|        98|   1|230000|\n",
            "+--------------------+-----+----------+---------+---------+--------------------+-------+------+----+--------------------+------------+----------+----+------+\n",
            "only showing top 20 rows\n",
            "\n"
          ]
        }
      ]
    },
    {
      "cell_type": "code",
      "source": [
        "dados.groupBy(f.isnull('area_total')).count().show()"
      ],
      "metadata": {
        "colab": {
          "base_uri": "https://localhost:8080/"
        },
        "id": "wqNo31nW3NWo",
        "outputId": "dba6b395-73ea-46ab-89a4-3a777ed2a30b"
      },
      "execution_count": 14,
      "outputs": [
        {
          "output_type": "stream",
          "name": "stdout",
          "text": [
            "+--------------------+-----+\n",
            "|(area_total IS NULL)|count|\n",
            "+--------------------+-----+\n",
            "|                true| 9194|\n",
            "|               false|57368|\n",
            "+--------------------+-----+\n",
            "\n"
          ]
        }
      ]
    },
    {
      "cell_type": "code",
      "source": [
        "dados.groupBy(f.isnull('area_util')).count().show()"
      ],
      "metadata": {
        "colab": {
          "base_uri": "https://localhost:8080/"
        },
        "id": "SeAC89XY3buD",
        "outputId": "41d1bced-ddb2-4cdd-f22e-27c1763cefcc"
      },
      "execution_count": 15,
      "outputs": [
        {
          "output_type": "stream",
          "name": "stdout",
          "text": [
            "+-------------------+-----+\n",
            "|(area_util IS NULL)|count|\n",
            "+-------------------+-----+\n",
            "|              false|66562|\n",
            "+-------------------+-----+\n",
            "\n"
          ]
        }
      ]
    },
    {
      "cell_type": "code",
      "source": [
        "df_sem_colunas_sem_redundantes = df_sem_colunas_com_um_unico_valor.drop('area_total').drop('bairro')\n",
        "df_sem_colunas_sem_redundantes.show()"
      ],
      "metadata": {
        "colab": {
          "base_uri": "https://localhost:8080/"
        },
        "id": "5aFSmY2M3elW",
        "outputId": "56a35f78-4f7c-455c-fb21-4511047e9309"
      },
      "execution_count": 16,
      "outputs": [
        {
          "output_type": "stream",
          "name": "stdout",
          "text": [
            "+--------------------+-----+---------+---------+--------------------+-------+------+----+------------+----------+----+------+\n",
            "|                  id|andar|area_util|banheiros|     caracteristicas|quartos|suites|vaga|        zona|condominio|iptu| valor|\n",
            "+--------------------+-----+---------+---------+--------------------+-------+------+----+------------+----------+----+------+\n",
            "|03a386b6-7ab8-4ef...|    0|       43|        1|[Churrasqueira, A...|      2|  NULL|   1|  Zona Oeste|       285|NULL| 22999|\n",
            "|1fe78d41-b8e0-4d2...|    0|       44|        1|                  []|      2|     0|   0|  Zona Norte|       170|   0|110000|\n",
            "|1fa1c1e5-e98c-433...|    4|       55|        1|                  []|      2|     0|   1|  Zona Oeste|      NULL|NULL|115000|\n",
            "|a6ab01ae-3d40-40e...|    2|       55|        1|                  []|      2|     0|   0|  Zona Norte|      NULL|NULL|115000|\n",
            "|1d8ff7a2-16bd-4e3...|    0|       50|        1|                  []|      1|  NULL|   0|Zona Central|      1300|2679|125000|\n",
            "|40a2cbde-946b-42d...|    2|       47|        1|[Condomínio fecha...|      2|     0|   1|  Zona Oeste|       380|NULL|138000|\n",
            "|be269ddf-a4a3-4a7...|    0|       45|        1|[Churrasqueira, C...|      2|     0|   1|  Zona Oeste|       356|   0|140000|\n",
            "|4b7e3d59-34fd-4ba...|    3|       48|        1|[Churrasqueira, P...|      2|  NULL|   1|  Zona Oeste|         0|   0|150000|\n",
            "|a1a0c2ac-4fa8-4b0...|    9|       55|        1|[Churrasqueira, E...|      2|  NULL|   1|  Zona Oeste|       780| 660|160000|\n",
            "|390d2b88-e06d-47e...|    0|       70|        2|   [Salão de festas]|      2|     0|   1|  Zona Oeste|    420000|NULL|159000|\n",
            "|07bb07c1-21cc-4da...|    2|       48|        1|[Condomínio fecha...|      1|     0|   0|  Zona Norte|        10|  10|170000|\n",
            "|7d3a1bae-988c-44b...|    5|       40|        1|[Playground, Chur...|      2|     0|   1|  Zona Norte|       150| 120|189000|\n",
            "|47af17f0-1c81-474...|    0|       65|        1|                  []|      2|     0|   1|  Zona Oeste|       432|NULL|185000|\n",
            "|a9bd1575-e9f2-43d...|    2|       50|        1|[Condomínio fecha...|      1|     0|   1|  Zona Norte|       650|   1|185000|\n",
            "|cfca7253-3d02-4cd...|    5|       45|        1|[Academia, Churra...|      2|     1|   0|  Zona Oeste|       150|  40|199000|\n",
            "|b571ae97-e3d8-4fb...|    0|       48|        1|[Academia, Condom...|      2|  NULL|   0|  Zona Norte|         0|   0|205933|\n",
            "|eb5fdc65-acae-45f...|    0|       44|        1|[Academia, Condom...|      2|  NULL|   0|  Zona Norte|         0|   0|206000|\n",
            "|77cd0388-e3ff-40c...|    2|       64|        1|                  []|      2|     0|   0|  Zona Norte|         0|   0|220000|\n",
            "|74a91f07-7387-4a8...|    0|       55|        2|[Salão de festas,...|      1|     0|   1|  Zona Norte|       600| 652|219130|\n",
            "|6aab1165-508d-455...|    3|       60|        1|[Animais permitidos]|      3|     0|   1|  Zona Norte|        98|   1|230000|\n",
            "+--------------------+-----+---------+---------+--------------------+-------+------+----+------------+----------+----+------+\n",
            "only showing top 20 rows\n",
            "\n"
          ]
        }
      ]
    },
    {
      "cell_type": "markdown",
      "source": [
        "## 3ª Tarefa - Converter os tipos das colunas"
      ],
      "metadata": {
        "id": "AiOTHNAp7rsP"
      }
    },
    {
      "cell_type": "markdown",
      "source": [
        "Ao analisarmos a estrutura da nossa base de dados, vamos notar que os tipos dos dados de cada coluna estão incorretos e por isso é necessário convertê-los."
      ],
      "metadata": {
        "id": "uKi0Nwpp7v4r"
      }
    },
    {
      "cell_type": "code",
      "source": [
        "df_sem_colunas_sem_redundantes.printSchema()"
      ],
      "metadata": {
        "colab": {
          "base_uri": "https://localhost:8080/"
        },
        "id": "YfygJtVl5L5m",
        "outputId": "5fc73784-df65-4f27-ae73-e17e0cc674b6"
      },
      "execution_count": 17,
      "outputs": [
        {
          "output_type": "stream",
          "name": "stdout",
          "text": [
            "root\n",
            " |-- id: string (nullable = true)\n",
            " |-- andar: long (nullable = true)\n",
            " |-- area_util: string (nullable = true)\n",
            " |-- banheiros: long (nullable = true)\n",
            " |-- caracteristicas: array (nullable = true)\n",
            " |    |-- element: string (containsNull = true)\n",
            " |-- quartos: long (nullable = true)\n",
            " |-- suites: long (nullable = true)\n",
            " |-- vaga: long (nullable = true)\n",
            " |-- zona: string (nullable = true)\n",
            " |-- condominio: string (nullable = true)\n",
            " |-- iptu: string (nullable = true)\n",
            " |-- valor: string (nullable = true)\n",
            "\n"
          ]
        }
      ]
    },
    {
      "cell_type": "code",
      "source": [
        "df_com_tipos_corrigidos = df_sem_colunas_sem_redundantes\\\n",
        ".withColumn('andar', df_sem_colunas_sem_redundantes['andar'].cast(IntegerType()))\\\n",
        ".withColumn('area_util', df_sem_colunas_sem_redundantes['area_util'].cast(DoubleType()))\\\n",
        ".withColumn('banheiros', df_sem_colunas_sem_redundantes['banheiros'].cast(IntegerType()))\\\n",
        ".withColumn('quartos', df_sem_colunas_sem_redundantes['quartos'].cast(IntegerType()))\\\n",
        ".withColumn('suites', df_sem_colunas_sem_redundantes['suites'].cast(IntegerType()))\\\n",
        ".withColumn('vaga', df_sem_colunas_sem_redundantes['vaga'].cast(IntegerType()))\\\n",
        ".withColumn('condominio', df_sem_colunas_sem_redundantes['condominio'].cast(DoubleType()))\\\n",
        ".withColumn('iptu', df_sem_colunas_sem_redundantes['iptu'].cast(DoubleType()))\\\n",
        ".withColumn('valor', df_sem_colunas_sem_redundantes['valor'].cast(DoubleType()))"
      ],
      "metadata": {
        "id": "bW1kPduL74iq"
      },
      "execution_count": 18,
      "outputs": []
    },
    {
      "cell_type": "code",
      "source": [
        "df_com_tipos_corrigidos.show()"
      ],
      "metadata": {
        "colab": {
          "base_uri": "https://localhost:8080/"
        },
        "id": "k2KMsQQV9nvZ",
        "outputId": "b671465a-b20e-4648-84ee-d0538f5d0e58"
      },
      "execution_count": 19,
      "outputs": [
        {
          "output_type": "stream",
          "name": "stdout",
          "text": [
            "+--------------------+-----+---------+---------+--------------------+-------+------+----+------------+----------+------+--------+\n",
            "|                  id|andar|area_util|banheiros|     caracteristicas|quartos|suites|vaga|        zona|condominio|  iptu|   valor|\n",
            "+--------------------+-----+---------+---------+--------------------+-------+------+----+------------+----------+------+--------+\n",
            "|03a386b6-7ab8-4ef...|    0|     43.0|        1|[Churrasqueira, A...|      2|  NULL|   1|  Zona Oeste|     285.0|  NULL| 22999.0|\n",
            "|1fe78d41-b8e0-4d2...|    0|     44.0|        1|                  []|      2|     0|   0|  Zona Norte|     170.0|   0.0|110000.0|\n",
            "|1fa1c1e5-e98c-433...|    4|     55.0|        1|                  []|      2|     0|   1|  Zona Oeste|      NULL|  NULL|115000.0|\n",
            "|a6ab01ae-3d40-40e...|    2|     55.0|        1|                  []|      2|     0|   0|  Zona Norte|      NULL|  NULL|115000.0|\n",
            "|1d8ff7a2-16bd-4e3...|    0|     50.0|        1|                  []|      1|  NULL|   0|Zona Central|    1300.0|2679.0|125000.0|\n",
            "|40a2cbde-946b-42d...|    2|     47.0|        1|[Condomínio fecha...|      2|     0|   1|  Zona Oeste|     380.0|  NULL|138000.0|\n",
            "|be269ddf-a4a3-4a7...|    0|     45.0|        1|[Churrasqueira, C...|      2|     0|   1|  Zona Oeste|     356.0|   0.0|140000.0|\n",
            "|4b7e3d59-34fd-4ba...|    3|     48.0|        1|[Churrasqueira, P...|      2|  NULL|   1|  Zona Oeste|       0.0|   0.0|150000.0|\n",
            "|a1a0c2ac-4fa8-4b0...|    9|     55.0|        1|[Churrasqueira, E...|      2|  NULL|   1|  Zona Oeste|     780.0| 660.0|160000.0|\n",
            "|390d2b88-e06d-47e...|    0|     70.0|        2|   [Salão de festas]|      2|     0|   1|  Zona Oeste|  420000.0|  NULL|159000.0|\n",
            "|07bb07c1-21cc-4da...|    2|     48.0|        1|[Condomínio fecha...|      1|     0|   0|  Zona Norte|      10.0|  10.0|170000.0|\n",
            "|7d3a1bae-988c-44b...|    5|     40.0|        1|[Playground, Chur...|      2|     0|   1|  Zona Norte|     150.0| 120.0|189000.0|\n",
            "|47af17f0-1c81-474...|    0|     65.0|        1|                  []|      2|     0|   1|  Zona Oeste|     432.0|  NULL|185000.0|\n",
            "|a9bd1575-e9f2-43d...|    2|     50.0|        1|[Condomínio fecha...|      1|     0|   1|  Zona Norte|     650.0|   1.0|185000.0|\n",
            "|cfca7253-3d02-4cd...|    5|     45.0|        1|[Academia, Churra...|      2|     1|   0|  Zona Oeste|     150.0|  40.0|199000.0|\n",
            "|b571ae97-e3d8-4fb...|    0|     48.0|        1|[Academia, Condom...|      2|  NULL|   0|  Zona Norte|       0.0|   0.0|205933.0|\n",
            "|eb5fdc65-acae-45f...|    0|     44.0|        1|[Academia, Condom...|      2|  NULL|   0|  Zona Norte|       0.0|   0.0|206000.0|\n",
            "|77cd0388-e3ff-40c...|    2|     64.0|        1|                  []|      2|     0|   0|  Zona Norte|       0.0|   0.0|220000.0|\n",
            "|74a91f07-7387-4a8...|    0|     55.0|        2|[Salão de festas,...|      1|     0|   1|  Zona Norte|     600.0| 652.0|219130.0|\n",
            "|6aab1165-508d-455...|    3|     60.0|        1|[Animais permitidos]|      3|     0|   1|  Zona Norte|      98.0|   1.0|230000.0|\n",
            "+--------------------+-----+---------+---------+--------------------+-------+------+----+------------+----------+------+--------+\n",
            "only showing top 20 rows\n",
            "\n"
          ]
        }
      ]
    },
    {
      "cell_type": "code",
      "source": [
        "df_com_tipos_corrigidos.printSchema()"
      ],
      "metadata": {
        "colab": {
          "base_uri": "https://localhost:8080/"
        },
        "id": "rQsKxlK--mNx",
        "outputId": "a40b13d4-a5e9-4db6-faa4-0b503136f1e5"
      },
      "execution_count": 20,
      "outputs": [
        {
          "output_type": "stream",
          "name": "stdout",
          "text": [
            "root\n",
            " |-- id: string (nullable = true)\n",
            " |-- andar: integer (nullable = true)\n",
            " |-- area_util: double (nullable = true)\n",
            " |-- banheiros: integer (nullable = true)\n",
            " |-- caracteristicas: array (nullable = true)\n",
            " |    |-- element: string (containsNull = true)\n",
            " |-- quartos: integer (nullable = true)\n",
            " |-- suites: integer (nullable = true)\n",
            " |-- vaga: integer (nullable = true)\n",
            " |-- zona: string (nullable = true)\n",
            " |-- condominio: double (nullable = true)\n",
            " |-- iptu: double (nullable = true)\n",
            " |-- valor: double (nullable = true)\n",
            "\n"
          ]
        }
      ]
    },
    {
      "cell_type": "markdown",
      "source": [
        "## 4ª Tarefa - Tratamento da coluna caracteristicas"
      ],
      "metadata": {
        "id": "uXlZB8uB-5-w"
      }
    },
    {
      "cell_type": "markdown",
      "source": [
        "A coluna caracteristicas possui listas de strings como conteúdo de suas linhas. No entanto, algumas dessas listas estão sem elementos.\n",
        "\n",
        "Vamos transformar essas listas sem elementos em valores nulos."
      ],
      "metadata": {
        "id": "7DPVrUdU-9Tx"
      }
    },
    {
      "cell_type": "code",
      "source": [
        "df_com_caracteristicas_nulas = df_com_tipos_corrigidos\\\n",
        ".withColumn('caracteristicas',\n",
        "            f.when(df_com_tipos_corrigidos['caracteristicas'] != f.array(),\n",
        "                   df_com_tipos_corrigidos['caracteristicas']))\n",
        "\n",
        "df_com_caracteristicas_nulas.show()"
      ],
      "metadata": {
        "colab": {
          "base_uri": "https://localhost:8080/"
        },
        "id": "2pI35yPc-oIB",
        "outputId": "9705aa3d-b073-4a1c-850c-8d3345b3914b"
      },
      "execution_count": 21,
      "outputs": [
        {
          "output_type": "stream",
          "name": "stdout",
          "text": [
            "+--------------------+-----+---------+---------+--------------------+-------+------+----+------------+----------+------+--------+\n",
            "|                  id|andar|area_util|banheiros|     caracteristicas|quartos|suites|vaga|        zona|condominio|  iptu|   valor|\n",
            "+--------------------+-----+---------+---------+--------------------+-------+------+----+------------+----------+------+--------+\n",
            "|03a386b6-7ab8-4ef...|    0|     43.0|        1|[Churrasqueira, A...|      2|  NULL|   1|  Zona Oeste|     285.0|  NULL| 22999.0|\n",
            "|1fe78d41-b8e0-4d2...|    0|     44.0|        1|                NULL|      2|     0|   0|  Zona Norte|     170.0|   0.0|110000.0|\n",
            "|1fa1c1e5-e98c-433...|    4|     55.0|        1|                NULL|      2|     0|   1|  Zona Oeste|      NULL|  NULL|115000.0|\n",
            "|a6ab01ae-3d40-40e...|    2|     55.0|        1|                NULL|      2|     0|   0|  Zona Norte|      NULL|  NULL|115000.0|\n",
            "|1d8ff7a2-16bd-4e3...|    0|     50.0|        1|                NULL|      1|  NULL|   0|Zona Central|    1300.0|2679.0|125000.0|\n",
            "|40a2cbde-946b-42d...|    2|     47.0|        1|[Condomínio fecha...|      2|     0|   1|  Zona Oeste|     380.0|  NULL|138000.0|\n",
            "|be269ddf-a4a3-4a7...|    0|     45.0|        1|[Churrasqueira, C...|      2|     0|   1|  Zona Oeste|     356.0|   0.0|140000.0|\n",
            "|4b7e3d59-34fd-4ba...|    3|     48.0|        1|[Churrasqueira, P...|      2|  NULL|   1|  Zona Oeste|       0.0|   0.0|150000.0|\n",
            "|a1a0c2ac-4fa8-4b0...|    9|     55.0|        1|[Churrasqueira, E...|      2|  NULL|   1|  Zona Oeste|     780.0| 660.0|160000.0|\n",
            "|390d2b88-e06d-47e...|    0|     70.0|        2|   [Salão de festas]|      2|     0|   1|  Zona Oeste|  420000.0|  NULL|159000.0|\n",
            "|07bb07c1-21cc-4da...|    2|     48.0|        1|[Condomínio fecha...|      1|     0|   0|  Zona Norte|      10.0|  10.0|170000.0|\n",
            "|7d3a1bae-988c-44b...|    5|     40.0|        1|[Playground, Chur...|      2|     0|   1|  Zona Norte|     150.0| 120.0|189000.0|\n",
            "|47af17f0-1c81-474...|    0|     65.0|        1|                NULL|      2|     0|   1|  Zona Oeste|     432.0|  NULL|185000.0|\n",
            "|a9bd1575-e9f2-43d...|    2|     50.0|        1|[Condomínio fecha...|      1|     0|   1|  Zona Norte|     650.0|   1.0|185000.0|\n",
            "|cfca7253-3d02-4cd...|    5|     45.0|        1|[Academia, Churra...|      2|     1|   0|  Zona Oeste|     150.0|  40.0|199000.0|\n",
            "|b571ae97-e3d8-4fb...|    0|     48.0|        1|[Academia, Condom...|      2|  NULL|   0|  Zona Norte|       0.0|   0.0|205933.0|\n",
            "|eb5fdc65-acae-45f...|    0|     44.0|        1|[Academia, Condom...|      2|  NULL|   0|  Zona Norte|       0.0|   0.0|206000.0|\n",
            "|77cd0388-e3ff-40c...|    2|     64.0|        1|                NULL|      2|     0|   0|  Zona Norte|       0.0|   0.0|220000.0|\n",
            "|74a91f07-7387-4a8...|    0|     55.0|        2|[Salão de festas,...|      1|     0|   1|  Zona Norte|     600.0| 652.0|219130.0|\n",
            "|6aab1165-508d-455...|    3|     60.0|        1|[Animais permitidos]|      3|     0|   1|  Zona Norte|      98.0|   1.0|230000.0|\n",
            "+--------------------+-----+---------+---------+--------------------+-------+------+----+------------+----------+------+--------+\n",
            "only showing top 20 rows\n",
            "\n"
          ]
        }
      ]
    },
    {
      "cell_type": "markdown",
      "source": [
        "## 5ª Tarefa - Tratar dados nulos e NaN's"
      ],
      "metadata": {
        "id": "oUPDyMngJq3d"
      }
    },
    {
      "cell_type": "markdown",
      "source": [
        "Ao analisarmos a estrutura da nossa base de dados, vamos notar que ela possui diversos dados faltantes. Dessa maneira, é importante lidarmos com isso, pois modelos de Machine Learning não costumam trabalhar corretamente com dados nulos."
      ],
      "metadata": {
        "id": "StOCv_U2JxyF"
      }
    },
    {
      "cell_type": "code",
      "source": [
        "df_nulos = df_com_caracteristicas_nulas\\\n",
        ".select([f.isnull(column).alias(f'{column}_nulos') for column in df_com_caracteristicas_nulas.columns])\n",
        "\n",
        "for column in df_nulos.columns:\n",
        "  df_nulos.groupBy(column).count().show()"
      ],
      "metadata": {
        "colab": {
          "base_uri": "https://localhost:8080/"
        },
        "id": "BhBIOZLSHIwT",
        "outputId": "3b9f0a87-043f-4326-b34e-fd5923dadac7"
      },
      "execution_count": 22,
      "outputs": [
        {
          "output_type": "stream",
          "name": "stdout",
          "text": [
            "+--------+-----+\n",
            "|id_nulos|count|\n",
            "+--------+-----+\n",
            "|   false|66562|\n",
            "+--------+-----+\n",
            "\n",
            "+-----------+-----+\n",
            "|andar_nulos|count|\n",
            "+-----------+-----+\n",
            "|      false|66562|\n",
            "+-----------+-----+\n",
            "\n",
            "+---------------+-----+\n",
            "|area_util_nulos|count|\n",
            "+---------------+-----+\n",
            "|          false|66562|\n",
            "+---------------+-----+\n",
            "\n",
            "+---------------+-----+\n",
            "|banheiros_nulos|count|\n",
            "+---------------+-----+\n",
            "|          false|66562|\n",
            "+---------------+-----+\n",
            "\n",
            "+---------------------+-----+\n",
            "|caracteristicas_nulos|count|\n",
            "+---------------------+-----+\n",
            "|                 true|12736|\n",
            "|                false|53826|\n",
            "+---------------------+-----+\n",
            "\n",
            "+-------------+-----+\n",
            "|quartos_nulos|count|\n",
            "+-------------+-----+\n",
            "|        false|66562|\n",
            "+-------------+-----+\n",
            "\n",
            "+------------+-----+\n",
            "|suites_nulos|count|\n",
            "+------------+-----+\n",
            "|        true| 5554|\n",
            "|       false|61008|\n",
            "+------------+-----+\n",
            "\n",
            "+----------+-----+\n",
            "|vaga_nulos|count|\n",
            "+----------+-----+\n",
            "|      true| 3017|\n",
            "|     false|63545|\n",
            "+----------+-----+\n",
            "\n",
            "+----------+-----+\n",
            "|zona_nulos|count|\n",
            "+----------+-----+\n",
            "|     false|66562|\n",
            "+----------+-----+\n",
            "\n",
            "+----------------+-----+\n",
            "|condominio_nulos|count|\n",
            "+----------------+-----+\n",
            "|            true| 2371|\n",
            "|           false|64191|\n",
            "+----------------+-----+\n",
            "\n",
            "+----------+-----+\n",
            "|iptu_nulos|count|\n",
            "+----------+-----+\n",
            "|      true| 7199|\n",
            "|     false|59363|\n",
            "+----------+-----+\n",
            "\n",
            "+-----------+-----+\n",
            "|valor_nulos|count|\n",
            "+-----------+-----+\n",
            "|      false|66562|\n",
            "+-----------+-----+\n",
            "\n"
          ]
        }
      ]
    },
    {
      "cell_type": "code",
      "source": [
        "df_com_nulos_tratados = df_com_caracteristicas_nulas.fillna({'suites': 0, 'vaga': 0, 'condominio': 0,'iptu': 0})"
      ],
      "metadata": {
        "id": "x-95wql6MFKJ"
      },
      "execution_count": 23,
      "outputs": []
    },
    {
      "cell_type": "code",
      "source": [
        "df_com_nulos_tratados.show()"
      ],
      "metadata": {
        "colab": {
          "base_uri": "https://localhost:8080/"
        },
        "id": "DGFLI1gZSuTl",
        "outputId": "58656f3b-bd12-4990-b5b8-4b6ee23a4dbd"
      },
      "execution_count": 24,
      "outputs": [
        {
          "output_type": "stream",
          "name": "stdout",
          "text": [
            "+--------------------+-----+---------+---------+--------------------+-------+------+----+------------+----------+------+--------+\n",
            "|                  id|andar|area_util|banheiros|     caracteristicas|quartos|suites|vaga|        zona|condominio|  iptu|   valor|\n",
            "+--------------------+-----+---------+---------+--------------------+-------+------+----+------------+----------+------+--------+\n",
            "|03a386b6-7ab8-4ef...|    0|     43.0|        1|[Churrasqueira, A...|      2|     0|   1|  Zona Oeste|     285.0|   0.0| 22999.0|\n",
            "|1fe78d41-b8e0-4d2...|    0|     44.0|        1|                NULL|      2|     0|   0|  Zona Norte|     170.0|   0.0|110000.0|\n",
            "|1fa1c1e5-e98c-433...|    4|     55.0|        1|                NULL|      2|     0|   1|  Zona Oeste|       0.0|   0.0|115000.0|\n",
            "|a6ab01ae-3d40-40e...|    2|     55.0|        1|                NULL|      2|     0|   0|  Zona Norte|       0.0|   0.0|115000.0|\n",
            "|1d8ff7a2-16bd-4e3...|    0|     50.0|        1|                NULL|      1|     0|   0|Zona Central|    1300.0|2679.0|125000.0|\n",
            "|40a2cbde-946b-42d...|    2|     47.0|        1|[Condomínio fecha...|      2|     0|   1|  Zona Oeste|     380.0|   0.0|138000.0|\n",
            "|be269ddf-a4a3-4a7...|    0|     45.0|        1|[Churrasqueira, C...|      2|     0|   1|  Zona Oeste|     356.0|   0.0|140000.0|\n",
            "|4b7e3d59-34fd-4ba...|    3|     48.0|        1|[Churrasqueira, P...|      2|     0|   1|  Zona Oeste|       0.0|   0.0|150000.0|\n",
            "|a1a0c2ac-4fa8-4b0...|    9|     55.0|        1|[Churrasqueira, E...|      2|     0|   1|  Zona Oeste|     780.0| 660.0|160000.0|\n",
            "|390d2b88-e06d-47e...|    0|     70.0|        2|   [Salão de festas]|      2|     0|   1|  Zona Oeste|  420000.0|   0.0|159000.0|\n",
            "|07bb07c1-21cc-4da...|    2|     48.0|        1|[Condomínio fecha...|      1|     0|   0|  Zona Norte|      10.0|  10.0|170000.0|\n",
            "|7d3a1bae-988c-44b...|    5|     40.0|        1|[Playground, Chur...|      2|     0|   1|  Zona Norte|     150.0| 120.0|189000.0|\n",
            "|47af17f0-1c81-474...|    0|     65.0|        1|                NULL|      2|     0|   1|  Zona Oeste|     432.0|   0.0|185000.0|\n",
            "|a9bd1575-e9f2-43d...|    2|     50.0|        1|[Condomínio fecha...|      1|     0|   1|  Zona Norte|     650.0|   1.0|185000.0|\n",
            "|cfca7253-3d02-4cd...|    5|     45.0|        1|[Academia, Churra...|      2|     1|   0|  Zona Oeste|     150.0|  40.0|199000.0|\n",
            "|b571ae97-e3d8-4fb...|    0|     48.0|        1|[Academia, Condom...|      2|     0|   0|  Zona Norte|       0.0|   0.0|205933.0|\n",
            "|eb5fdc65-acae-45f...|    0|     44.0|        1|[Academia, Condom...|      2|     0|   0|  Zona Norte|       0.0|   0.0|206000.0|\n",
            "|77cd0388-e3ff-40c...|    2|     64.0|        1|                NULL|      2|     0|   0|  Zona Norte|       0.0|   0.0|220000.0|\n",
            "|74a91f07-7387-4a8...|    0|     55.0|        2|[Salão de festas,...|      1|     0|   1|  Zona Norte|     600.0| 652.0|219130.0|\n",
            "|6aab1165-508d-455...|    3|     60.0|        1|[Animais permitidos]|      3|     0|   1|  Zona Norte|      98.0|   1.0|230000.0|\n",
            "+--------------------+-----+---------+---------+--------------------+-------+------+----+------------+----------+------+--------+\n",
            "only showing top 20 rows\n",
            "\n"
          ]
        }
      ]
    },
    {
      "cell_type": "markdown",
      "source": [
        "## 6ª Tarefa - Preparação dos dados para machine learning"
      ],
      "metadata": {
        "id": "esdptIQ6IXJg"
      }
    },
    {
      "cell_type": "markdown",
      "source": [
        "Para conseguirmos utilizar nossos dados em modelos de Machine Learning, é necessário realizarmos algumas técnicas, como a transformação de variáveis categóricas em binárias."
      ],
      "metadata": {
        "id": "ICAdl363Id9y"
      }
    },
    {
      "cell_type": "code",
      "source": [
        "zona_dummies = df_com_nulos_tratados\\\n",
        ".groupBy('id')\\\n",
        ".pivot('zona')\\\n",
        ".count()\\\n",
        ".fillna(0)\\\n",
        ".drop('')\n",
        "\n",
        "zona_dummies.show()"
      ],
      "metadata": {
        "id": "J5agMg7BWXSN",
        "colab": {
          "base_uri": "https://localhost:8080/"
        },
        "outputId": "72d47f13-cca7-49f2-e22e-85419aeb18bd"
      },
      "execution_count": 25,
      "outputs": [
        {
          "output_type": "stream",
          "name": "stdout",
          "text": [
            "+--------------------+------------+----------+----------+--------+\n",
            "|                  id|Zona Central|Zona Norte|Zona Oeste|Zona Sul|\n",
            "+--------------------+------------+----------+----------+--------+\n",
            "|4e47e4d4-3326-4eb...|           0|         0|         0|       1|\n",
            "|02fba6ef-a691-442...|           0|         0|         1|       0|\n",
            "|fc03c1a9-8bbb-41a...|           0|         1|         0|       0|\n",
            "|3dd5d200-0a7f-43d...|           0|         0|         0|       1|\n",
            "|82707939-71bd-40c...|           0|         0|         0|       1|\n",
            "|ece1e671-cb4d-48a...|           1|         0|         0|       0|\n",
            "|3521e03b-0815-4aa...|           0|         0|         0|       1|\n",
            "|03a386b6-7ab8-4ef...|           0|         0|         1|       0|\n",
            "|107507e0-f075-47e...|           0|         0|         1|       0|\n",
            "|e5e00255-6408-4e6...|           0|         0|         1|       0|\n",
            "|c7e56e3a-a2b2-48a...|           0|         0|         1|       0|\n",
            "|b37a2a08-d3c6-489...|           0|         1|         0|       0|\n",
            "|a4b88c04-2655-414...|           0|         0|         1|       0|\n",
            "|3e9a8997-8071-4a4...|           0|         0|         1|       0|\n",
            "|efef38d2-12cf-428...|           0|         0|         1|       0|\n",
            "|9ab97f8d-0d2a-4a9...|           0|         0|         0|       1|\n",
            "|6179c8a4-1fd2-4f5...|           0|         0|         1|       0|\n",
            "|4c49bd8a-815f-496...|           0|         0|         0|       1|\n",
            "|af143cf5-1902-4fb...|           0|         0|         1|       0|\n",
            "|e4031c0d-5b72-493...|           0|         0|         1|       0|\n",
            "+--------------------+------------+----------+----------+--------+\n",
            "only showing top 20 rows\n",
            "\n"
          ]
        }
      ]
    },
    {
      "cell_type": "code",
      "source": [
        "caracteristicas_dummies = df_com_nulos_tratados\\\n",
        ".select('id', f.explode('caracteristicas').alias('caracteristicas'))\\\n",
        ".groupBy('id')\\\n",
        ".pivot('caracteristicas')\\\n",
        ".count()\\\n",
        ".fillna(0)\n",
        "\n",
        "caracteristicas_dummies.show()"
      ],
      "metadata": {
        "colab": {
          "base_uri": "https://localhost:8080/"
        },
        "id": "VqceoIImLiUp",
        "outputId": "b26e23fd-929e-4142-be46-a4ffaf3e0e20"
      },
      "execution_count": 26,
      "outputs": [
        {
          "output_type": "stream",
          "name": "stdout",
          "text": [
            "+--------------------+--------+------------------+-------------+------------------+--------+-------+----------+------------+-----------------+---------------+\n",
            "|                  id|Academia|Animais permitidos|Churrasqueira|Condomínio fechado|Elevador|Piscina|Playground|Portaria 24h|Portão eletrônico|Salão de festas|\n",
            "+--------------------+--------+------------------+-------------+------------------+--------+-------+----------+------------+-----------------+---------------+\n",
            "|fd96bbd5-d631-416...|       1|                 1|            1|                 1|       1|      1|         1|           1|                1|              1|\n",
            "|bfffedfe-99e7-4ae...|       0|                 1|            1|                 1|       1|      0|         1|           0|                1|              1|\n",
            "|fcb67af3-5601-415...|       1|                 1|            1|                 0|       0|      1|         1|           0|                0|              1|\n",
            "|afecddff-f4cc-4ab...|       1|                 1|            1|                 1|       1|      1|         1|           1|                1|              1|\n",
            "|1bbc40f3-4f5c-459...|       1|                 0|            0|                 1|       1|      1|         1|           1|                1|              1|\n",
            "|fd26aeb2-a7b3-4f8...|       1|                 1|            1|                 1|       1|      1|         1|           1|                1|              1|\n",
            "|10e9d118-dbad-43c...|       0|                 1|            1|                 1|       0|      1|         1|           1|                1|              1|\n",
            "|ca1e84d7-86c8-4b1...|       1|                 0|            1|                 1|       1|      1|         1|           1|                1|              1|\n",
            "|d9e139a5-e85d-4e1...|       1|                 1|            1|                 1|       1|      1|         1|           1|                1|              1|\n",
            "|156a1fa5-37ca-43d...|       1|                 0|            1|                 1|       1|      1|         1|           1|                1|              1|\n",
            "|e7be09eb-6223-4b4...|       1|                 1|            1|                 1|       1|      1|         1|           1|                1|              1|\n",
            "|631efda0-5e10-422...|       1|                 1|            1|                 1|       1|      1|         1|           1|                1|              1|\n",
            "|07cbfef2-efbf-4e8...|       0|                 1|            0|                 0|       1|      0|         0|           1|                0|              0|\n",
            "|62baf185-103d-448...|       1|                 0|            1|                 1|       0|      1|         1|           0|                0|              0|\n",
            "|3030d17c-5681-4b2...|       1|                 1|            1|                 1|       1|      1|         0|           1|                1|              1|\n",
            "|6179c8a4-1fd2-4f5...|       1|                 1|            0|                 1|       1|      1|         1|           1|                1|              1|\n",
            "|c284072a-7298-4e5...|       1|                 1|            1|                 1|       1|      1|         1|           1|                1|              1|\n",
            "|7e43514c-3b40-4fb...|       1|                 1|            1|                 1|       1|      1|         1|           1|                1|              1|\n",
            "|6a4ce9ac-1eb0-4d4...|       1|                 0|            1|                 0|       1|      1|         1|           0|                0|              1|\n",
            "|bdc6127a-1d97-41b...|       1|                 0|            1|                 0|       0|      0|         0|           0|                0|              1|\n",
            "+--------------------+--------+------------------+-------------+------------------+--------+-------+----------+------------+-----------------+---------------+\n",
            "only showing top 20 rows\n",
            "\n"
          ]
        }
      ]
    },
    {
      "cell_type": "code",
      "source": [
        "df_com_dummies = df_com_nulos_tratados\\\n",
        ".join(zona_dummies, on = 'id')\\\n",
        ".join(caracteristicas_dummies, on = 'id', how = 'outer')\\\n",
        ".drop('caracteristicas')\\\n",
        ".drop('zona')\\\n",
        ".fillna(0)\n",
        "\n",
        "df_com_dummies.show()"
      ],
      "metadata": {
        "colab": {
          "base_uri": "https://localhost:8080/"
        },
        "id": "pmBoGk3PMyOW",
        "outputId": "09ab17d6-874f-4277-b2f5-0d52cf50e149"
      },
      "execution_count": 27,
      "outputs": [
        {
          "output_type": "stream",
          "name": "stdout",
          "text": [
            "+--------------------+-----+---------+---------+-------+------+----+----------+------+---------+------------+----------+----------+--------+--------+------------------+-------------+------------------+--------+-------+----------+------------+-----------------+---------------+\n",
            "|                  id|andar|area_util|banheiros|quartos|suites|vaga|condominio|  iptu|    valor|Zona Central|Zona Norte|Zona Oeste|Zona Sul|Academia|Animais permitidos|Churrasqueira|Condomínio fechado|Elevador|Piscina|Playground|Portaria 24h|Portão eletrônico|Salão de festas|\n",
            "+--------------------+-----+---------+---------+-------+------+----+----------+------+---------+------------+----------+----------+--------+--------+------------------+-------------+------------------+--------+-------+----------+------------+-----------------+---------------+\n",
            "|00012605-9cae-45b...|    0|    410.0|        3|      4|     1|   1|    3300.0|5780.0|4600000.0|           0|         0|         0|       1|       0|                 0|            0|                 0|       1|      0|         0|           0|                0|              0|\n",
            "|0002dfaf-7735-481...|    1|     50.0|        1|      1|     0|   1|     500.0| 600.0| 360000.0|           0|         1|         0|       0|       0|                 1|            0|                 0|       1|      0|         0|           0|                1|              1|\n",
            "|0003ce76-949d-484...|    0|    148.0|        4|      4|     2|   2|       0.0|   0.0|1200000.0|           0|         0|         1|       0|       0|                 0|            1|                 0|       1|      1|         0|           0|                0|              0|\n",
            "|00064277-de4c-4a3...|    0|    104.0|        1|      2|     0|   0|    1010.0| 272.0| 750000.0|           0|         0|         0|       1|       0|                 0|            0|                 0|       1|      0|         0|           0|                0|              0|\n",
            "|000be8fe-2044-4ce...|    0|     71.0|        2|      2|     0|   1|    1312.0| 360.0|1025000.0|           0|         0|         0|       1|       0|                 0|            0|                 0|       1|      0|         0|           0|                0|              0|\n",
            "|000c1a63-e78c-437...|    3|    115.0|        2|      3|     0|   0|    1904.0|3831.0|1100000.0|           0|         0|         0|       1|       0|                 1|            0|                 1|       1|      0|         1|           1|                1|              1|\n",
            "|000ded8f-425e-435...|    0|     65.0|        1|      2|     0|   0|       0.0|   0.0| 593036.0|           0|         0|         1|       0|       1|                 1|            1|                 1|       1|      1|         1|           1|                1|              1|\n",
            "|000e02d5-7ee3-4e1...|    1|     74.0|        2|      2|     1|   1|       1.0|   1.0|1031576.0|           0|         0|         1|       0|       1|                 1|            1|                 1|       1|      1|         1|           1|                1|              1|\n",
            "|0012887a-18e2-4c9...|    5|    100.0|        3|      3|     1|   0|    2081.0| 240.0| 800000.0|           0|         0|         0|       1|       0|                 1|            0|                 0|       1|      0|         0|           0|                1|              0|\n",
            "|0014ca0d-459e-442...|   11|    105.0|        3|      3|     1|   2|    1400.0| 281.0|1150000.0|           0|         0|         1|       0|       0|                 0|            0|                 0|       0|      0|         0|           0|                0|              0|\n",
            "|00189386-7a13-4f8...|    0|     70.0|        3|      2|     1|   2|    1003.0| 981.0| 497000.0|           0|         0|         1|       0|       1|                 0|            1|                 1|       0|      0|         0|           0|                0|              1|\n",
            "|0018e345-5e30-425...|    0|     72.0|        2|      2|     1|   0|    1000.0|3000.0|1580000.0|           0|         0|         0|       1|       0|                 0|            0|                 0|       0|      0|         0|           0|                0|              0|\n",
            "|0019b46a-d9e3-405...|    0|    164.0|        5|      4|     2|   3|    2900.0| 360.0|1750000.0|           0|         0|         1|       0|       1|                 1|            1|                 1|       1|      1|         1|           1|                1|              1|\n",
            "|001a96b3-d026-459...|    0|     90.0|        3|      2|     1|   1|    1300.0|3000.0| 890000.0|           0|         0|         1|       0|       1|                 0|            1|                 0|       0|      0|         0|           0|                0|              0|\n",
            "|001d8c08-a187-4d7...|    8|    187.0|        5|      4|     2|   6|    2487.0|4817.0|1700000.0|           0|         1|         0|       0|       0|                 1|            1|                 1|       1|      1|         1|           1|                1|              0|\n",
            "|001e8003-ef49-4ac...|    0|    114.0|        2|      4|     1|   2|    1557.0|2475.0|1500000.0|           0|         0|         0|       1|       0|                 0|            0|                 0|       1|      0|         0|           0|                0|              0|\n",
            "|00227240-98ad-4e9...|    0|     75.0|        3|      2|     2|   1|    1200.0|2000.0| 800000.0|           0|         0|         1|       0|       1|                 1|            1|                 1|       1|      1|         1|           1|                1|              1|\n",
            "|0022cda2-8e17-48a...|    3|    150.0|        3|      4|     0|   0|       0.0|   0.0|1125000.0|           0|         0|         0|       1|       0|                 0|            0|                 0|       0|      0|         0|           0|                0|              0|\n",
            "|0023e20a-7798-42d...|    0|     48.0|        1|      1|     0|   1|       0.0|   0.0| 906000.0|           0|         0|         0|       1|       0|                 1|            0|                 0|       1|      0|         0|           1|                1|              0|\n",
            "|00281fb0-f53e-4b2...|    5|     65.0|        2|      2|     1|   1|    1100.0| 210.0| 690000.0|           0|         0|         1|       0|       1|                 0|            1|                 1|       1|      1|         1|           1|                1|              1|\n",
            "+--------------------+-----+---------+---------+-------+------+----+----------+------+---------+------------+----------+----------+--------+--------+------------------+-------------+------------------+--------+-------+----------+------------+-----------------+---------------+\n",
            "only showing top 20 rows\n",
            "\n"
          ]
        }
      ]
    },
    {
      "cell_type": "code",
      "source": [
        "df_nulos_2 = df_com_dummies\\\n",
        ".select([f.isnull(column).alias(f'{column}_nulos') for column in df_com_dummies.columns])\n",
        "\n",
        "for column in df_nulos_2.columns:\n",
        "  df_nulos_2.groupBy(column).count().show()"
      ],
      "metadata": {
        "colab": {
          "base_uri": "https://localhost:8080/"
        },
        "id": "vfRX3wmbPQIg",
        "outputId": "6c26a7a4-e60e-4754-cbcd-91a2168328f7"
      },
      "execution_count": 28,
      "outputs": [
        {
          "output_type": "stream",
          "name": "stdout",
          "text": [
            "+--------+-----+\n",
            "|id_nulos|count|\n",
            "+--------+-----+\n",
            "|   false|66562|\n",
            "+--------+-----+\n",
            "\n",
            "+-----------+-----+\n",
            "|andar_nulos|count|\n",
            "+-----------+-----+\n",
            "|      false|66562|\n",
            "+-----------+-----+\n",
            "\n",
            "+---------------+-----+\n",
            "|area_util_nulos|count|\n",
            "+---------------+-----+\n",
            "|          false|66562|\n",
            "+---------------+-----+\n",
            "\n",
            "+---------------+-----+\n",
            "|banheiros_nulos|count|\n",
            "+---------------+-----+\n",
            "|          false|66562|\n",
            "+---------------+-----+\n",
            "\n",
            "+-------------+-----+\n",
            "|quartos_nulos|count|\n",
            "+-------------+-----+\n",
            "|        false|66562|\n",
            "+-------------+-----+\n",
            "\n",
            "+------------+-----+\n",
            "|suites_nulos|count|\n",
            "+------------+-----+\n",
            "|       false|66562|\n",
            "+------------+-----+\n",
            "\n",
            "+----------+-----+\n",
            "|vaga_nulos|count|\n",
            "+----------+-----+\n",
            "|     false|66562|\n",
            "+----------+-----+\n",
            "\n",
            "+----------------+-----+\n",
            "|condominio_nulos|count|\n",
            "+----------------+-----+\n",
            "|           false|66562|\n",
            "+----------------+-----+\n",
            "\n",
            "+----------+-----+\n",
            "|iptu_nulos|count|\n",
            "+----------+-----+\n",
            "|     false|66562|\n",
            "+----------+-----+\n",
            "\n",
            "+-----------+-----+\n",
            "|valor_nulos|count|\n",
            "+-----------+-----+\n",
            "|      false|66562|\n",
            "+-----------+-----+\n",
            "\n",
            "+------------------+-----+\n",
            "|Zona Central_nulos|count|\n",
            "+------------------+-----+\n",
            "|             false|66562|\n",
            "+------------------+-----+\n",
            "\n",
            "+----------------+-----+\n",
            "|Zona Norte_nulos|count|\n",
            "+----------------+-----+\n",
            "|           false|66562|\n",
            "+----------------+-----+\n",
            "\n",
            "+----------------+-----+\n",
            "|Zona Oeste_nulos|count|\n",
            "+----------------+-----+\n",
            "|           false|66562|\n",
            "+----------------+-----+\n",
            "\n",
            "+--------------+-----+\n",
            "|Zona Sul_nulos|count|\n",
            "+--------------+-----+\n",
            "|         false|66562|\n",
            "+--------------+-----+\n",
            "\n",
            "+--------------+-----+\n",
            "|Academia_nulos|count|\n",
            "+--------------+-----+\n",
            "|         false|66562|\n",
            "+--------------+-----+\n",
            "\n",
            "+------------------------+-----+\n",
            "|Animais permitidos_nulos|count|\n",
            "+------------------------+-----+\n",
            "|                   false|66562|\n",
            "+------------------------+-----+\n",
            "\n",
            "+-------------------+-----+\n",
            "|Churrasqueira_nulos|count|\n",
            "+-------------------+-----+\n",
            "|              false|66562|\n",
            "+-------------------+-----+\n",
            "\n",
            "+------------------------+-----+\n",
            "|Condomínio fechado_nulos|count|\n",
            "+------------------------+-----+\n",
            "|                   false|66562|\n",
            "+------------------------+-----+\n",
            "\n",
            "+--------------+-----+\n",
            "|Elevador_nulos|count|\n",
            "+--------------+-----+\n",
            "|         false|66562|\n",
            "+--------------+-----+\n",
            "\n",
            "+-------------+-----+\n",
            "|Piscina_nulos|count|\n",
            "+-------------+-----+\n",
            "|        false|66562|\n",
            "+-------------+-----+\n",
            "\n",
            "+----------------+-----+\n",
            "|Playground_nulos|count|\n",
            "+----------------+-----+\n",
            "|           false|66562|\n",
            "+----------------+-----+\n",
            "\n",
            "+------------------+-----+\n",
            "|Portaria 24h_nulos|count|\n",
            "+------------------+-----+\n",
            "|             false|66562|\n",
            "+------------------+-----+\n",
            "\n",
            "+-----------------------+-----+\n",
            "|Portão eletrônico_nulos|count|\n",
            "+-----------------------+-----+\n",
            "|                  false|66562|\n",
            "+-----------------------+-----+\n",
            "\n",
            "+---------------------+-----+\n",
            "|Salão de festas_nulos|count|\n",
            "+---------------------+-----+\n",
            "|                false|66562|\n",
            "+---------------------+-----+\n",
            "\n"
          ]
        }
      ]
    },
    {
      "cell_type": "markdown",
      "source": [
        "## 7ª Tarefa - Salvar a base de dados em parquet"
      ],
      "metadata": {
        "id": "zKnOkkrqSazK"
      }
    },
    {
      "cell_type": "markdown",
      "source": [
        "Nesse projeto, criamos uma base dados ideal para utilizar em modelos de machine learning. É importante exportar ela para conseguir utilizar em outros modelos e para treinar novamente nosso modelo, caso seja necessário."
      ],
      "metadata": {
        "id": "iRGyZvkCX3RT"
      }
    },
    {
      "cell_type": "code",
      "source": [
        "df_com_dummies.write\\\n",
        ".parquet('/content/drive/MyDrive/Alura/Challenge - Data Science 2/parquet_para_regressao', mode = 'overwrite')"
      ],
      "metadata": {
        "id": "obS09F9LQpdI"
      },
      "execution_count": 29,
      "outputs": []
    },
    {
      "cell_type": "markdown",
      "source": [
        "## 8ª Tarefa - Preparação dos dados para os algoritmos do Spark MLlib"
      ],
      "metadata": {
        "id": "VJrtrnfcXyGd"
      }
    },
    {
      "cell_type": "markdown",
      "source": [
        "Para utilizarmos nossos dados em modelos do PySpark, nós precisamos utilizar a técnica de vetorização dos dados."
      ],
      "metadata": {
        "id": "ZvlmOpa1YBcf"
      }
    },
    {
      "cell_type": "code",
      "source": [
        "dataset = df_com_dummies.withColumnRenamed('valor', 'label')\n",
        "\n",
        "dataset.show()"
      ],
      "metadata": {
        "colab": {
          "base_uri": "https://localhost:8080/"
        },
        "id": "WfaE3O6SmxxN",
        "outputId": "d81e37d5-e5e5-47c4-ccd6-18f25519dcec"
      },
      "execution_count": 30,
      "outputs": [
        {
          "output_type": "stream",
          "name": "stdout",
          "text": [
            "+--------------------+-----+---------+---------+-------+------+----+----------+------+---------+------------+----------+----------+--------+--------+------------------+-------------+------------------+--------+-------+----------+------------+-----------------+---------------+\n",
            "|                  id|andar|area_util|banheiros|quartos|suites|vaga|condominio|  iptu|    label|Zona Central|Zona Norte|Zona Oeste|Zona Sul|Academia|Animais permitidos|Churrasqueira|Condomínio fechado|Elevador|Piscina|Playground|Portaria 24h|Portão eletrônico|Salão de festas|\n",
            "+--------------------+-----+---------+---------+-------+------+----+----------+------+---------+------------+----------+----------+--------+--------+------------------+-------------+------------------+--------+-------+----------+------------+-----------------+---------------+\n",
            "|00012605-9cae-45b...|    0|    410.0|        3|      4|     1|   1|    3300.0|5780.0|4600000.0|           0|         0|         0|       1|       0|                 0|            0|                 0|       1|      0|         0|           0|                0|              0|\n",
            "|0002dfaf-7735-481...|    1|     50.0|        1|      1|     0|   1|     500.0| 600.0| 360000.0|           0|         1|         0|       0|       0|                 1|            0|                 0|       1|      0|         0|           0|                1|              1|\n",
            "|0003ce76-949d-484...|    0|    148.0|        4|      4|     2|   2|       0.0|   0.0|1200000.0|           0|         0|         1|       0|       0|                 0|            1|                 0|       1|      1|         0|           0|                0|              0|\n",
            "|00064277-de4c-4a3...|    0|    104.0|        1|      2|     0|   0|    1010.0| 272.0| 750000.0|           0|         0|         0|       1|       0|                 0|            0|                 0|       1|      0|         0|           0|                0|              0|\n",
            "|000be8fe-2044-4ce...|    0|     71.0|        2|      2|     0|   1|    1312.0| 360.0|1025000.0|           0|         0|         0|       1|       0|                 0|            0|                 0|       1|      0|         0|           0|                0|              0|\n",
            "|000c1a63-e78c-437...|    3|    115.0|        2|      3|     0|   0|    1904.0|3831.0|1100000.0|           0|         0|         0|       1|       0|                 1|            0|                 1|       1|      0|         1|           1|                1|              1|\n",
            "|000ded8f-425e-435...|    0|     65.0|        1|      2|     0|   0|       0.0|   0.0| 593036.0|           0|         0|         1|       0|       1|                 1|            1|                 1|       1|      1|         1|           1|                1|              1|\n",
            "|000e02d5-7ee3-4e1...|    1|     74.0|        2|      2|     1|   1|       1.0|   1.0|1031576.0|           0|         0|         1|       0|       1|                 1|            1|                 1|       1|      1|         1|           1|                1|              1|\n",
            "|0012887a-18e2-4c9...|    5|    100.0|        3|      3|     1|   0|    2081.0| 240.0| 800000.0|           0|         0|         0|       1|       0|                 1|            0|                 0|       1|      0|         0|           0|                1|              0|\n",
            "|0014ca0d-459e-442...|   11|    105.0|        3|      3|     1|   2|    1400.0| 281.0|1150000.0|           0|         0|         1|       0|       0|                 0|            0|                 0|       0|      0|         0|           0|                0|              0|\n",
            "|00189386-7a13-4f8...|    0|     70.0|        3|      2|     1|   2|    1003.0| 981.0| 497000.0|           0|         0|         1|       0|       1|                 0|            1|                 1|       0|      0|         0|           0|                0|              1|\n",
            "|0018e345-5e30-425...|    0|     72.0|        2|      2|     1|   0|    1000.0|3000.0|1580000.0|           0|         0|         0|       1|       0|                 0|            0|                 0|       0|      0|         0|           0|                0|              0|\n",
            "|0019b46a-d9e3-405...|    0|    164.0|        5|      4|     2|   3|    2900.0| 360.0|1750000.0|           0|         0|         1|       0|       1|                 1|            1|                 1|       1|      1|         1|           1|                1|              1|\n",
            "|001a96b3-d026-459...|    0|     90.0|        3|      2|     1|   1|    1300.0|3000.0| 890000.0|           0|         0|         1|       0|       1|                 0|            1|                 0|       0|      0|         0|           0|                0|              0|\n",
            "|001d8c08-a187-4d7...|    8|    187.0|        5|      4|     2|   6|    2487.0|4817.0|1700000.0|           0|         1|         0|       0|       0|                 1|            1|                 1|       1|      1|         1|           1|                1|              0|\n",
            "|001e8003-ef49-4ac...|    0|    114.0|        2|      4|     1|   2|    1557.0|2475.0|1500000.0|           0|         0|         0|       1|       0|                 0|            0|                 0|       1|      0|         0|           0|                0|              0|\n",
            "|00227240-98ad-4e9...|    0|     75.0|        3|      2|     2|   1|    1200.0|2000.0| 800000.0|           0|         0|         1|       0|       1|                 1|            1|                 1|       1|      1|         1|           1|                1|              1|\n",
            "|0022cda2-8e17-48a...|    3|    150.0|        3|      4|     0|   0|       0.0|   0.0|1125000.0|           0|         0|         0|       1|       0|                 0|            0|                 0|       0|      0|         0|           0|                0|              0|\n",
            "|0023e20a-7798-42d...|    0|     48.0|        1|      1|     0|   1|       0.0|   0.0| 906000.0|           0|         0|         0|       1|       0|                 1|            0|                 0|       1|      0|         0|           1|                1|              0|\n",
            "|00281fb0-f53e-4b2...|    5|     65.0|        2|      2|     1|   1|    1100.0| 210.0| 690000.0|           0|         0|         1|       0|       1|                 0|            1|                 1|       1|      1|         1|           1|                1|              1|\n",
            "+--------------------+-----+---------+---------+-------+------+----+----------+------+---------+------------+----------+----------+--------+--------+------------------+-------------+------------------+--------+-------+----------+------------+-----------------+---------------+\n",
            "only showing top 20 rows\n",
            "\n"
          ]
        }
      ]
    },
    {
      "cell_type": "code",
      "source": [
        "lista_features = dataset.drop('id').drop('label').columns\n",
        "\n",
        "lista_features"
      ],
      "metadata": {
        "id": "j32WkDAlQqA6",
        "colab": {
          "base_uri": "https://localhost:8080/"
        },
        "outputId": "e13c539f-8f7e-4172-da3b-dd5aa79699d6"
      },
      "execution_count": 31,
      "outputs": [
        {
          "output_type": "execute_result",
          "data": {
            "text/plain": [
              "['andar',\n",
              " 'area_util',\n",
              " 'banheiros',\n",
              " 'quartos',\n",
              " 'suites',\n",
              " 'vaga',\n",
              " 'condominio',\n",
              " 'iptu',\n",
              " 'Zona Central',\n",
              " 'Zona Norte',\n",
              " 'Zona Oeste',\n",
              " 'Zona Sul',\n",
              " 'Academia',\n",
              " 'Animais permitidos',\n",
              " 'Churrasqueira',\n",
              " 'Condomínio fechado',\n",
              " 'Elevador',\n",
              " 'Piscina',\n",
              " 'Playground',\n",
              " 'Portaria 24h',\n",
              " 'Portão eletrônico',\n",
              " 'Salão de festas']"
            ]
          },
          "metadata": {},
          "execution_count": 31
        }
      ]
    },
    {
      "cell_type": "code",
      "source": [
        "assembler = VectorAssembler(inputCols = lista_features, outputCol = 'features')"
      ],
      "metadata": {
        "id": "1fY8zevwoO_J"
      },
      "execution_count": 32,
      "outputs": []
    },
    {
      "cell_type": "code",
      "source": [
        "dataset_pronto = assembler.transform(dataset).select('features', 'label')\n",
        "\n",
        "dataset_pronto.show(truncate = False)"
      ],
      "metadata": {
        "colab": {
          "base_uri": "https://localhost:8080/"
        },
        "id": "0XQuJgjbopwS",
        "outputId": "b4dae0cd-6e38-434e-8b86-c9a938ed970c"
      },
      "execution_count": 33,
      "outputs": [
        {
          "output_type": "stream",
          "name": "stdout",
          "text": [
            "+-------------------------------------------------------------------------------------------------+---------+\n",
            "|features                                                                                         |label    |\n",
            "+-------------------------------------------------------------------------------------------------+---------+\n",
            "|(22,[1,2,3,4,5,6,7,11,16],[410.0,3.0,4.0,1.0,1.0,3300.0,5780.0,1.0,1.0])                         |4600000.0|\n",
            "|(22,[0,1,2,3,5,6,7,9,13,16,20,21],[1.0,50.0,1.0,1.0,1.0,500.0,600.0,1.0,1.0,1.0,1.0,1.0])        |360000.0 |\n",
            "|(22,[1,2,3,4,5,10,14,16,17],[148.0,4.0,4.0,2.0,2.0,1.0,1.0,1.0,1.0])                             |1200000.0|\n",
            "|(22,[1,2,3,6,7,11,16],[104.0,1.0,2.0,1010.0,272.0,1.0,1.0])                                      |750000.0 |\n",
            "|(22,[1,2,3,5,6,7,11,16],[71.0,2.0,2.0,1.0,1312.0,360.0,1.0,1.0])                                 |1025000.0|\n",
            "|[3.0,115.0,2.0,3.0,0.0,0.0,1904.0,3831.0,0.0,0.0,0.0,1.0,0.0,1.0,0.0,1.0,1.0,0.0,1.0,1.0,1.0,1.0]|1100000.0|\n",
            "|[0.0,65.0,1.0,2.0,0.0,0.0,0.0,0.0,0.0,0.0,1.0,0.0,1.0,1.0,1.0,1.0,1.0,1.0,1.0,1.0,1.0,1.0]       |593036.0 |\n",
            "|[1.0,74.0,2.0,2.0,1.0,1.0,1.0,1.0,0.0,0.0,1.0,0.0,1.0,1.0,1.0,1.0,1.0,1.0,1.0,1.0,1.0,1.0]       |1031576.0|\n",
            "|(22,[0,1,2,3,4,6,7,11,13,16,20],[5.0,100.0,3.0,3.0,1.0,2081.0,240.0,1.0,1.0,1.0,1.0])            |800000.0 |\n",
            "|(22,[0,1,2,3,4,5,6,7,10],[11.0,105.0,3.0,3.0,1.0,2.0,1400.0,281.0,1.0])                          |1150000.0|\n",
            "|(22,[1,2,3,4,5,6,7,10,12,14,15,21],[70.0,3.0,2.0,1.0,2.0,1003.0,981.0,1.0,1.0,1.0,1.0,1.0])      |497000.0 |\n",
            "|(22,[1,2,3,4,6,7,11],[72.0,2.0,2.0,1.0,1000.0,3000.0,1.0])                                       |1580000.0|\n",
            "|[0.0,164.0,5.0,4.0,2.0,3.0,2900.0,360.0,0.0,0.0,1.0,0.0,1.0,1.0,1.0,1.0,1.0,1.0,1.0,1.0,1.0,1.0] |1750000.0|\n",
            "|(22,[1,2,3,4,5,6,7,10,12,14],[90.0,3.0,2.0,1.0,1.0,1300.0,3000.0,1.0,1.0,1.0])                   |890000.0 |\n",
            "|[8.0,187.0,5.0,4.0,2.0,6.0,2487.0,4817.0,0.0,1.0,0.0,0.0,0.0,1.0,1.0,1.0,1.0,1.0,1.0,1.0,1.0,0.0]|1700000.0|\n",
            "|(22,[1,2,3,4,5,6,7,11,16],[114.0,2.0,4.0,1.0,2.0,1557.0,2475.0,1.0,1.0])                         |1500000.0|\n",
            "|[0.0,75.0,3.0,2.0,2.0,1.0,1200.0,2000.0,0.0,0.0,1.0,0.0,1.0,1.0,1.0,1.0,1.0,1.0,1.0,1.0,1.0,1.0] |800000.0 |\n",
            "|(22,[0,1,2,3,11],[3.0,150.0,3.0,4.0,1.0])                                                        |1125000.0|\n",
            "|(22,[1,2,3,5,11,13,16,19,20],[48.0,1.0,1.0,1.0,1.0,1.0,1.0,1.0,1.0])                             |906000.0 |\n",
            "|[5.0,65.0,2.0,2.0,1.0,1.0,1100.0,210.0,0.0,0.0,1.0,0.0,1.0,0.0,1.0,1.0,1.0,1.0,1.0,1.0,1.0,1.0]  |690000.0 |\n",
            "+-------------------------------------------------------------------------------------------------+---------+\n",
            "only showing top 20 rows\n",
            "\n"
          ]
        }
      ]
    },
    {
      "cell_type": "markdown",
      "source": [
        "## 9ª Tarefa - Criação dos modelos de regressão e\n",
        "## 10ª Tarefa - Avaliação dos modelos"
      ],
      "metadata": {
        "id": "ul2HZlbFOKkL"
      }
    },
    {
      "cell_type": "code",
      "source": [
        "treino, teste = dataset_pronto.randomSplit([0.8, 0.2], seed = 1999)"
      ],
      "metadata": {
        "id": "15-vWowLo9mx"
      },
      "execution_count": 34,
      "outputs": []
    },
    {
      "cell_type": "code",
      "source": [
        "print(f'Itens do dataset inicial: {dataset_pronto.count()}.')\n",
        "print(f'Itens do dataset de treino: {treino.count()}.')\n",
        "print(f'Itens do dataset de teste: {teste.count()}.')"
      ],
      "metadata": {
        "colab": {
          "base_uri": "https://localhost:8080/"
        },
        "id": "ggU_PNN0OP41",
        "outputId": "6acfa50d-036e-4695-bd07-419d2ac92cda"
      },
      "execution_count": 35,
      "outputs": [
        {
          "output_type": "stream",
          "name": "stdout",
          "text": [
            "Itens do dataset inicial: 66562.\n",
            "Itens do dataset de treino: 53261.\n",
            "Itens do dataset de teste: 13301.\n"
          ]
        }
      ]
    },
    {
      "cell_type": "markdown",
      "source": [
        "### 1º Modelo: Regressão Linear"
      ],
      "metadata": {
        "id": "ei8ZJTWMXBk6"
      }
    },
    {
      "cell_type": "code",
      "source": [
        "objeto_lr = LinearRegression()"
      ],
      "metadata": {
        "id": "nNolZqZCOPxI"
      },
      "execution_count": 36,
      "outputs": []
    },
    {
      "cell_type": "code",
      "source": [
        "modelo_lr = objeto_lr.fit(treino)"
      ],
      "metadata": {
        "id": "G3m1lyiNOPuW"
      },
      "execution_count": 37,
      "outputs": []
    },
    {
      "cell_type": "code",
      "source": [
        "previsoes_lr_treino = modelo_lr.transform(treino)\n",
        "previsoes_lr_treino.show()"
      ],
      "metadata": {
        "colab": {
          "base_uri": "https://localhost:8080/"
        },
        "id": "ddh-on5JOPr5",
        "outputId": "33763351-8fa2-400e-f125-5f91fec9b83a"
      },
      "execution_count": 38,
      "outputs": [
        {
          "output_type": "stream",
          "name": "stdout",
          "text": [
            "+--------------------+---------+------------------+\n",
            "|            features|    label|        prediction|\n",
            "+--------------------+---------+------------------+\n",
            "|(22,[0,1,2,3,4,5,...| 445000.0| 654240.4234794453|\n",
            "|(22,[0,1,2,3,4,5,...| 539000.0| 609932.9219434478|\n",
            "|(22,[0,1,2,3,4,5,...| 262000.0| 754104.1545912768|\n",
            "|(22,[0,1,2,3,4,5,...| 460000.0| 222501.7969483217|\n",
            "|(22,[0,1,2,3,4,5,...| 349000.0| 375961.1324242596|\n",
            "|(22,[0,1,2,3,4,5,...| 400000.0|386276.21063899266|\n",
            "|(22,[0,1,2,3,4,5,...| 540000.0| 525937.1065626056|\n",
            "|(22,[0,1,2,3,4,5,...|1047795.0| 672557.5341689175|\n",
            "|(22,[0,1,2,3,4,5,...| 750000.0| 785338.5051128364|\n",
            "|(22,[0,1,2,3,4,5,...| 795000.0|1003886.2012783908|\n",
            "|(22,[0,1,2,3,4,5,...| 391000.0| 314503.4085505609|\n",
            "|(22,[0,1,2,3,4,5,...| 473400.0| 447685.2761466368|\n",
            "|(22,[0,1,2,3,4,5,...| 659900.0|457728.69041384873|\n",
            "|(22,[0,1,2,3,4,5,...| 797204.0| 498650.1995176454|\n",
            "|(22,[0,1,2,3,4,5,...| 550000.0|1106049.0881770335|\n",
            "|(22,[0,1,2,3,4,5,...|1400000.0|2078272.7939828571|\n",
            "|(22,[0,1,2,3,4,5,...|1250000.0| 2902074.058191883|\n",
            "|(22,[0,1,2,3,4,5,...| 355000.0|345203.61941827176|\n",
            "|(22,[0,1,2,3,4,5,...| 300000.0| 549932.1340289593|\n",
            "|(22,[0,1,2,3,4,5,...| 580000.0| 553327.4274565473|\n",
            "+--------------------+---------+------------------+\n",
            "only showing top 20 rows\n",
            "\n"
          ]
        }
      ]
    },
    {
      "cell_type": "code",
      "source": [
        "previsoes_lr_teste = modelo_lr.transform(teste)\n",
        "previsoes_lr_teste.show()"
      ],
      "metadata": {
        "colab": {
          "base_uri": "https://localhost:8080/"
        },
        "id": "xTvGi08WOPo_",
        "outputId": "6fbba912-91f2-4a1e-a2c5-afde8270cade"
      },
      "execution_count": 39,
      "outputs": [
        {
          "output_type": "stream",
          "name": "stdout",
          "text": [
            "+--------------------+---------+------------------+\n",
            "|            features|    label|        prediction|\n",
            "+--------------------+---------+------------------+\n",
            "|(22,[0,1,2,3,4,5,...| 318000.0| 580561.3930812776|\n",
            "|(22,[0,1,2,3,4,5,...| 335000.0| 638642.6026340767|\n",
            "|(22,[0,1,2,3,4,5,...| 499000.0| 740966.3434011247|\n",
            "|(22,[0,1,2,3,4,5,...| 950000.0| 1443658.334489614|\n",
            "|(22,[0,1,2,3,4,5,...|2450000.0| 4293403.839034559|\n",
            "|(22,[0,1,2,3,4,5,...| 299000.0| 147543.8798939996|\n",
            "|(22,[0,1,2,3,4,5,...| 530000.0| 416988.0592140515|\n",
            "|(22,[0,1,2,3,4,5,...| 750000.0| 860332.7939631564|\n",
            "|(22,[0,1,2,3,4,5,...|1340079.0| 1324135.929979673|\n",
            "|(22,[0,1,2,3,4,5,...| 590000.0| 570472.7235159341|\n",
            "|(22,[0,1,2,3,4,5,...| 344000.0|  376168.002269039|\n",
            "|(22,[0,1,2,3,4,5,...| 580000.0| 955826.3340165261|\n",
            "|(22,[0,1,2,3,4,5,...|1350000.0|1744004.7565104747|\n",
            "|(22,[0,1,2,3,4,5,...| 730000.0|1063838.1393616383|\n",
            "|(22,[0,1,2,3,4,5,...| 816000.0| 741293.9029489117|\n",
            "|(22,[0,1,2,3,4,5,...| 420000.0|303180.62538341095|\n",
            "|(22,[0,1,2,3,4,5,...| 220000.0| 735593.1192690303|\n",
            "|(22,[0,1,2,3,4,5,...| 930000.0|1529622.4081708929|\n",
            "|(22,[0,1,2,3,4,5,...| 850000.0|  470673.003779855|\n",
            "|(22,[0,1,2,3,4,5,...| 969618.0| 1087612.800929153|\n",
            "+--------------------+---------+------------------+\n",
            "only showing top 20 rows\n",
            "\n"
          ]
        }
      ]
    },
    {
      "cell_type": "code",
      "source": [
        "resumo_treino_lr = modelo_lr.summary\n",
        "resumo_teste_lr = modelo_lr.evaluate(teste)"
      ],
      "metadata": {
        "id": "F7DdxiW0OPmT"
      },
      "execution_count": 40,
      "outputs": []
    },
    {
      "cell_type": "code",
      "source": [
        "separador = '-' * 45\n",
        "\n",
        "print(f'''{separador}\n",
        "Relatório do modelo - regressão linear.\n",
        "{separador}\n",
        "Resultados do treino:\n",
        "R²: {resumo_treino_lr.r2}.\n",
        "RMSE: {resumo_treino_lr.rootMeanSquaredError}\n",
        "{separador}\n",
        "Resultados do teste:\n",
        "R²: {resumo_teste_lr.r2}.\n",
        "RMSE: {resumo_teste_lr.rootMeanSquaredError}\n",
        "{separador}''')"
      ],
      "metadata": {
        "colab": {
          "base_uri": "https://localhost:8080/"
        },
        "id": "-zRju34COPji",
        "outputId": "24c24eff-a254-4ae8-ba86-5f5f20c66e48"
      },
      "execution_count": 41,
      "outputs": [
        {
          "output_type": "stream",
          "name": "stdout",
          "text": [
            "---------------------------------------------\n",
            "Relatório do modelo - regressão linear.\n",
            "---------------------------------------------\n",
            "Resultados do treino:\n",
            "R²: 0.6731037630813469.\n",
            "RMSE: 840313.8170974319\n",
            "---------------------------------------------\n",
            "Resultados do teste:\n",
            "R²: 0.6349382623115064.\n",
            "RMSE: 893983.7772467382\n",
            "---------------------------------------------\n"
          ]
        }
      ]
    },
    {
      "cell_type": "markdown",
      "source": [
        "### 2º Modelo: Árvore de Decisão"
      ],
      "metadata": {
        "id": "qfvtk--rXHLp"
      }
    },
    {
      "cell_type": "code",
      "source": [
        "objeto_dtr = DecisionTreeRegressor(maxDepth = 10, seed = 1999)"
      ],
      "metadata": {
        "id": "2a3Hgk0pOPda"
      },
      "execution_count": 42,
      "outputs": []
    },
    {
      "cell_type": "code",
      "source": [
        "modelo_dtr = objeto_dtr.fit(treino)"
      ],
      "metadata": {
        "id": "agE1SECrU8j0"
      },
      "execution_count": 43,
      "outputs": []
    },
    {
      "cell_type": "code",
      "source": [
        "previsoes_dtr_treino = modelo_dtr.transform(treino)\n",
        "previsoes_dtr_treino.show()"
      ],
      "metadata": {
        "colab": {
          "base_uri": "https://localhost:8080/"
        },
        "id": "IvlhmXH3U8hC",
        "outputId": "4d5f1984-4955-405b-cbb7-58f864dfd1d2"
      },
      "execution_count": 44,
      "outputs": [
        {
          "output_type": "stream",
          "name": "stdout",
          "text": [
            "+--------------------+---------+------------------+\n",
            "|            features|    label|        prediction|\n",
            "+--------------------+---------+------------------+\n",
            "|(22,[0,1,2,3,4,5,...| 445000.0|422178.49436936935|\n",
            "|(22,[0,1,2,3,4,5,...| 539000.0|422178.49436936935|\n",
            "|(22,[0,1,2,3,4,5,...| 262000.0| 553344.3318181818|\n",
            "|(22,[0,1,2,3,4,5,...| 460000.0|310998.42050691246|\n",
            "|(22,[0,1,2,3,4,5,...| 349000.0| 359922.6626429479|\n",
            "|(22,[0,1,2,3,4,5,...| 400000.0| 520129.9196787149|\n",
            "|(22,[0,1,2,3,4,5,...| 540000.0| 642766.1532663316|\n",
            "|(22,[0,1,2,3,4,5,...|1047795.0| 760952.4013245034|\n",
            "|(22,[0,1,2,3,4,5,...| 750000.0| 673250.8997214484|\n",
            "|(22,[0,1,2,3,4,5,...| 795000.0| 673250.8997214484|\n",
            "|(22,[0,1,2,3,4,5,...| 391000.0| 359922.6626429479|\n",
            "|(22,[0,1,2,3,4,5,...| 473400.0|422178.49436936935|\n",
            "|(22,[0,1,2,3,4,5,...| 659900.0| 596919.8050314465|\n",
            "|(22,[0,1,2,3,4,5,...| 797204.0| 760952.4013245034|\n",
            "|(22,[0,1,2,3,4,5,...| 550000.0| 673250.8997214484|\n",
            "|(22,[0,1,2,3,4,5,...|1400000.0| 1560039.298245614|\n",
            "|(22,[0,1,2,3,4,5,...|1250000.0|         1225000.0|\n",
            "|(22,[0,1,2,3,4,5,...| 355000.0| 359922.6626429479|\n",
            "|(22,[0,1,2,3,4,5,...| 300000.0| 458334.7622807018|\n",
            "|(22,[0,1,2,3,4,5,...| 580000.0| 458334.7622807018|\n",
            "+--------------------+---------+------------------+\n",
            "only showing top 20 rows\n",
            "\n"
          ]
        }
      ]
    },
    {
      "cell_type": "code",
      "source": [
        "previsoes_dtr_teste = modelo_dtr.transform(teste)\n",
        "previsoes_dtr_teste.show()"
      ],
      "metadata": {
        "colab": {
          "base_uri": "https://localhost:8080/"
        },
        "id": "mG1yNfesU8eD",
        "outputId": "3d0b6f49-3d0b-472f-957f-23bf5e3c79ef"
      },
      "execution_count": 45,
      "outputs": [
        {
          "output_type": "stream",
          "name": "stdout",
          "text": [
            "+--------------------+---------+------------------+\n",
            "|            features|    label|        prediction|\n",
            "+--------------------+---------+------------------+\n",
            "|(22,[0,1,2,3,4,5,...| 318000.0| 458334.7622807018|\n",
            "|(22,[0,1,2,3,4,5,...| 335000.0| 553404.7272727273|\n",
            "|(22,[0,1,2,3,4,5,...| 499000.0| 673250.8997214484|\n",
            "|(22,[0,1,2,3,4,5,...| 950000.0|      1307831.3875|\n",
            "|(22,[0,1,2,3,4,5,...|2450000.0|3385533.3333333335|\n",
            "|(22,[0,1,2,3,4,5,...| 299000.0|310998.42050691246|\n",
            "|(22,[0,1,2,3,4,5,...| 530000.0| 458334.7622807018|\n",
            "|(22,[0,1,2,3,4,5,...| 750000.0| 673250.8997214484|\n",
            "|(22,[0,1,2,3,4,5,...|1340079.0|1053801.5757575757|\n",
            "|(22,[0,1,2,3,4,5,...| 590000.0| 553404.7272727273|\n",
            "|(22,[0,1,2,3,4,5,...| 344000.0| 359922.6626429479|\n",
            "|(22,[0,1,2,3,4,5,...| 580000.0| 673250.8997214484|\n",
            "|(22,[0,1,2,3,4,5,...|1350000.0|1901823.2544169612|\n",
            "|(22,[0,1,2,3,4,5,...| 730000.0| 988380.7961038961|\n",
            "|(22,[0,1,2,3,4,5,...| 816000.0| 642766.1532663316|\n",
            "|(22,[0,1,2,3,4,5,...| 420000.0|422178.49436936935|\n",
            "|(22,[0,1,2,3,4,5,...| 220000.0| 673250.8997214484|\n",
            "|(22,[0,1,2,3,4,5,...| 930000.0|1196558.8351648352|\n",
            "|(22,[0,1,2,3,4,5,...| 850000.0| 654883.7326203209|\n",
            "|(22,[0,1,2,3,4,5,...| 969618.0|          982044.0|\n",
            "+--------------------+---------+------------------+\n",
            "only showing top 20 rows\n",
            "\n"
          ]
        }
      ]
    },
    {
      "cell_type": "code",
      "source": [
        "evaluator = RegressionEvaluator()"
      ],
      "metadata": {
        "id": "eRlO1kqzaoyb"
      },
      "execution_count": 46,
      "outputs": []
    },
    {
      "cell_type": "code",
      "source": [
        "print(f'''{separador}\n",
        "Relatório do modelo - árvore de decisão.\n",
        "{separador}\n",
        "Resultados do treino:\n",
        "R²: {evaluator.evaluate(previsoes_dtr_treino, {evaluator.metricName: 'r2'})}.\n",
        "RMSE: {evaluator.evaluate(previsoes_dtr_treino, {evaluator.metricName: 'rmse'})}\n",
        "{separador}\n",
        "Resultados do teste:\n",
        "R²: {evaluator.evaluate(previsoes_dtr_teste, {evaluator.metricName: 'r2'})}.\n",
        "RMSE: {evaluator.evaluate(previsoes_dtr_teste, {evaluator.metricName: 'rmse'})}\n",
        "{separador}''')"
      ],
      "metadata": {
        "colab": {
          "base_uri": "https://localhost:8080/"
        },
        "id": "S0ChFi1zaogR",
        "outputId": "cc4826e4-33cd-43c3-bfc6-069fbc50a31f"
      },
      "execution_count": 47,
      "outputs": [
        {
          "output_type": "stream",
          "name": "stdout",
          "text": [
            "---------------------------------------------\n",
            "Relatório do modelo - árvore de decisão.\n",
            "---------------------------------------------\n",
            "Resultados do treino:\n",
            "R²: 0.8624081708853881.\n",
            "RMSE: 545171.1509904137\n",
            "---------------------------------------------\n",
            "Resultados do teste:\n",
            "R²: 0.8022925293857479.\n",
            "RMSE: 657897.1719509996\n",
            "---------------------------------------------\n"
          ]
        }
      ]
    },
    {
      "cell_type": "markdown",
      "source": [
        "### 3º Modelo: Floresta Aleatória"
      ],
      "metadata": {
        "id": "upZx5QQ3b3lN"
      }
    },
    {
      "cell_type": "code",
      "source": [
        "objeto_rfr = RandomForestRegressor(maxDepth = 10, numTrees = 14, seed = 1999)"
      ],
      "metadata": {
        "id": "lcBf951PU8XN"
      },
      "execution_count": 48,
      "outputs": []
    },
    {
      "cell_type": "code",
      "source": [
        "modelo_rfr = objeto_rfr.fit(treino)"
      ],
      "metadata": {
        "id": "aizDAJ7PU8QG"
      },
      "execution_count": 49,
      "outputs": []
    },
    {
      "cell_type": "code",
      "source": [
        "previsoes_rfr_treino = modelo_rfr.transform(treino)\n",
        "previsoes_rfr_treino.show()"
      ],
      "metadata": {
        "colab": {
          "base_uri": "https://localhost:8080/"
        },
        "id": "ScrQhbRicqlb",
        "outputId": "7891f005-7cff-4c2e-a08e-1e85208349b6"
      },
      "execution_count": 50,
      "outputs": [
        {
          "output_type": "stream",
          "name": "stdout",
          "text": [
            "+--------------------+---------+------------------+\n",
            "|            features|    label|        prediction|\n",
            "+--------------------+---------+------------------+\n",
            "|(22,[0,1,2,3,4,5,...| 445000.0|394610.67856197903|\n",
            "|(22,[0,1,2,3,4,5,...| 539000.0| 417756.0748121693|\n",
            "|(22,[0,1,2,3,4,5,...| 262000.0|498919.95406971464|\n",
            "|(22,[0,1,2,3,4,5,...| 460000.0| 375193.3372217367|\n",
            "|(22,[0,1,2,3,4,5,...| 349000.0| 384413.5847655248|\n",
            "|(22,[0,1,2,3,4,5,...| 400000.0| 430710.9024019449|\n",
            "|(22,[0,1,2,3,4,5,...| 540000.0| 583378.9288092984|\n",
            "|(22,[0,1,2,3,4,5,...|1047795.0| 615907.1387457177|\n",
            "|(22,[0,1,2,3,4,5,...| 750000.0| 679383.3273476355|\n",
            "|(22,[0,1,2,3,4,5,...| 795000.0| 783881.4092763781|\n",
            "|(22,[0,1,2,3,4,5,...| 391000.0| 405115.3601175099|\n",
            "|(22,[0,1,2,3,4,5,...| 473400.0| 477782.9673842507|\n",
            "|(22,[0,1,2,3,4,5,...| 659900.0| 544940.2253916911|\n",
            "|(22,[0,1,2,3,4,5,...| 797204.0| 573295.7938363433|\n",
            "|(22,[0,1,2,3,4,5,...| 550000.0| 710501.7689410577|\n",
            "|(22,[0,1,2,3,4,5,...|1400000.0|1234548.6147872612|\n",
            "|(22,[0,1,2,3,4,5,...|1250000.0| 2009586.988990994|\n",
            "|(22,[0,1,2,3,4,5,...| 355000.0| 405115.3601175099|\n",
            "|(22,[0,1,2,3,4,5,...| 300000.0|490361.97710976924|\n",
            "|(22,[0,1,2,3,4,5,...| 580000.0| 539312.7716973069|\n",
            "+--------------------+---------+------------------+\n",
            "only showing top 20 rows\n",
            "\n"
          ]
        }
      ]
    },
    {
      "cell_type": "code",
      "source": [
        "previsoes_rfr_teste = modelo_rfr.transform(teste)\n",
        "previsoes_rfr_teste.show()"
      ],
      "metadata": {
        "colab": {
          "base_uri": "https://localhost:8080/"
        },
        "id": "2rD_CKTfdAYR",
        "outputId": "a48abe4f-fed4-452b-eb68-14f0a544d719"
      },
      "execution_count": 51,
      "outputs": [
        {
          "output_type": "stream",
          "name": "stdout",
          "text": [
            "+--------------------+---------+------------------+\n",
            "|            features|    label|        prediction|\n",
            "+--------------------+---------+------------------+\n",
            "|(22,[0,1,2,3,4,5,...| 318000.0|517657.20024853747|\n",
            "|(22,[0,1,2,3,4,5,...| 335000.0|  573697.162423917|\n",
            "|(22,[0,1,2,3,4,5,...| 499000.0| 637842.4584479714|\n",
            "|(22,[0,1,2,3,4,5,...| 950000.0|1167595.0383304427|\n",
            "|(22,[0,1,2,3,4,5,...|2450000.0|2971286.1926755495|\n",
            "|(22,[0,1,2,3,4,5,...| 299000.0|349945.03189820127|\n",
            "|(22,[0,1,2,3,4,5,...| 530000.0|430649.73759648745|\n",
            "|(22,[0,1,2,3,4,5,...| 750000.0| 685372.8416881458|\n",
            "|(22,[0,1,2,3,4,5,...|1340079.0| 1070728.544720754|\n",
            "|(22,[0,1,2,3,4,5,...| 590000.0| 558086.1283167732|\n",
            "|(22,[0,1,2,3,4,5,...| 344000.0|401365.29877562507|\n",
            "|(22,[0,1,2,3,4,5,...| 580000.0| 654970.8117687985|\n",
            "|(22,[0,1,2,3,4,5,...|1350000.0|1536964.5371006876|\n",
            "|(22,[0,1,2,3,4,5,...| 730000.0|  815388.977929428|\n",
            "|(22,[0,1,2,3,4,5,...| 816000.0| 612756.8498711511|\n",
            "|(22,[0,1,2,3,4,5,...| 420000.0| 411506.8338743538|\n",
            "|(22,[0,1,2,3,4,5,...| 220000.0| 670574.9141069566|\n",
            "|(22,[0,1,2,3,4,5,...| 930000.0|1043351.2391141293|\n",
            "|(22,[0,1,2,3,4,5,...| 850000.0|  628851.614464123|\n",
            "|(22,[0,1,2,3,4,5,...| 969618.0| 898053.0082206844|\n",
            "+--------------------+---------+------------------+\n",
            "only showing top 20 rows\n",
            "\n"
          ]
        }
      ]
    },
    {
      "cell_type": "code",
      "source": [
        "print(f'''{separador}\n",
        "Relatório do modelo - floresta aleatória.\n",
        "{separador}\n",
        "Resultados do treino:\n",
        "R²: {evaluator.evaluate(previsoes_rfr_treino, {evaluator.metricName: 'r2'})}.\n",
        "RMSE: {evaluator.evaluate(previsoes_rfr_treino, {evaluator.metricName: 'rmse'})}\n",
        "{separador}\n",
        "Resultados do teste:\n",
        "R²: {evaluator.evaluate(previsoes_rfr_teste, {evaluator.metricName: 'r2'})}.\n",
        "RMSE: {evaluator.evaluate(previsoes_rfr_teste, {evaluator.metricName: 'rmse'})}\n",
        "{separador}''')"
      ],
      "metadata": {
        "colab": {
          "base_uri": "https://localhost:8080/"
        },
        "id": "N-wQmyh1dAnM",
        "outputId": "75b2257d-29ef-47e9-fbdb-fcaf2f893b9d"
      },
      "execution_count": 52,
      "outputs": [
        {
          "output_type": "stream",
          "name": "stdout",
          "text": [
            "---------------------------------------------\n",
            "Relatório do modelo - floresta aleatória.\n",
            "---------------------------------------------\n",
            "Resultados do treino:\n",
            "R²: 0.8656100615413697.\n",
            "RMSE: 538790.4899971351\n",
            "---------------------------------------------\n",
            "Resultados do teste:\n",
            "R²: 0.8322141660070951.\n",
            "RMSE: 606071.8668411385\n",
            "---------------------------------------------\n"
          ]
        }
      ]
    },
    {
      "cell_type": "code",
      "source": [
        "print(f'''{separador}\n",
        "Relatório comparativo de modelos.\n",
        "{separador}\n",
        "Resultados do treino.\n",
        "{separador}\n",
        "R²\n",
        "Regressão linear: {resumo_treino_lr.r2}.\n",
        "Árvore de decisão: {evaluator.evaluate(previsoes_dtr_treino, {evaluator.metricName: 'r2'})}.\n",
        "Floresta aleatória: {evaluator.evaluate(previsoes_rfr_treino, {evaluator.metricName: 'r2'})}.\n",
        "{separador}\n",
        "RMSE\n",
        "Regressão linear: {resumo_treino_lr.rootMeanSquaredError}\n",
        "Árvore de decisão: {evaluator.evaluate(previsoes_dtr_treino, {evaluator.metricName: 'rmse'})}.\n",
        "Floresta aleatória: {evaluator.evaluate(previsoes_rfr_treino, {evaluator.metricName: 'rmse'})}.\n",
        "{separador}\n",
        "Resultados do teste.\n",
        "{separador}\n",
        "R²\n",
        "Regressão linear: {resumo_teste_lr.r2}.\n",
        "Árvore de decisão: {evaluator.evaluate(previsoes_dtr_teste, {evaluator.metricName: 'r2'})}.\n",
        "Floresta aleatória: {evaluator.evaluate(previsoes_rfr_teste, {evaluator.metricName: 'r2'})}.\n",
        "{separador}\n",
        "RMSE\n",
        "Regressão linear: {resumo_teste_lr.rootMeanSquaredError}.\n",
        "Árvore de decisão: {evaluator.evaluate(previsoes_dtr_teste, {evaluator.metricName: 'rmse'})}.\n",
        "Floresta aleatória: {evaluator.evaluate(previsoes_rfr_teste, {evaluator.metricName: 'rmse'})}.\n",
        "{separador}''')"
      ],
      "metadata": {
        "colab": {
          "base_uri": "https://localhost:8080/"
        },
        "id": "lfSlr7vHdA5u",
        "outputId": "22a76689-56d6-4aea-f949-9a233d99e1cf"
      },
      "execution_count": 53,
      "outputs": [
        {
          "output_type": "stream",
          "name": "stdout",
          "text": [
            "---------------------------------------------\n",
            "Relatório comparativo de modelos.\n",
            "---------------------------------------------\n",
            "Resultados do treino.\n",
            "---------------------------------------------\n",
            "R²\n",
            "Regressão linear: 0.6731037630813469.\n",
            "Árvore de decisão: 0.8624081708853881.\n",
            "Floresta aleatória: 0.8656100615413697.\n",
            "---------------------------------------------\n",
            "RMSE\n",
            "Regressão linear: 840313.8170974319\n",
            "Árvore de decisão: 545171.1509904137.\n",
            "Floresta aleatória: 538790.4899971351.\n",
            "---------------------------------------------\n",
            "Resultados do teste.\n",
            "---------------------------------------------\n",
            "R²\n",
            "Regressão linear: 0.6349382623115064.\n",
            "Árvore de decisão: 0.8022925293857479.\n",
            "Floresta aleatória: 0.8322141660070951.\n",
            "---------------------------------------------\n",
            "RMSE\n",
            "Regressão linear: 893983.7772467382.\n",
            "Árvore de decisão: 657897.1719509996.\n",
            "Floresta aleatória: 606071.8668411385.\n",
            "---------------------------------------------\n"
          ]
        }
      ]
    },
    {
      "cell_type": "code",
      "source": [],
      "metadata": {
        "id": "zhWm3z5GdBJB"
      },
      "execution_count": 53,
      "outputs": []
    }
  ]
}